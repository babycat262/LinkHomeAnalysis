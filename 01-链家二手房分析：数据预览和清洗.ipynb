{
 "cells": [
  {
   "cell_type": "markdown",
   "metadata": {},
   "source": [
    "# 对链家房产在昆明，成都，杭州，上海四地区的二手房数据进行分析"
   ]
  },
  {
   "cell_type": "markdown",
   "metadata": {},
   "source": [
    "## （1） 数据预览"
   ]
  },
  {
   "cell_type": "code",
   "execution_count": 1,
   "metadata": {},
   "outputs": [],
   "source": [
    "import numpy as np\n",
    "import pandas as pd\n",
    "import re\n",
    "import matplotlib.pyplot as plt\n",
    "# %matplotlib inline"
   ]
  },
  {
   "cell_type": "code",
   "execution_count": 2,
   "metadata": {},
   "outputs": [],
   "source": [
    "# 加载各城市房屋数据\n",
    "km_df = pd.read_csv(r\"./data/kunming_house.csv\")\n",
    "cd_df = pd.read_csv(r\"./data/chengdu_house.csv\")\n",
    "hz_df = pd.read_csv(r\"./data/hangzhou_house.csv\")\n",
    "sh_df = pd.read_csv(r\"./data/shanghai_house.csv\")"
   ]
  },
  {
   "cell_type": "code",
   "execution_count": 3,
   "metadata": {
    "scrolled": false
   },
   "outputs": [],
   "source": [
    "# 数据备份\n",
    "km = km_df.copy()\n",
    "cd = cd_df.copy()\n",
    "hz = hz_df.copy()\n",
    "sh = sh_df.copy()"
   ]
  },
  {
   "cell_type": "code",
   "execution_count": 4,
   "metadata": {},
   "outputs": [],
   "source": [
    "# 创建一个列表 city_list,用于存放各个城市数据信息\n",
    "city_list = [km, cd, hz, sh]\n",
    "# 创建一个元组用于存储城市名称\n",
    "city_names = (\"KunMing\", \"ChengDu\", \"HangZhou\", \"ShangHai\")"
   ]
  },
  {
   "cell_type": "code",
   "execution_count": 5,
   "metadata": {},
   "outputs": [
    {
     "name": "stdout",
     "output_type": "stream",
     "text": [
      "<class 'pandas.core.frame.DataFrame'>\n",
      "RangeIndex: 570 entries, 0 to 569\n",
      "Data columns (total 8 columns):\n",
      "region         570 non-null object\n",
      "total_price    452 non-null float64\n",
      "house_info     570 non-null object\n",
      "publishday     290 non-null float64\n",
      "attention      570 non-null int64\n",
      "unit_price     570 non-null int64\n",
      "url            0 non-null float64\n",
      "visited        570 non-null int64\n",
      "dtypes: float64(3), int64(3), object(2)\n",
      "memory usage: 35.7+ KB\n",
      "None\n",
      "<class 'pandas.core.frame.DataFrame'>\n",
      "RangeIndex: 3000 entries, 0 to 2999\n",
      "Data columns (total 8 columns):\n",
      "house_info     3000 non-null object\n",
      "region         3000 non-null object\n",
      "publishday     133 non-null float64\n",
      "visited        3000 non-null int64\n",
      "attention      3000 non-null int64\n",
      "total_price    2439 non-null float64\n",
      "unit_price     3000 non-null int64\n",
      "url            0 non-null float64\n",
      "dtypes: float64(3), int64(3), object(2)\n",
      "memory usage: 187.6+ KB\n",
      "None\n",
      "<class 'pandas.core.frame.DataFrame'>\n",
      "RangeIndex: 2999 entries, 0 to 2998\n",
      "Data columns (total 8 columns):\n",
      "visited        2999 non-null int64\n",
      "url            0 non-null float64\n",
      "attention      2999 non-null int64\n",
      "house_info     2999 non-null object\n",
      "publishday     424 non-null float64\n",
      "unit_price     2999 non-null int64\n",
      "region         2999 non-null object\n",
      "total_price    2980 non-null float64\n",
      "dtypes: float64(3), int64(3), object(2)\n",
      "memory usage: 187.5+ KB\n",
      "None\n",
      "<class 'pandas.core.frame.DataFrame'>\n",
      "RangeIndex: 3000 entries, 0 to 2999\n",
      "Data columns (total 8 columns):\n",
      "attention      3000 non-null int64\n",
      "url            0 non-null float64\n",
      "unit_price     3000 non-null int64\n",
      "region         3000 non-null object\n",
      "house_info     3000 non-null object\n",
      "visited        3000 non-null int64\n",
      "publishday     297 non-null float64\n",
      "total_price    2993 non-null float64\n",
      "dtypes: float64(3), int64(3), object(2)\n",
      "memory usage: 187.6+ KB\n",
      "None\n"
     ]
    }
   ],
   "source": [
    "# 各城市二手房产的基本信息\n",
    "for city in city_list:\n",
    "    print(city.info())"
   ]
  },
  {
   "cell_type": "markdown",
   "metadata": {},
   "source": [
    "### 表字段说明：\n",
    " - region: 房产地域\n",
    " - house_info: 房产基本信息\n",
    " - uit_price: 单位面积售价（元/平方米）\n",
    " - total_price: 房产总价（万元）\n",
    " - publishday: 发布日期，距离当前日期的天数\n",
    " - attention: 关注数量\n",
    " - visited: 访客数量\n",
    " - url: 房产链接"
   ]
  },
  {
   "cell_type": "code",
   "execution_count": 6,
   "metadata": {},
   "outputs": [
    {
     "data": {
      "text/html": [
       "<div>\n",
       "<style scoped>\n",
       "    .dataframe tbody tr th:only-of-type {\n",
       "        vertical-align: middle;\n",
       "    }\n",
       "\n",
       "    .dataframe tbody tr th {\n",
       "        vertical-align: top;\n",
       "    }\n",
       "\n",
       "    .dataframe thead th {\n",
       "        text-align: right;\n",
       "    }\n",
       "</style>\n",
       "<table border=\"1\" class=\"dataframe\">\n",
       "  <thead>\n",
       "    <tr style=\"text-align: right;\">\n",
       "      <th></th>\n",
       "      <th>region</th>\n",
       "      <th>total_price</th>\n",
       "      <th>house_info</th>\n",
       "      <th>publishday</th>\n",
       "      <th>attention</th>\n",
       "      <th>unit_price</th>\n",
       "      <th>url</th>\n",
       "      <th>visited</th>\n",
       "    </tr>\n",
       "  </thead>\n",
       "  <tbody>\n",
       "    <tr>\n",
       "      <th>565</th>\n",
       "      <td>滇池卫城橡尚</td>\n",
       "      <td>142.0</td>\n",
       "      <td>| 2室2厅 | 90平米 | 南 北 | 其他</td>\n",
       "      <td>NaN</td>\n",
       "      <td>2</td>\n",
       "      <td>15778</td>\n",
       "      <td>NaN</td>\n",
       "      <td>2</td>\n",
       "    </tr>\n",
       "    <tr>\n",
       "      <th>566</th>\n",
       "      <td>滇池卫城蓝湾</td>\n",
       "      <td>235.0</td>\n",
       "      <td>| 5室3厅 | 153平米 | 南 | 其他</td>\n",
       "      <td>NaN</td>\n",
       "      <td>8</td>\n",
       "      <td>15360</td>\n",
       "      <td>NaN</td>\n",
       "      <td>0</td>\n",
       "    </tr>\n",
       "    <tr>\n",
       "      <th>567</th>\n",
       "      <td>广福城怡福园</td>\n",
       "      <td>116.0</td>\n",
       "      <td>| 2室2厅 | 77.56平米 | 西 | 其他</td>\n",
       "      <td>NaN</td>\n",
       "      <td>1</td>\n",
       "      <td>14957</td>\n",
       "      <td>NaN</td>\n",
       "      <td>1</td>\n",
       "    </tr>\n",
       "    <tr>\n",
       "      <th>568</th>\n",
       "      <td>怡康温泉新村B区</td>\n",
       "      <td>129.0</td>\n",
       "      <td>| 4室2厅 | 132.2平米 | 东 西 | 其他</td>\n",
       "      <td>NaN</td>\n",
       "      <td>4</td>\n",
       "      <td>9758</td>\n",
       "      <td>NaN</td>\n",
       "      <td>0</td>\n",
       "    </tr>\n",
       "    <tr>\n",
       "      <th>569</th>\n",
       "      <td>鑫都公寓</td>\n",
       "      <td>160.0</td>\n",
       "      <td>| 2室1厅 | 76平米 | 东南 | 其他</td>\n",
       "      <td>NaN</td>\n",
       "      <td>0</td>\n",
       "      <td>21053</td>\n",
       "      <td>NaN</td>\n",
       "      <td>0</td>\n",
       "    </tr>\n",
       "  </tbody>\n",
       "</table>\n",
       "</div>"
      ],
      "text/plain": [
       "        region  total_price                    house_info  publishday  \\\n",
       "565    滇池卫城橡尚         142.0      | 2室2厅 | 90平米 | 南 北 | 其他         NaN   \n",
       "566    滇池卫城蓝湾         235.0       | 5室3厅 | 153平米 | 南 | 其他         NaN   \n",
       "567    广福城怡福园         116.0     | 2室2厅 | 77.56平米 | 西 | 其他         NaN   \n",
       "568  怡康温泉新村B区         129.0   | 4室2厅 | 132.2平米 | 东 西 | 其他         NaN   \n",
       "569      鑫都公寓         160.0       | 2室1厅 | 76平米 | 东南 | 其他         NaN   \n",
       "\n",
       "     attention  unit_price  url  visited  \n",
       "565          2       15778  NaN        2  \n",
       "566          8       15360  NaN        0  \n",
       "567          1       14957  NaN        1  \n",
       "568          4        9758  NaN        0  \n",
       "569          0       21053  NaN        0  "
      ]
     },
     "execution_count": 6,
     "metadata": {},
     "output_type": "execute_result"
    }
   ],
   "source": [
    "km.tail()"
   ]
  },
  {
   "cell_type": "code",
   "execution_count": 7,
   "metadata": {},
   "outputs": [],
   "source": [
    "# 按照指定的统一索引顺序，对列名重新排序\n",
    "sort_cols = ['region','house_info','unit_price','total_price','publishday','attention','visited','url']\n",
    "\n",
    "km = km.loc[:, sort_cols]\n",
    "cd = cd.loc[:, sort_cols]\n",
    "hz = hz.loc[:, sort_cols]\n",
    "sh = sh.loc[:, sort_cols]"
   ]
  },
  {
   "cell_type": "code",
   "execution_count": 8,
   "metadata": {},
   "outputs": [
    {
     "data": {
      "text/html": [
       "<div>\n",
       "<style scoped>\n",
       "    .dataframe tbody tr th:only-of-type {\n",
       "        vertical-align: middle;\n",
       "    }\n",
       "\n",
       "    .dataframe tbody tr th {\n",
       "        vertical-align: top;\n",
       "    }\n",
       "\n",
       "    .dataframe thead th {\n",
       "        text-align: right;\n",
       "    }\n",
       "</style>\n",
       "<table border=\"1\" class=\"dataframe\">\n",
       "  <thead>\n",
       "    <tr style=\"text-align: right;\">\n",
       "      <th></th>\n",
       "      <th>region</th>\n",
       "      <th>house_info</th>\n",
       "      <th>unit_price</th>\n",
       "      <th>total_price</th>\n",
       "      <th>publishday</th>\n",
       "      <th>attention</th>\n",
       "      <th>visited</th>\n",
       "      <th>url</th>\n",
       "    </tr>\n",
       "  </thead>\n",
       "  <tbody>\n",
       "    <tr>\n",
       "      <th>216</th>\n",
       "      <td>国际花园</td>\n",
       "      <td>| 4室2厅 | 125平米 | 南 北 | 其他</td>\n",
       "      <td>15200</td>\n",
       "      <td>190.0</td>\n",
       "      <td>6.0</td>\n",
       "      <td>0</td>\n",
       "      <td>0</td>\n",
       "      <td>NaN</td>\n",
       "    </tr>\n",
       "    <tr>\n",
       "      <th>533</th>\n",
       "      <td>海伦国际</td>\n",
       "      <td>| 2室2厅 | 94平米 | 东南 | 其他</td>\n",
       "      <td>13830</td>\n",
       "      <td>130.0</td>\n",
       "      <td>21.0</td>\n",
       "      <td>2</td>\n",
       "      <td>0</td>\n",
       "      <td>NaN</td>\n",
       "    </tr>\n",
       "    <tr>\n",
       "      <th>229</th>\n",
       "      <td>滇池世界花苑</td>\n",
       "      <td>| 3室2厅 | 133平米 | 南 北 | 精装</td>\n",
       "      <td>13534</td>\n",
       "      <td>180.0</td>\n",
       "      <td>NaN</td>\n",
       "      <td>4</td>\n",
       "      <td>0</td>\n",
       "      <td>NaN</td>\n",
       "    </tr>\n",
       "    <tr>\n",
       "      <th>67</th>\n",
       "      <td>东菊新村</td>\n",
       "      <td>| 3室2厅 | 120平米 | 东南 | 简装</td>\n",
       "      <td>7667</td>\n",
       "      <td>NaN</td>\n",
       "      <td>NaN</td>\n",
       "      <td>15</td>\n",
       "      <td>2</td>\n",
       "      <td>NaN</td>\n",
       "    </tr>\n",
       "    <tr>\n",
       "      <th>167</th>\n",
       "      <td>佳华大厦住宅区</td>\n",
       "      <td>| 3室2厅 | 151.7平米 | 东 南 | 简装</td>\n",
       "      <td>18985</td>\n",
       "      <td>288.0</td>\n",
       "      <td>17.0</td>\n",
       "      <td>1</td>\n",
       "      <td>0</td>\n",
       "      <td>NaN</td>\n",
       "    </tr>\n",
       "  </tbody>\n",
       "</table>\n",
       "</div>"
      ],
      "text/plain": [
       "       region                    house_info  unit_price  total_price  \\\n",
       "216     国际花园      | 4室2厅 | 125平米 | 南 北 | 其他       15200        190.0   \n",
       "533     海伦国际        | 2室2厅 | 94平米 | 东南 | 其他       13830        130.0   \n",
       "229   滇池世界花苑      | 3室2厅 | 133平米 | 南 北 | 精装       13534        180.0   \n",
       "67      东菊新村       | 3室2厅 | 120平米 | 东南 | 简装        7667          NaN   \n",
       "167  佳华大厦住宅区    | 3室2厅 | 151.7平米 | 东 南 | 简装       18985        288.0   \n",
       "\n",
       "     publishday  attention  visited  url  \n",
       "216         6.0          0        0  NaN  \n",
       "533        21.0          2        0  NaN  \n",
       "229         NaN          4        0  NaN  \n",
       "67          NaN         15        2  NaN  \n",
       "167        17.0          1        0  NaN  "
      ]
     },
     "execution_count": 8,
     "metadata": {},
     "output_type": "execute_result"
    }
   ],
   "source": [
    "km.sample(5)"
   ]
  },
  {
   "cell_type": "code",
   "execution_count": 9,
   "metadata": {},
   "outputs": [
    {
     "data": {
      "text/html": [
       "<div>\n",
       "<style scoped>\n",
       "    .dataframe tbody tr th:only-of-type {\n",
       "        vertical-align: middle;\n",
       "    }\n",
       "\n",
       "    .dataframe tbody tr th {\n",
       "        vertical-align: top;\n",
       "    }\n",
       "\n",
       "    .dataframe thead th {\n",
       "        text-align: right;\n",
       "    }\n",
       "</style>\n",
       "<table border=\"1\" class=\"dataframe\">\n",
       "  <thead>\n",
       "    <tr style=\"text-align: right;\">\n",
       "      <th></th>\n",
       "      <th>region</th>\n",
       "      <th>house_info</th>\n",
       "      <th>unit_price</th>\n",
       "      <th>total_price</th>\n",
       "      <th>publishday</th>\n",
       "      <th>attention</th>\n",
       "      <th>visited</th>\n",
       "      <th>url</th>\n",
       "    </tr>\n",
       "  </thead>\n",
       "  <tbody>\n",
       "    <tr>\n",
       "      <th>843</th>\n",
       "      <td>麓山国际茵特拉肯A</td>\n",
       "      <td>| 3室2厅 | 128.32平米 | 东南 西北 | 其他 | 有电梯</td>\n",
       "      <td>19951</td>\n",
       "      <td>256.0</td>\n",
       "      <td>NaN</td>\n",
       "      <td>82</td>\n",
       "      <td>0</td>\n",
       "      <td>NaN</td>\n",
       "    </tr>\n",
       "    <tr>\n",
       "      <th>2783</th>\n",
       "      <td>隆鑫九熙</td>\n",
       "      <td>| 3室2厅 | 92.52平米 | 东南 | 精装 | 有电梯</td>\n",
       "      <td>20537</td>\n",
       "      <td>190.0</td>\n",
       "      <td>NaN</td>\n",
       "      <td>13</td>\n",
       "      <td>0</td>\n",
       "      <td>NaN</td>\n",
       "    </tr>\n",
       "    <tr>\n",
       "      <th>2707</th>\n",
       "      <td>大成郡</td>\n",
       "      <td>| 3室2厅 | 104.56平米 | 南 | 其他 | 有电梯</td>\n",
       "      <td>12912</td>\n",
       "      <td>135.0</td>\n",
       "      <td>NaN</td>\n",
       "      <td>114</td>\n",
       "      <td>14</td>\n",
       "      <td>NaN</td>\n",
       "    </tr>\n",
       "    <tr>\n",
       "      <th>2818</th>\n",
       "      <td>锦天国际</td>\n",
       "      <td>| 2室1厅 | 79.66平米 | 南 | 其他 | 有电梯</td>\n",
       "      <td>20086</td>\n",
       "      <td>160.0</td>\n",
       "      <td>NaN</td>\n",
       "      <td>28</td>\n",
       "      <td>16</td>\n",
       "      <td>NaN</td>\n",
       "    </tr>\n",
       "    <tr>\n",
       "      <th>1337</th>\n",
       "      <td>世纪金沙</td>\n",
       "      <td>| 2室1厅 | 90.08平米 | 东南 | 其他 | 有电梯</td>\n",
       "      <td>18697</td>\n",
       "      <td>168.5</td>\n",
       "      <td>NaN</td>\n",
       "      <td>89</td>\n",
       "      <td>20</td>\n",
       "      <td>NaN</td>\n",
       "    </tr>\n",
       "  </tbody>\n",
       "</table>\n",
       "</div>"
      ],
      "text/plain": [
       "          region                             house_info  unit_price  \\\n",
       "843   麓山国际茵特拉肯A    | 3室2厅 | 128.32平米 | 东南 西北 | 其他 | 有电梯       19951   \n",
       "2783       隆鑫九熙        | 3室2厅 | 92.52平米 | 东南 | 精装 | 有电梯       20537   \n",
       "2707        大成郡        | 3室2厅 | 104.56平米 | 南 | 其他 | 有电梯       12912   \n",
       "2818       锦天国际         | 2室1厅 | 79.66平米 | 南 | 其他 | 有电梯       20086   \n",
       "1337       世纪金沙        | 2室1厅 | 90.08平米 | 东南 | 其他 | 有电梯       18697   \n",
       "\n",
       "      total_price  publishday  attention  visited  url  \n",
       "843         256.0         NaN         82        0  NaN  \n",
       "2783        190.0         NaN         13        0  NaN  \n",
       "2707        135.0         NaN        114       14  NaN  \n",
       "2818        160.0         NaN         28       16  NaN  \n",
       "1337        168.5         NaN         89       20  NaN  "
      ]
     },
     "execution_count": 9,
     "metadata": {},
     "output_type": "execute_result"
    }
   ],
   "source": [
    "cd.sample(5)"
   ]
  },
  {
   "cell_type": "code",
   "execution_count": 10,
   "metadata": {},
   "outputs": [],
   "source": [
    "## write data to new file\n",
    "# km.to_csv(r\"./data/KunMing_houses.csv\", index=False)\n",
    "# cd.to_csv(r\"./data/ChengDu_houses.csv\", index=False)\n",
    "# hz.to_csv(r\"./data/HangZhou_houses.csv\", index=False)\n",
    "# sh.to_csv(r\"./data/ShangHai_houses.csv\", index=False)"
   ]
  },
  {
   "cell_type": "markdown",
   "metadata": {},
   "source": [
    "## （2） 数据清洗\n",
    "### 房产数据信息字段清洗详情：\n",
    " - 删除 url 列\n",
    " - 把unit_price转化为以万元为单位\n",
    " - publishday 字段缺失值填充，以均值代替\n",
    " - 将 house_info 以竖线'|'列拆分为6列：rooms, halls, area, towards, decoration, have_elevator\n",
    "   其中房屋朝向有下列对应关系：{\"北\":1, \"东北\":2, \"东\":3, \"东南\":4, \"南\":5, \"西南\":6, \"西\":7, \"西北\":8 }\n",
    " - total_price有缺失值的，根据area和unit_price计算总价，不能计算的，则剔除记录"
   ]
  },
  {
   "cell_type": "code",
   "execution_count": 11,
   "metadata": {},
   "outputs": [],
   "source": [
    "# 转化 unit_price列\n",
    "def unit_price_transform(city):\n",
    "    city['unit_price'] = city['unit_price'] * 1e-4\n",
    "    city['unit_price'] = city['unit_price'].astype('float64')\n",
    "    return city"
   ]
  },
  {
   "cell_type": "code",
   "execution_count": 12,
   "metadata": {},
   "outputs": [],
   "source": [
    "# 查看publishday常见统计指标\n",
    "def pub_day_agg(city):\n",
    "    return city.publishday.agg([\"min\",\"max\",\"mean\",\"median\",\"std\"])"
   ]
  },
  {
   "cell_type": "code",
   "execution_count": 13,
   "metadata": {},
   "outputs": [],
   "source": [
    "# 填充 'publishday'的空值\n",
    "def pub_day_fillna(city):\n",
    "    pub_mean = round(city.publishday.mean(), 1)\n",
    "    print(pub_mean)\n",
    "    city.publishday.fillna(pub_mean, inplace=True)\n",
    "    return city"
   ]
  },
  {
   "cell_type": "code",
   "execution_count": 14,
   "metadata": {},
   "outputs": [],
   "source": [
    "# house_info 列的拆分\n",
    "def split_houseInfo(city):\n",
    "    house_info_split = city.house_info.str.split(\"|\", expand=True)\n",
    "    return house_info_split"
   ]
  },
  {
   "cell_type": "code",
   "execution_count": 15,
   "metadata": {},
   "outputs": [],
   "source": [
    "# house_info_split 字段重命名\n",
    "def rename_house_info_split(house_info_split):\n",
    "    house_info_split.rename(columns={0:'0', 1:'room_hall', 2:'area', 3:'towards', 4:'decoration', 5:'have_elevator'}, inplace=True)\n",
    "    return house_info_split"
   ]
  },
  {
   "cell_type": "code",
   "execution_count": 16,
   "metadata": {},
   "outputs": [],
   "source": [
    "# 提取 area 中的数值，并转化为float64,重新赋值给area字段\n",
    "def extract_area(house_info_split):\n",
    "    house_info_split['area'] = house_info_split['area'].str[:-2]\n",
    "    house_info_split['area'] = house_info_split['area'].astype('float64')\n",
    "    return house_info_split"
   ]
  },
  {
   "cell_type": "code",
   "execution_count": 17,
   "metadata": {},
   "outputs": [],
   "source": [
    "# room_hall 字段中提取 rooms 和 halls \n",
    "def extract_rooms_halls(house_info_split):\n",
    "    house_info_split['rooms'] = house_info_split['room_hall'].str[0]\n",
    "    house_info_split['halls'] = house_info_split['room_hall'].str[2]\n",
    "    # trans dtype to int64\n",
    "    house_info_split['rooms'] = house_info_split['rooms'].astype('int64')\n",
    "    house_info_split['halls'] = house_info_split['halls'].astype('int64')\n",
    "\n",
    "    return house_info_split"
   ]
  },
  {
   "cell_type": "code",
   "execution_count": 18,
   "metadata": {},
   "outputs": [],
   "source": [
    "def concat_df(city, house_info_split):\n",
    "    # 连接两个DataFrame\n",
    "    return pd.concat([city.drop(\"house_info\", axis=1), house_info_split], axis=1)"
   ]
  },
  {
   "cell_type": "code",
   "execution_count": 19,
   "metadata": {},
   "outputs": [],
   "source": [
    "# 删除url列\n",
    "km.drop(columns=['url'], axis=1, inplace=True)\n",
    "cd.drop(columns=['url'], axis=1, inplace=True)\n",
    "hz.drop(columns=['url'], axis=1, inplace=True)\n",
    "sh.drop(columns=['url'], axis=1, inplace=True)"
   ]
  },
  {
   "cell_type": "code",
   "execution_count": 20,
   "metadata": {},
   "outputs": [
    {
     "name": "stdout",
     "output_type": "stream",
     "text": [
      "Index(['region', 'house_info', 'unit_price', 'total_price', 'publishday',\n",
      "       'attention', 'visited'],\n",
      "      dtype='object')\n",
      "Index(['region', 'house_info', 'unit_price', 'total_price', 'publishday',\n",
      "       'attention', 'visited'],\n",
      "      dtype='object')\n",
      "Index(['region', 'house_info', 'unit_price', 'total_price', 'publishday',\n",
      "       'attention', 'visited'],\n",
      "      dtype='object')\n",
      "Index(['region', 'house_info', 'unit_price', 'total_price', 'publishday',\n",
      "       'attention', 'visited'],\n",
      "      dtype='object')\n"
     ]
    }
   ],
   "source": [
    "# 检验\n",
    "print(km.columns)\n",
    "print(cd.columns)\n",
    "print(hz.columns)\n",
    "print(sh.columns)"
   ]
  },
  {
   "cell_type": "code",
   "execution_count": 21,
   "metadata": {},
   "outputs": [],
   "source": [
    "# 转化 'unit_price'列为 float类型，单位为万元\n",
    "km = unit_price_transform(km)\n",
    "cd = unit_price_transform(cd)\n",
    "hz = unit_price_transform(hz)\n",
    "sh = unit_price_transform(sh)"
   ]
  },
  {
   "cell_type": "code",
   "execution_count": 22,
   "metadata": {},
   "outputs": [
    {
     "name": "stdout",
     "output_type": "stream",
     "text": [
      "float64\n",
      "float64\n",
      "float64\n",
      "float64\n"
     ]
    }
   ],
   "source": [
    "# Check\n",
    "print(km.unit_price.dtype)\n",
    "print(cd.unit_price.dtype)\n",
    "print(hz.unit_price.dtype)\n",
    "print(sh.unit_price.dtype)"
   ]
  },
  {
   "cell_type": "code",
   "execution_count": 23,
   "metadata": {},
   "outputs": [
    {
     "name": "stdout",
     "output_type": "stream",
     "text": [
      "KunMing: \n",
      " min        3.000000\n",
      "max       31.000000\n",
      "mean      19.034483\n",
      "median    19.500000\n",
      "std        7.264088\n",
      "Name: publishday, dtype: float64\n",
      "ChengDu: \n",
      " min        5.000000\n",
      "max       31.000000\n",
      "mean      18.481203\n",
      "median    17.000000\n",
      "std        7.349089\n",
      "Name: publishday, dtype: float64\n",
      "HangZhou: \n",
      " min        3.000000\n",
      "max       31.000000\n",
      "mean      19.978774\n",
      "median    20.000000\n",
      "std        7.595695\n",
      "Name: publishday, dtype: float64\n",
      "ShangHai: \n",
      " min        6.000000\n",
      "max       31.000000\n",
      "mean      19.154882\n",
      "median    20.000000\n",
      "std        6.990552\n",
      "Name: publishday, dtype: float64\n"
     ]
    }
   ],
   "source": [
    "# 查看各个城市的publishday统计指标\n",
    "print(\"KunMing: \\n\", pub_day_agg(km))\n",
    "print(\"ChengDu: \\n\", pub_day_agg(cd))\n",
    "print(\"HangZhou: \\n\", pub_day_agg(hz))\n",
    "print(\"ShangHai: \\n\", pub_day_agg(sh))"
   ]
  },
  {
   "cell_type": "code",
   "execution_count": 24,
   "metadata": {},
   "outputs": [
    {
     "name": "stdout",
     "output_type": "stream",
     "text": [
      "19.0\n",
      "18.5\n",
      "20.0\n",
      "19.2\n"
     ]
    }
   ],
   "source": [
    "# 填充 publishday 列的空值\n",
    "km = pub_day_fillna(km)\n",
    "cd = pub_day_fillna(cd)\n",
    "hz = pub_day_fillna(hz)\n",
    "sh = pub_day_fillna(sh)"
   ]
  },
  {
   "cell_type": "code",
   "execution_count": 25,
   "metadata": {},
   "outputs": [
    {
     "name": "stdout",
     "output_type": "stream",
     "text": [
      "0\n",
      "0\n",
      "0\n",
      "0\n"
     ]
    }
   ],
   "source": [
    "# 检查是否空值填充\n",
    "print(sum(km.publishday.isnull()))\n",
    "print(sum(cd.publishday.isnull()))\n",
    "print(sum(hz.publishday.isnull()))\n",
    "print(sum(sh.publishday.isnull()))"
   ]
  },
  {
   "cell_type": "code",
   "execution_count": 26,
   "metadata": {},
   "outputs": [
    {
     "name": "stdout",
     "output_type": "stream",
     "text": [
      "<class 'pandas.core.frame.DataFrame'>\n",
      "RangeIndex: 570 entries, 0 to 569\n",
      "Data columns (total 7 columns):\n",
      "region         570 non-null object\n",
      "house_info     570 non-null object\n",
      "unit_price     570 non-null float64\n",
      "total_price    452 non-null float64\n",
      "publishday     570 non-null float64\n",
      "attention      570 non-null int64\n",
      "visited        570 non-null int64\n",
      "dtypes: float64(3), int64(2), object(2)\n",
      "memory usage: 31.2+ KB\n"
     ]
    }
   ],
   "source": [
    "km.info()"
   ]
  },
  {
   "cell_type": "code",
   "execution_count": 27,
   "metadata": {},
   "outputs": [
    {
     "name": "stdout",
     "output_type": "stream",
     "text": [
      "<class 'pandas.core.frame.DataFrame'>\n",
      "RangeIndex: 3000 entries, 0 to 2999\n",
      "Data columns (total 7 columns):\n",
      "region         3000 non-null object\n",
      "house_info     3000 non-null object\n",
      "unit_price     3000 non-null float64\n",
      "total_price    2439 non-null float64\n",
      "publishday     3000 non-null float64\n",
      "attention      3000 non-null int64\n",
      "visited        3000 non-null int64\n",
      "dtypes: float64(3), int64(2), object(2)\n",
      "memory usage: 164.1+ KB\n"
     ]
    }
   ],
   "source": [
    "cd.info()"
   ]
  },
  {
   "cell_type": "code",
   "execution_count": 28,
   "metadata": {},
   "outputs": [
    {
     "name": "stdout",
     "output_type": "stream",
     "text": [
      "<class 'pandas.core.frame.DataFrame'>\n",
      "RangeIndex: 2999 entries, 0 to 2998\n",
      "Data columns (total 7 columns):\n",
      "region         2999 non-null object\n",
      "house_info     2999 non-null object\n",
      "unit_price     2999 non-null float64\n",
      "total_price    2980 non-null float64\n",
      "publishday     2999 non-null float64\n",
      "attention      2999 non-null int64\n",
      "visited        2999 non-null int64\n",
      "dtypes: float64(3), int64(2), object(2)\n",
      "memory usage: 164.1+ KB\n"
     ]
    }
   ],
   "source": [
    "hz.info()"
   ]
  },
  {
   "cell_type": "code",
   "execution_count": 29,
   "metadata": {},
   "outputs": [
    {
     "name": "stdout",
     "output_type": "stream",
     "text": [
      "<class 'pandas.core.frame.DataFrame'>\n",
      "RangeIndex: 3000 entries, 0 to 2999\n",
      "Data columns (total 7 columns):\n",
      "region         3000 non-null object\n",
      "house_info     3000 non-null object\n",
      "unit_price     3000 non-null float64\n",
      "total_price    2993 non-null float64\n",
      "publishday     3000 non-null float64\n",
      "attention      3000 non-null int64\n",
      "visited        3000 non-null int64\n",
      "dtypes: float64(3), int64(2), object(2)\n",
      "memory usage: 164.1+ KB\n"
     ]
    }
   ],
   "source": [
    "sh.info()"
   ]
  },
  {
   "cell_type": "markdown",
   "metadata": {},
   "source": [
    "### house_info 字段的拆分"
   ]
  },
  {
   "cell_type": "code",
   "execution_count": 30,
   "metadata": {},
   "outputs": [],
   "source": [
    "# 去除 house_info 中的空白符 ' ' 以 '' 代替\n",
    "def except_space(city):\n",
    "    city.house_info = city.house_info.str.replace(' ', '')\n",
    "    return city"
   ]
  },
  {
   "cell_type": "code",
   "execution_count": 31,
   "metadata": {},
   "outputs": [],
   "source": [
    "# 四个城市house_info字段的空格处理\n",
    "km = except_space(km)\n",
    "cd = except_space(cd)\n",
    "hz = except_space(hz)\n",
    "sh = except_space(sh)"
   ]
  },
  {
   "cell_type": "code",
   "execution_count": 32,
   "metadata": {},
   "outputs": [
    {
     "data": {
      "text/html": [
       "<div>\n",
       "<style scoped>\n",
       "    .dataframe tbody tr th:only-of-type {\n",
       "        vertical-align: middle;\n",
       "    }\n",
       "\n",
       "    .dataframe tbody tr th {\n",
       "        vertical-align: top;\n",
       "    }\n",
       "\n",
       "    .dataframe thead th {\n",
       "        text-align: right;\n",
       "    }\n",
       "</style>\n",
       "<table border=\"1\" class=\"dataframe\">\n",
       "  <thead>\n",
       "    <tr style=\"text-align: right;\">\n",
       "      <th></th>\n",
       "      <th>region</th>\n",
       "      <th>house_info</th>\n",
       "      <th>unit_price</th>\n",
       "      <th>total_price</th>\n",
       "      <th>publishday</th>\n",
       "      <th>attention</th>\n",
       "      <th>visited</th>\n",
       "    </tr>\n",
       "  </thead>\n",
       "  <tbody>\n",
       "    <tr>\n",
       "      <th>0</th>\n",
       "      <td>昆明市教工二幼儿园宿舍</td>\n",
       "      <td>|2室2厅|50平米|东南西北|其他</td>\n",
       "      <td>1.3000</td>\n",
       "      <td>NaN</td>\n",
       "      <td>19.0</td>\n",
       "      <td>9</td>\n",
       "      <td>6</td>\n",
       "    </tr>\n",
       "    <tr>\n",
       "      <th>1</th>\n",
       "      <td>新亚洲体育城星宇园</td>\n",
       "      <td>|3室2厅|119平米|东南|精装</td>\n",
       "      <td>1.3446</td>\n",
       "      <td>160.0</td>\n",
       "      <td>19.0</td>\n",
       "      <td>0</td>\n",
       "      <td>0</td>\n",
       "    </tr>\n",
       "    <tr>\n",
       "      <th>2</th>\n",
       "      <td>禧瑞都</td>\n",
       "      <td>|3室2厅|147平米|东南|简装</td>\n",
       "      <td>1.1021</td>\n",
       "      <td>162.0</td>\n",
       "      <td>19.0</td>\n",
       "      <td>0</td>\n",
       "      <td>0</td>\n",
       "    </tr>\n",
       "    <tr>\n",
       "      <th>3</th>\n",
       "      <td>金色交响家园</td>\n",
       "      <td>|4室2厅|105平米|东南|简装</td>\n",
       "      <td>1.4477</td>\n",
       "      <td>152.0</td>\n",
       "      <td>15.0</td>\n",
       "      <td>1</td>\n",
       "      <td>1</td>\n",
       "    </tr>\n",
       "    <tr>\n",
       "      <th>4</th>\n",
       "      <td>金碧阳光商住楼</td>\n",
       "      <td>|3室2厅|129.15平米|南北|其他</td>\n",
       "      <td>1.8196</td>\n",
       "      <td>235.0</td>\n",
       "      <td>19.0</td>\n",
       "      <td>3</td>\n",
       "      <td>1</td>\n",
       "    </tr>\n",
       "  </tbody>\n",
       "</table>\n",
       "</div>"
      ],
      "text/plain": [
       "         region            house_info  unit_price  total_price  publishday  \\\n",
       "0  昆明市教工二幼儿园宿舍     |2室2厅|50平米|东南西北|其他      1.3000          NaN        19.0   \n",
       "1    新亚洲体育城星宇园      |3室2厅|119平米|东南|精装      1.3446        160.0        19.0   \n",
       "2          禧瑞都      |3室2厅|147平米|东南|简装      1.1021        162.0        19.0   \n",
       "3       金色交响家园      |4室2厅|105平米|东南|简装      1.4477        152.0        15.0   \n",
       "4      金碧阳光商住楼   |3室2厅|129.15平米|南北|其他      1.8196        235.0        19.0   \n",
       "\n",
       "   attention  visited  \n",
       "0          9        6  \n",
       "1          0        0  \n",
       "2          0        0  \n",
       "3          1        1  \n",
       "4          3        1  "
      ]
     },
     "execution_count": 32,
     "metadata": {},
     "output_type": "execute_result"
    }
   ],
   "source": [
    "km.head()"
   ]
  },
  {
   "cell_type": "code",
   "execution_count": 33,
   "metadata": {},
   "outputs": [
    {
     "data": {
      "text/html": [
       "<div>\n",
       "<style scoped>\n",
       "    .dataframe tbody tr th:only-of-type {\n",
       "        vertical-align: middle;\n",
       "    }\n",
       "\n",
       "    .dataframe tbody tr th {\n",
       "        vertical-align: top;\n",
       "    }\n",
       "\n",
       "    .dataframe thead th {\n",
       "        text-align: right;\n",
       "    }\n",
       "</style>\n",
       "<table border=\"1\" class=\"dataframe\">\n",
       "  <thead>\n",
       "    <tr style=\"text-align: right;\">\n",
       "      <th></th>\n",
       "      <th>0</th>\n",
       "      <th>1</th>\n",
       "      <th>2</th>\n",
       "      <th>3</th>\n",
       "      <th>4</th>\n",
       "    </tr>\n",
       "  </thead>\n",
       "  <tbody>\n",
       "    <tr>\n",
       "      <th>0</th>\n",
       "      <td></td>\n",
       "      <td>2室2厅</td>\n",
       "      <td>50平米</td>\n",
       "      <td>东南西北</td>\n",
       "      <td>其他</td>\n",
       "    </tr>\n",
       "    <tr>\n",
       "      <th>1</th>\n",
       "      <td></td>\n",
       "      <td>3室2厅</td>\n",
       "      <td>119平米</td>\n",
       "      <td>东南</td>\n",
       "      <td>精装</td>\n",
       "    </tr>\n",
       "    <tr>\n",
       "      <th>2</th>\n",
       "      <td></td>\n",
       "      <td>3室2厅</td>\n",
       "      <td>147平米</td>\n",
       "      <td>东南</td>\n",
       "      <td>简装</td>\n",
       "    </tr>\n",
       "    <tr>\n",
       "      <th>3</th>\n",
       "      <td></td>\n",
       "      <td>4室2厅</td>\n",
       "      <td>105平米</td>\n",
       "      <td>东南</td>\n",
       "      <td>简装</td>\n",
       "    </tr>\n",
       "    <tr>\n",
       "      <th>4</th>\n",
       "      <td></td>\n",
       "      <td>3室2厅</td>\n",
       "      <td>129.15平米</td>\n",
       "      <td>南北</td>\n",
       "      <td>其他</td>\n",
       "    </tr>\n",
       "  </tbody>\n",
       "</table>\n",
       "</div>"
      ],
      "text/plain": [
       "  0     1         2     3   4\n",
       "0    2室2厅      50平米  东南西北  其他\n",
       "1    3室2厅     119平米    东南  精装\n",
       "2    3室2厅     147平米    东南  简装\n",
       "3    4室2厅     105平米    东南  简装\n",
       "4    3室2厅  129.15平米    南北  其他"
      ]
     },
     "execution_count": 33,
     "metadata": {},
     "output_type": "execute_result"
    }
   ],
   "source": [
    "#昆明\n",
    "km_infos_split = split_houseInfo(km)\n",
    "km_infos_split.head()"
   ]
  },
  {
   "cell_type": "code",
   "execution_count": 34,
   "metadata": {
    "scrolled": true
   },
   "outputs": [
    {
     "name": "stdout",
     "output_type": "stream",
     "text": [
      "<class 'pandas.core.frame.DataFrame'>\n",
      "RangeIndex: 570 entries, 0 to 569\n",
      "Data columns (total 5 columns):\n",
      "0             570 non-null object\n",
      "room_hall     570 non-null object\n",
      "area          570 non-null object\n",
      "towards       570 non-null object\n",
      "decoration    570 non-null object\n",
      "dtypes: object(5)\n",
      "memory usage: 22.3+ KB\n"
     ]
    }
   ],
   "source": [
    "# 因为昆明的房产数据中没有\"是否有电梯\"的描述，故单独处理\n",
    "km_infos_split.rename(columns={0:'0', 1:'room_hall', 2:'area', 3:'towards', 4:'decoration',}, inplace=True)\n",
    "km_infos_split.info()"
   ]
  },
  {
   "cell_type": "code",
   "execution_count": 35,
   "metadata": {},
   "outputs": [],
   "source": [
    "# 昆明房产添加 have_elevator 列并转化为 str\n",
    "km_infos_split['have_elevator'] = pd.Series(np.zeros(km_infos_split.shape[0]) )\n",
    "km_infos_split['have_elevator'] = km_infos_split['have_elevator'].astype('int64')"
   ]
  },
  {
   "cell_type": "code",
   "execution_count": 36,
   "metadata": {},
   "outputs": [
    {
     "name": "stdout",
     "output_type": "stream",
     "text": [
      "object\n"
     ]
    }
   ],
   "source": [
    "# 昆明房产的 have_elevator转化为 str类型\n",
    "km_infos_split['have_elevator'] = km_infos_split['have_elevator'].astype(str)\n",
    "print(km_infos_split['have_elevator'].dtype)"
   ]
  },
  {
   "cell_type": "code",
   "execution_count": 37,
   "metadata": {},
   "outputs": [
    {
     "name": "stdout",
     "output_type": "stream",
     "text": [
      "<class 'pandas.core.frame.DataFrame'>\n",
      "RangeIndex: 570 entries, 0 to 569\n",
      "Data columns (total 6 columns):\n",
      "0                570 non-null object\n",
      "room_hall        570 non-null object\n",
      "area             570 non-null object\n",
      "towards          570 non-null object\n",
      "decoration       570 non-null object\n",
      "have_elevator    570 non-null object\n",
      "dtypes: object(6)\n",
      "memory usage: 26.8+ KB\n"
     ]
    }
   ],
   "source": [
    "km_infos_split.info()"
   ]
  },
  {
   "cell_type": "code",
   "execution_count": 38,
   "metadata": {},
   "outputs": [],
   "source": [
    "# 成都，杭州，上海\n",
    "cd_infos_split = split_houseInfo(cd)\n",
    "hz_infos_split = split_houseInfo(hz)\n",
    "sh_infos_split = split_houseInfo(sh)"
   ]
  },
  {
   "cell_type": "code",
   "execution_count": 39,
   "metadata": {},
   "outputs": [
    {
     "name": "stdout",
     "output_type": "stream",
     "text": [
      "  0     1         2     3   4    5\n",
      "0    3室2厅   105.3平米    南北  简装  有电梯\n",
      "1    3室1厅  113.65平米     西  简装  有电梯\n",
      "2    3室2厅  111.06平米    东北  精装  有电梯\n",
      "3    3室2厅  138.14平米  东南西北  精装  有电梯\n",
      "4    2室2厅   68.89平米     西  精装  有电梯\n",
      "  0     1         2   3   4    5\n",
      "0    2室1厅   45.05平米   南  精装  无电梯\n",
      "1    4室2厅  167.63平米  南北  简装  有电梯\n",
      "2    2室1厅   57.87平米  南北  精装  无电梯\n",
      "3    4室2厅  185.98平米  南北  精装  有电梯\n",
      "4    4室2厅  231.72平米  南北  毛坯  无电梯\n",
      "  0     1         2  3   4    5\n",
      "0    3室2厅   145.2平米  南  精装  有电梯\n",
      "1    3室2厅  143.69平米  南  精装  有电梯\n",
      "2    3室2厅  134.55平米  南  精装  有电梯\n",
      "3    3室1厅   97.52平米  南  简装  无电梯\n",
      "4    3室2厅  120.76平米  南  简装  有电梯\n"
     ]
    }
   ],
   "source": [
    "print(cd_infos_split.head())\n",
    "print(hz_infos_split.head())\n",
    "print(sh_infos_split.head())"
   ]
  },
  {
   "cell_type": "code",
   "execution_count": 40,
   "metadata": {
    "scrolled": true
   },
   "outputs": [],
   "source": [
    "# 成都，杭州，上海 三地的 split_infos 字段重命名\n",
    "cd_infos_split = rename_house_info_split(cd_infos_split)\n",
    "hz_infos_split = rename_house_info_split(hz_infos_split)\n",
    "sh_infos_split = rename_house_info_split(sh_infos_split)"
   ]
  },
  {
   "cell_type": "code",
   "execution_count": 41,
   "metadata": {},
   "outputs": [
    {
     "name": "stdout",
     "output_type": "stream",
     "text": [
      "<class 'pandas.core.frame.DataFrame'>\n",
      "RangeIndex: 3000 entries, 0 to 2999\n",
      "Data columns (total 6 columns):\n",
      "0                3000 non-null object\n",
      "room_hall        3000 non-null object\n",
      "area             3000 non-null object\n",
      "towards          3000 non-null object\n",
      "decoration       3000 non-null object\n",
      "have_elevator    2774 non-null object\n",
      "dtypes: object(6)\n",
      "memory usage: 140.7+ KB\n"
     ]
    }
   ],
   "source": [
    "cd_infos_split.info()"
   ]
  },
  {
   "cell_type": "code",
   "execution_count": 42,
   "metadata": {},
   "outputs": [
    {
     "data": {
      "text/html": [
       "<div>\n",
       "<style scoped>\n",
       "    .dataframe tbody tr th:only-of-type {\n",
       "        vertical-align: middle;\n",
       "    }\n",
       "\n",
       "    .dataframe tbody tr th {\n",
       "        vertical-align: top;\n",
       "    }\n",
       "\n",
       "    .dataframe thead th {\n",
       "        text-align: right;\n",
       "    }\n",
       "</style>\n",
       "<table border=\"1\" class=\"dataframe\">\n",
       "  <thead>\n",
       "    <tr style=\"text-align: right;\">\n",
       "      <th></th>\n",
       "      <th>0</th>\n",
       "      <th>room_hall</th>\n",
       "      <th>area</th>\n",
       "      <th>towards</th>\n",
       "      <th>decoration</th>\n",
       "      <th>have_elevator</th>\n",
       "    </tr>\n",
       "  </thead>\n",
       "  <tbody>\n",
       "    <tr>\n",
       "      <th>1799</th>\n",
       "      <td></td>\n",
       "      <td>3室2厅</td>\n",
       "      <td>169.41平米</td>\n",
       "      <td>南北</td>\n",
       "      <td>其他</td>\n",
       "      <td>None</td>\n",
       "    </tr>\n",
       "    <tr>\n",
       "      <th>1638</th>\n",
       "      <td></td>\n",
       "      <td>2室1厅</td>\n",
       "      <td>88.89平米</td>\n",
       "      <td>东南</td>\n",
       "      <td>其他</td>\n",
       "      <td>None</td>\n",
       "    </tr>\n",
       "    <tr>\n",
       "      <th>2041</th>\n",
       "      <td></td>\n",
       "      <td>3室2厅</td>\n",
       "      <td>111.82平米</td>\n",
       "      <td>东南</td>\n",
       "      <td>其他</td>\n",
       "      <td>None</td>\n",
       "    </tr>\n",
       "    <tr>\n",
       "      <th>148</th>\n",
       "      <td></td>\n",
       "      <td>3室1厅</td>\n",
       "      <td>85.1平米</td>\n",
       "      <td>东南</td>\n",
       "      <td>其他</td>\n",
       "      <td>None</td>\n",
       "    </tr>\n",
       "    <tr>\n",
       "      <th>2679</th>\n",
       "      <td></td>\n",
       "      <td>3室1厅</td>\n",
       "      <td>87.76平米</td>\n",
       "      <td>西南</td>\n",
       "      <td>其他</td>\n",
       "      <td>None</td>\n",
       "    </tr>\n",
       "  </tbody>\n",
       "</table>\n",
       "</div>"
      ],
      "text/plain": [
       "     0 room_hall      area towards decoration have_elevator\n",
       "1799        3室2厅  169.41平米      南北         其他          None\n",
       "1638        2室1厅   88.89平米      东南         其他          None\n",
       "2041        3室2厅  111.82平米      东南         其他          None\n",
       "148         3室1厅    85.1平米      东南         其他          None\n",
       "2679        3室1厅   87.76平米      西南         其他          None"
      ]
     },
     "execution_count": 42,
     "metadata": {},
     "output_type": "execute_result"
    }
   ],
   "source": [
    "cd_infos_split[cd_infos_split.have_elevator.isnull()].sample(5)"
   ]
  },
  {
   "cell_type": "code",
   "execution_count": 43,
   "metadata": {
    "scrolled": true
   },
   "outputs": [
    {
     "name": "stdout",
     "output_type": "stream",
     "text": [
      "<class 'pandas.core.frame.DataFrame'>\n",
      "RangeIndex: 2999 entries, 0 to 2998\n",
      "Data columns (total 6 columns):\n",
      "0                2999 non-null object\n",
      "room_hall        2999 non-null object\n",
      "area             2999 non-null object\n",
      "towards          2999 non-null object\n",
      "decoration       2999 non-null object\n",
      "have_elevator    2764 non-null object\n",
      "dtypes: object(6)\n",
      "memory usage: 140.7+ KB\n"
     ]
    }
   ],
   "source": [
    "hz_infos_split.info()"
   ]
  },
  {
   "cell_type": "code",
   "execution_count": 44,
   "metadata": {},
   "outputs": [
    {
     "name": "stdout",
     "output_type": "stream",
     "text": [
      "<class 'pandas.core.frame.DataFrame'>\n",
      "RangeIndex: 3000 entries, 0 to 2999\n",
      "Data columns (total 6 columns):\n",
      "0                3000 non-null object\n",
      "room_hall        3000 non-null object\n",
      "area             3000 non-null object\n",
      "towards          3000 non-null object\n",
      "decoration       3000 non-null object\n",
      "have_elevator    2869 non-null object\n",
      "dtypes: object(6)\n",
      "memory usage: 140.7+ KB\n"
     ]
    }
   ],
   "source": [
    "sh_infos_split.info()"
   ]
  },
  {
   "cell_type": "code",
   "execution_count": 45,
   "metadata": {},
   "outputs": [],
   "source": [
    "# 填充各个城市 have_elevator 列的空值，以'0'代替\n",
    "cd_infos_split['have_elevator'].fillna(value='0',inplace=True)\n",
    "cd_infos_split['have_elevator'] = cd_infos_split['have_elevator'].str.strip()\n",
    "\n",
    "hz_infos_split['have_elevator'].fillna(value='0',inplace=True)\n",
    "hz_infos_split['have_elevator'] = hz_infos_split['have_elevator'].str.strip()\n",
    "\n",
    "sh_infos_split['have_elevator'].fillna(value='0',inplace=True)\n",
    "sh_infos_split['have_elevator'] = sh_infos_split['have_elevator'].str.strip()"
   ]
  },
  {
   "cell_type": "code",
   "execution_count": 46,
   "metadata": {},
   "outputs": [
    {
     "name": "stdout",
     "output_type": "stream",
     "text": [
      "object\n"
     ]
    }
   ],
   "source": [
    "print(km_infos_split.have_elevator.dtype)"
   ]
  },
  {
   "cell_type": "code",
   "execution_count": 47,
   "metadata": {},
   "outputs": [
    {
     "name": "stdout",
     "output_type": "stream",
     "text": [
      "object\n"
     ]
    }
   ],
   "source": [
    "print(cd_infos_split.have_elevator.dtype)"
   ]
  },
  {
   "cell_type": "code",
   "execution_count": 48,
   "metadata": {},
   "outputs": [
    {
     "name": "stdout",
     "output_type": "stream",
     "text": [
      "object\n"
     ]
    }
   ],
   "source": [
    "print(hz_infos_split.have_elevator.dtype)"
   ]
  },
  {
   "cell_type": "code",
   "execution_count": 49,
   "metadata": {},
   "outputs": [
    {
     "name": "stdout",
     "output_type": "stream",
     "text": [
      "object\n"
     ]
    }
   ],
   "source": [
    "print(sh_infos_split.have_elevator.dtype)"
   ]
  },
  {
   "cell_type": "code",
   "execution_count": 50,
   "metadata": {},
   "outputs": [],
   "source": [
    "# 提取 area 中的数值，并转化为float64,重新赋值给area字段\n",
    "km_infos_split = extract_area(km_infos_split)\n",
    "cd_infos_split = extract_area(cd_infos_split)\n",
    "hz_infos_split = extract_area(hz_infos_split)\n",
    "sh_infos_split = extract_area(sh_infos_split)"
   ]
  },
  {
   "cell_type": "code",
   "execution_count": 51,
   "metadata": {},
   "outputs": [
    {
     "data": {
      "text/plain": [
       "364     43.27\n",
       "125     54.00\n",
       "308     69.99\n",
       "230    135.00\n",
       "30     286.86\n",
       "Name: area, dtype: float64"
      ]
     },
     "execution_count": 51,
     "metadata": {},
     "output_type": "execute_result"
    }
   ],
   "source": [
    "km_infos_split.area.sample(5)"
   ]
  },
  {
   "cell_type": "code",
   "execution_count": 52,
   "metadata": {},
   "outputs": [
    {
     "data": {
      "text/plain": [
       "1625     89.69\n",
       "445      40.73\n",
       "2632    142.00\n",
       "316     161.78\n",
       "2982    154.01\n",
       "Name: area, dtype: float64"
      ]
     },
     "execution_count": 52,
     "metadata": {},
     "output_type": "execute_result"
    }
   ],
   "source": [
    "cd_infos_split.area.sample(5)"
   ]
  },
  {
   "cell_type": "code",
   "execution_count": 53,
   "metadata": {},
   "outputs": [],
   "source": [
    "# 从room_hall字段中提取 rooms 和 halls\n",
    "km_infos_split = extract_rooms_halls(km_infos_split)\n",
    "cd_infos_split = extract_rooms_halls(cd_infos_split)\n",
    "hz_infos_split = extract_rooms_halls(hz_infos_split)\n",
    "sh_infos_split = extract_rooms_halls(sh_infos_split)"
   ]
  },
  {
   "cell_type": "code",
   "execution_count": 54,
   "metadata": {},
   "outputs": [
    {
     "name": "stdout",
     "output_type": "stream",
     "text": [
      "  0 room_hall    area towards decoration have_elevator  rooms  halls\n",
      "0        2室2厅   50.00    东南西北         其他             0      2      2\n",
      "1        3室2厅  119.00      东南         精装             0      3      2\n",
      "2        3室2厅  147.00      东南         简装             0      3      2\n",
      "3        4室2厅  105.00      东南         简装             0      4      2\n",
      "4        3室2厅  129.15      南北         其他             0      3      2\n",
      "  0 room_hall    area towards decoration have_elevator  rooms  halls\n",
      "0        2室1厅   45.05       南         精装           无电梯      2      1\n",
      "1        4室2厅  167.63      南北         简装           有电梯      4      2\n",
      "2        2室1厅   57.87      南北         精装           无电梯      2      1\n",
      "3        4室2厅  185.98      南北         精装           有电梯      4      2\n",
      "4        4室2厅  231.72      南北         毛坯           无电梯      4      2\n"
     ]
    }
   ],
   "source": [
    "print(km_infos_split.head())\n",
    "print(hz_infos_split.head())"
   ]
  },
  {
   "cell_type": "code",
   "execution_count": 55,
   "metadata": {},
   "outputs": [],
   "source": [
    "# Delete '0' and 'room_hall' columns\n",
    "km_infos_split.drop(['0', 'room_hall'], axis=1, inplace=True)\n",
    "cd_infos_split.drop(['0', 'room_hall'], axis=1, inplace=True)\n",
    "hz_infos_split.drop(['0', 'room_hall'], axis=1, inplace=True)\n",
    "sh_infos_split.drop(['0', 'room_hall'], axis=1, inplace=True)"
   ]
  },
  {
   "cell_type": "code",
   "execution_count": 56,
   "metadata": {
    "scrolled": false
   },
   "outputs": [
    {
     "name": "stdout",
     "output_type": "stream",
     "text": [
      "     area towards decoration have_elevator  rooms  halls\n",
      "0   50.00    东南西北         其他             0      2      2\n",
      "1  119.00      东南         精装             0      3      2\n",
      "2  147.00      东南         简装             0      3      2\n",
      "3  105.00      东南         简装             0      4      2\n",
      "4  129.15      南北         其他             0      3      2\n",
      "     area towards decoration have_elevator  rooms  halls\n",
      "0  105.30      南北         简装           有电梯      3      2\n",
      "1  113.65       西         简装           有电梯      3      1\n",
      "2  111.06      东北         精装           有电梯      3      2\n",
      "3  138.14    东南西北         精装           有电梯      3      2\n",
      "4   68.89       西         精装           有电梯      2      2\n",
      "     area towards decoration have_elevator  rooms  halls\n",
      "0   45.05       南         精装           无电梯      2      1\n",
      "1  167.63      南北         简装           有电梯      4      2\n",
      "2   57.87      南北         精装           无电梯      2      1\n",
      "3  185.98      南北         精装           有电梯      4      2\n",
      "4  231.72      南北         毛坯           无电梯      4      2\n",
      "     area towards decoration have_elevator  rooms  halls\n",
      "0  145.20       南         精装           有电梯      3      2\n",
      "1  143.69       南         精装           有电梯      3      2\n",
      "2  134.55       南         精装           有电梯      3      2\n",
      "3   97.52       南         简装           无电梯      3      1\n",
      "4  120.76       南         简装           有电梯      3      2\n"
     ]
    }
   ],
   "source": [
    "print(km_infos_split.head())\n",
    "print(cd_infos_split.head())\n",
    "print(hz_infos_split.head())\n",
    "print(sh_infos_split.head())"
   ]
  },
  {
   "cell_type": "code",
   "execution_count": 57,
   "metadata": {},
   "outputs": [
    {
     "data": {
      "text/plain": [
       "0    570\n",
       "Name: have_elevator, dtype: int64"
      ]
     },
     "execution_count": 57,
     "metadata": {},
     "output_type": "execute_result"
    }
   ],
   "source": [
    "km_infos_split.have_elevator.value_counts()"
   ]
  },
  {
   "cell_type": "code",
   "execution_count": 58,
   "metadata": {},
   "outputs": [
    {
     "data": {
      "text/plain": [
       "有电梯    2273\n",
       "无电梯     501\n",
       "0       226\n",
       "Name: have_elevator, dtype: int64"
      ]
     },
     "execution_count": 58,
     "metadata": {},
     "output_type": "execute_result"
    }
   ],
   "source": [
    "cd_infos_split.have_elevator.value_counts()"
   ]
  },
  {
   "cell_type": "code",
   "execution_count": 59,
   "metadata": {},
   "outputs": [
    {
     "data": {
      "text/plain": [
       "有电梯    1613\n",
       "无电梯    1151\n",
       "0       235\n",
       "Name: have_elevator, dtype: int64"
      ]
     },
     "execution_count": 59,
     "metadata": {},
     "output_type": "execute_result"
    }
   ],
   "source": [
    "hz_infos_split.have_elevator.value_counts()"
   ]
  },
  {
   "cell_type": "code",
   "execution_count": 60,
   "metadata": {},
   "outputs": [
    {
     "data": {
      "text/plain": [
       "有电梯    1640\n",
       "无电梯    1229\n",
       "0       131\n",
       "Name: have_elevator, dtype: int64"
      ]
     },
     "execution_count": 60,
     "metadata": {},
     "output_type": "execute_result"
    }
   ],
   "source": [
    "sh_infos_split.have_elevator.value_counts()"
   ]
  },
  {
   "cell_type": "code",
   "execution_count": 61,
   "metadata": {},
   "outputs": [],
   "source": [
    "# 将have_elevator列的\"有电梯\"映射为'1', 无电梯映射为'0'\n",
    "km_infos_split['have_elevator'] = km_infos_split.have_elevator.apply(lambda x: '1' if x==\"有电梯\" else '0')\n",
    "cd_infos_split['have_elevator'] = cd_infos_split.have_elevator.apply(lambda x: '1' if x==\"有电梯\" else '0')\n",
    "hz_infos_split['have_elevator'] = hz_infos_split.have_elevator.apply(lambda x: '1' if x==\"有电梯\" else '0')\n",
    "sh_infos_split['have_elevator'] = sh_infos_split.have_elevator.apply(lambda x: '1' if x==\"有电梯\" else '0')"
   ]
  },
  {
   "cell_type": "code",
   "execution_count": 62,
   "metadata": {},
   "outputs": [],
   "source": [
    "# 把 have_elevator 转化为int64\n",
    "km_infos_split['have_elevator'] = km_infos_split['have_elevator'].astype('int64')\n",
    "cd_infos_split['have_elevator'] = cd_infos_split['have_elevator'].astype('int64')\n",
    "hz_infos_split['have_elevator'] = hz_infos_split['have_elevator'].astype('int64')\n",
    "sh_infos_split['have_elevator'] = sh_infos_split['have_elevator'].astype('int64')"
   ]
  },
  {
   "cell_type": "code",
   "execution_count": 63,
   "metadata": {},
   "outputs": [
    {
     "name": "stdout",
     "output_type": "stream",
     "text": [
      "<class 'pandas.core.frame.DataFrame'>\n",
      "RangeIndex: 570 entries, 0 to 569\n",
      "Data columns (total 7 columns):\n",
      "region         570 non-null object\n",
      "house_info     570 non-null object\n",
      "unit_price     570 non-null float64\n",
      "total_price    452 non-null float64\n",
      "publishday     570 non-null float64\n",
      "attention      570 non-null int64\n",
      "visited        570 non-null int64\n",
      "dtypes: float64(3), int64(2), object(2)\n",
      "memory usage: 31.2+ KB\n"
     ]
    }
   ],
   "source": [
    "km.info()"
   ]
  },
  {
   "cell_type": "code",
   "execution_count": 64,
   "metadata": {},
   "outputs": [
    {
     "name": "stdout",
     "output_type": "stream",
     "text": [
      "<class 'pandas.core.frame.DataFrame'>\n",
      "RangeIndex: 570 entries, 0 to 569\n",
      "Data columns (total 6 columns):\n",
      "area             570 non-null float64\n",
      "towards          570 non-null object\n",
      "decoration       570 non-null object\n",
      "have_elevator    570 non-null int64\n",
      "rooms            570 non-null int64\n",
      "halls            570 non-null int64\n",
      "dtypes: float64(1), int64(3), object(2)\n",
      "memory usage: 26.8+ KB\n"
     ]
    }
   ],
   "source": [
    "km_infos_split.info()"
   ]
  },
  {
   "cell_type": "code",
   "execution_count": 65,
   "metadata": {},
   "outputs": [
    {
     "name": "stdout",
     "output_type": "stream",
     "text": [
      "<class 'pandas.core.frame.DataFrame'>\n",
      "RangeIndex: 3000 entries, 0 to 2999\n",
      "Data columns (total 7 columns):\n",
      "region         3000 non-null object\n",
      "house_info     3000 non-null object\n",
      "unit_price     3000 non-null float64\n",
      "total_price    2439 non-null float64\n",
      "publishday     3000 non-null float64\n",
      "attention      3000 non-null int64\n",
      "visited        3000 non-null int64\n",
      "dtypes: float64(3), int64(2), object(2)\n",
      "memory usage: 164.1+ KB\n"
     ]
    }
   ],
   "source": [
    "cd.info()"
   ]
  },
  {
   "cell_type": "code",
   "execution_count": 66,
   "metadata": {},
   "outputs": [
    {
     "name": "stdout",
     "output_type": "stream",
     "text": [
      "<class 'pandas.core.frame.DataFrame'>\n",
      "RangeIndex: 3000 entries, 0 to 2999\n",
      "Data columns (total 6 columns):\n",
      "area             3000 non-null float64\n",
      "towards          3000 non-null object\n",
      "decoration       3000 non-null object\n",
      "have_elevator    3000 non-null int64\n",
      "rooms            3000 non-null int64\n",
      "halls            3000 non-null int64\n",
      "dtypes: float64(1), int64(3), object(2)\n",
      "memory usage: 140.7+ KB\n"
     ]
    }
   ],
   "source": [
    "cd_infos_split.info()"
   ]
  },
  {
   "cell_type": "code",
   "execution_count": 67,
   "metadata": {},
   "outputs": [
    {
     "data": {
      "text/html": [
       "<div>\n",
       "<style scoped>\n",
       "    .dataframe tbody tr th:only-of-type {\n",
       "        vertical-align: middle;\n",
       "    }\n",
       "\n",
       "    .dataframe tbody tr th {\n",
       "        vertical-align: top;\n",
       "    }\n",
       "\n",
       "    .dataframe thead th {\n",
       "        text-align: right;\n",
       "    }\n",
       "</style>\n",
       "<table border=\"1\" class=\"dataframe\">\n",
       "  <thead>\n",
       "    <tr style=\"text-align: right;\">\n",
       "      <th></th>\n",
       "      <th>region</th>\n",
       "      <th>house_info</th>\n",
       "      <th>unit_price</th>\n",
       "      <th>total_price</th>\n",
       "      <th>publishday</th>\n",
       "      <th>attention</th>\n",
       "      <th>visited</th>\n",
       "    </tr>\n",
       "  </thead>\n",
       "  <tbody>\n",
       "    <tr>\n",
       "      <th>2994</th>\n",
       "      <td>亲亲家园一期</td>\n",
       "      <td>|4室3厅|170平米|南北|精装|无电梯</td>\n",
       "      <td>2.7059</td>\n",
       "      <td>460.0</td>\n",
       "      <td>23.0</td>\n",
       "      <td>6</td>\n",
       "      <td>0</td>\n",
       "    </tr>\n",
       "    <tr>\n",
       "      <th>2995</th>\n",
       "      <td>天阳九筑</td>\n",
       "      <td>|5室2厅|135.21平米|南|精装|有电梯</td>\n",
       "      <td>3.8459</td>\n",
       "      <td>520.0</td>\n",
       "      <td>23.0</td>\n",
       "      <td>0</td>\n",
       "      <td>0</td>\n",
       "    </tr>\n",
       "    <tr>\n",
       "      <th>2996</th>\n",
       "      <td>西溪蝶园二期</td>\n",
       "      <td>|3室2厅|170.53平米|东|精装|有电梯</td>\n",
       "      <td>5.5709</td>\n",
       "      <td>950.0</td>\n",
       "      <td>23.0</td>\n",
       "      <td>4</td>\n",
       "      <td>0</td>\n",
       "    </tr>\n",
       "    <tr>\n",
       "      <th>2997</th>\n",
       "      <td>金隅观澜时代天筑</td>\n",
       "      <td>|4室2厅|136.75平米|东南南|精装|有电梯</td>\n",
       "      <td>3.1810</td>\n",
       "      <td>435.0</td>\n",
       "      <td>23.0</td>\n",
       "      <td>1</td>\n",
       "      <td>0</td>\n",
       "    </tr>\n",
       "    <tr>\n",
       "      <th>2998</th>\n",
       "      <td>竹海水韵</td>\n",
       "      <td>|3室2厅|88.31平米|南北|精装|有电梯</td>\n",
       "      <td>2.4686</td>\n",
       "      <td>218.0</td>\n",
       "      <td>22.0</td>\n",
       "      <td>16</td>\n",
       "      <td>0</td>\n",
       "    </tr>\n",
       "  </tbody>\n",
       "</table>\n",
       "</div>"
      ],
      "text/plain": [
       "         region                 house_info  unit_price  total_price  \\\n",
       "2994    亲亲家园一期       |4室3厅|170平米|南北|精装|无电梯      2.7059        460.0   \n",
       "2995      天阳九筑     |5室2厅|135.21平米|南|精装|有电梯      3.8459        520.0   \n",
       "2996    西溪蝶园二期     |3室2厅|170.53平米|东|精装|有电梯      5.5709        950.0   \n",
       "2997  金隅观澜时代天筑   |4室2厅|136.75平米|东南南|精装|有电梯      3.1810        435.0   \n",
       "2998      竹海水韵     |3室2厅|88.31平米|南北|精装|有电梯      2.4686        218.0   \n",
       "\n",
       "      publishday  attention  visited  \n",
       "2994        23.0          6        0  \n",
       "2995        23.0          0        0  \n",
       "2996        23.0          4        0  \n",
       "2997        23.0          1        0  \n",
       "2998        22.0         16        0  "
      ]
     },
     "execution_count": 67,
     "metadata": {},
     "output_type": "execute_result"
    }
   ],
   "source": [
    "hz.tail()"
   ]
  },
  {
   "cell_type": "code",
   "execution_count": 68,
   "metadata": {},
   "outputs": [
    {
     "data": {
      "text/html": [
       "<div>\n",
       "<style scoped>\n",
       "    .dataframe tbody tr th:only-of-type {\n",
       "        vertical-align: middle;\n",
       "    }\n",
       "\n",
       "    .dataframe tbody tr th {\n",
       "        vertical-align: top;\n",
       "    }\n",
       "\n",
       "    .dataframe thead th {\n",
       "        text-align: right;\n",
       "    }\n",
       "</style>\n",
       "<table border=\"1\" class=\"dataframe\">\n",
       "  <thead>\n",
       "    <tr style=\"text-align: right;\">\n",
       "      <th></th>\n",
       "      <th>area</th>\n",
       "      <th>towards</th>\n",
       "      <th>decoration</th>\n",
       "      <th>have_elevator</th>\n",
       "      <th>rooms</th>\n",
       "      <th>halls</th>\n",
       "    </tr>\n",
       "  </thead>\n",
       "  <tbody>\n",
       "    <tr>\n",
       "      <th>2994</th>\n",
       "      <td>170.00</td>\n",
       "      <td>南北</td>\n",
       "      <td>精装</td>\n",
       "      <td>0</td>\n",
       "      <td>4</td>\n",
       "      <td>3</td>\n",
       "    </tr>\n",
       "    <tr>\n",
       "      <th>2995</th>\n",
       "      <td>135.21</td>\n",
       "      <td>南</td>\n",
       "      <td>精装</td>\n",
       "      <td>1</td>\n",
       "      <td>5</td>\n",
       "      <td>2</td>\n",
       "    </tr>\n",
       "    <tr>\n",
       "      <th>2996</th>\n",
       "      <td>170.53</td>\n",
       "      <td>东</td>\n",
       "      <td>精装</td>\n",
       "      <td>1</td>\n",
       "      <td>3</td>\n",
       "      <td>2</td>\n",
       "    </tr>\n",
       "    <tr>\n",
       "      <th>2997</th>\n",
       "      <td>136.75</td>\n",
       "      <td>东南南</td>\n",
       "      <td>精装</td>\n",
       "      <td>1</td>\n",
       "      <td>4</td>\n",
       "      <td>2</td>\n",
       "    </tr>\n",
       "    <tr>\n",
       "      <th>2998</th>\n",
       "      <td>88.31</td>\n",
       "      <td>南北</td>\n",
       "      <td>精装</td>\n",
       "      <td>1</td>\n",
       "      <td>3</td>\n",
       "      <td>2</td>\n",
       "    </tr>\n",
       "  </tbody>\n",
       "</table>\n",
       "</div>"
      ],
      "text/plain": [
       "        area towards decoration  have_elevator  rooms  halls\n",
       "2994  170.00      南北         精装              0      4      3\n",
       "2995  135.21       南         精装              1      5      2\n",
       "2996  170.53       东         精装              1      3      2\n",
       "2997  136.75     东南南         精装              1      4      2\n",
       "2998   88.31      南北         精装              1      3      2"
      ]
     },
     "execution_count": 68,
     "metadata": {},
     "output_type": "execute_result"
    }
   ],
   "source": [
    "hz_infos_split.tail()"
   ]
  },
  {
   "cell_type": "code",
   "execution_count": 69,
   "metadata": {},
   "outputs": [],
   "source": [
    "# 拼接四个城市的原始数据和infos拆分后的字段为一个整体\n",
    "km_clean = concat_df(km, km_infos_split)\n",
    "cd_clean = concat_df(cd, cd_infos_split)\n",
    "hz_clean = concat_df(hz, hz_infos_split)\n",
    "sh_clean = concat_df(sh, sh_infos_split)"
   ]
  },
  {
   "cell_type": "code",
   "execution_count": 70,
   "metadata": {},
   "outputs": [
    {
     "name": "stdout",
     "output_type": "stream",
     "text": [
      "<class 'pandas.core.frame.DataFrame'>\n",
      "RangeIndex: 570 entries, 0 to 569\n",
      "Data columns (total 12 columns):\n",
      "region           570 non-null object\n",
      "unit_price       570 non-null float64\n",
      "total_price      452 non-null float64\n",
      "publishday       570 non-null float64\n",
      "attention        570 non-null int64\n",
      "visited          570 non-null int64\n",
      "area             570 non-null float64\n",
      "towards          570 non-null object\n",
      "decoration       570 non-null object\n",
      "have_elevator    570 non-null int64\n",
      "rooms            570 non-null int64\n",
      "halls            570 non-null int64\n",
      "dtypes: float64(4), int64(5), object(3)\n",
      "memory usage: 53.5+ KB\n"
     ]
    }
   ],
   "source": [
    "km_clean.info()"
   ]
  },
  {
   "cell_type": "code",
   "execution_count": 71,
   "metadata": {},
   "outputs": [
    {
     "name": "stdout",
     "output_type": "stream",
     "text": [
      "<class 'pandas.core.frame.DataFrame'>\n",
      "RangeIndex: 3000 entries, 0 to 2999\n",
      "Data columns (total 12 columns):\n",
      "region           3000 non-null object\n",
      "unit_price       3000 non-null float64\n",
      "total_price      2439 non-null float64\n",
      "publishday       3000 non-null float64\n",
      "attention        3000 non-null int64\n",
      "visited          3000 non-null int64\n",
      "area             3000 non-null float64\n",
      "towards          3000 non-null object\n",
      "decoration       3000 non-null object\n",
      "have_elevator    3000 non-null int64\n",
      "rooms            3000 non-null int64\n",
      "halls            3000 non-null int64\n",
      "dtypes: float64(4), int64(5), object(3)\n",
      "memory usage: 281.3+ KB\n"
     ]
    }
   ],
   "source": [
    "cd_clean.info()"
   ]
  },
  {
   "cell_type": "code",
   "execution_count": 72,
   "metadata": {},
   "outputs": [
    {
     "name": "stdout",
     "output_type": "stream",
     "text": [
      "<class 'pandas.core.frame.DataFrame'>\n",
      "RangeIndex: 3000 entries, 0 to 2999\n",
      "Data columns (total 12 columns):\n",
      "region           3000 non-null object\n",
      "unit_price       3000 non-null float64\n",
      "total_price      2993 non-null float64\n",
      "publishday       3000 non-null float64\n",
      "attention        3000 non-null int64\n",
      "visited          3000 non-null int64\n",
      "area             3000 non-null float64\n",
      "towards          3000 non-null object\n",
      "decoration       3000 non-null object\n",
      "have_elevator    3000 non-null int64\n",
      "rooms            3000 non-null int64\n",
      "halls            3000 non-null int64\n",
      "dtypes: float64(4), int64(5), object(3)\n",
      "memory usage: 281.3+ KB\n"
     ]
    }
   ],
   "source": [
    "sh_clean.info()"
   ]
  },
  {
   "cell_type": "code",
   "execution_count": 73,
   "metadata": {},
   "outputs": [
    {
     "name": "stdout",
     "output_type": "stream",
     "text": [
      "<class 'pandas.core.frame.DataFrame'>\n",
      "RangeIndex: 2999 entries, 0 to 2998\n",
      "Data columns (total 12 columns):\n",
      "region           2999 non-null object\n",
      "unit_price       2999 non-null float64\n",
      "total_price      2980 non-null float64\n",
      "publishday       2999 non-null float64\n",
      "attention        2999 non-null int64\n",
      "visited          2999 non-null int64\n",
      "area             2999 non-null float64\n",
      "towards          2999 non-null object\n",
      "decoration       2999 non-null object\n",
      "have_elevator    2999 non-null int64\n",
      "rooms            2999 non-null int64\n",
      "halls            2999 non-null int64\n",
      "dtypes: float64(4), int64(5), object(3)\n",
      "memory usage: 281.2+ KB\n"
     ]
    }
   ],
   "source": [
    "hz_clean.info()"
   ]
  },
  {
   "cell_type": "markdown",
   "metadata": {},
   "source": [
    "### 异常值处理"
   ]
  },
  {
   "cell_type": "markdown",
   "metadata": {},
   "source": [
    " - 昆明市的房产数据存在异常值的处理"
   ]
  },
  {
   "cell_type": "code",
   "execution_count": 74,
   "metadata": {},
   "outputs": [],
   "source": [
    "# 对 area 计算IQR\n",
    "def get_area_iqr(df):\n",
    "    q1 = df.area.quantile(q=0.25)\n",
    "    q3 = df.area.quantile(q=0.75)\n",
    "    area_IQR = q3 - q1\n",
    "    return q1,q3,area_IQR"
   ]
  },
  {
   "cell_type": "code",
   "execution_count": 75,
   "metadata": {},
   "outputs": [],
   "source": [
    "# 对 unit_price 计算IQR\n",
    "def get_unit_iqr(df):\n",
    "    q1 = df.unit_price.quantile(q=0.25)\n",
    "    q3 = df.unit_price.quantile(q=0.75)\n",
    "    unit_IQR = q3 - q1\n",
    "    return q1,q3,unit_IQR"
   ]
  },
  {
   "cell_type": "code",
   "execution_count": 76,
   "metadata": {},
   "outputs": [],
   "source": [
    "# 对 total_price 计算IQR\n",
    "def get_total_price_iqr(df):\n",
    "    q1 = df.total_price.quantile(q=0.25)\n",
    "    q3 = df.total_price.quantile(q=0.75)\n",
    "    tp_IQR = q3 - q1\n",
    "    return q1,q3,tp_IQR"
   ]
  },
  {
   "cell_type": "code",
   "execution_count": 77,
   "metadata": {},
   "outputs": [
    {
     "data": {
      "text/html": [
       "<div>\n",
       "<style scoped>\n",
       "    .dataframe tbody tr th:only-of-type {\n",
       "        vertical-align: middle;\n",
       "    }\n",
       "\n",
       "    .dataframe tbody tr th {\n",
       "        vertical-align: top;\n",
       "    }\n",
       "\n",
       "    .dataframe thead th {\n",
       "        text-align: right;\n",
       "    }\n",
       "</style>\n",
       "<table border=\"1\" class=\"dataframe\">\n",
       "  <thead>\n",
       "    <tr style=\"text-align: right;\">\n",
       "      <th></th>\n",
       "      <th>unit_price</th>\n",
       "      <th>total_price</th>\n",
       "      <th>publishday</th>\n",
       "      <th>attention</th>\n",
       "      <th>visited</th>\n",
       "      <th>area</th>\n",
       "      <th>have_elevator</th>\n",
       "      <th>rooms</th>\n",
       "      <th>halls</th>\n",
       "    </tr>\n",
       "  </thead>\n",
       "  <tbody>\n",
       "    <tr>\n",
       "      <th>count</th>\n",
       "      <td>570.000000</td>\n",
       "      <td>452.000000</td>\n",
       "      <td>570.000000</td>\n",
       "      <td>570.000000</td>\n",
       "      <td>570.000000</td>\n",
       "      <td>570.000000</td>\n",
       "      <td>570.0</td>\n",
       "      <td>570.000000</td>\n",
       "      <td>570.000000</td>\n",
       "    </tr>\n",
       "    <tr>\n",
       "      <th>mean</th>\n",
       "      <td>1.354869</td>\n",
       "      <td>184.846239</td>\n",
       "      <td>19.017544</td>\n",
       "      <td>2.417544</td>\n",
       "      <td>0.833333</td>\n",
       "      <td>117.020544</td>\n",
       "      <td>0.0</td>\n",
       "      <td>3.089474</td>\n",
       "      <td>1.885965</td>\n",
       "    </tr>\n",
       "    <tr>\n",
       "      <th>std</th>\n",
       "      <td>0.429700</td>\n",
       "      <td>149.793602</td>\n",
       "      <td>5.176978</td>\n",
       "      <td>3.702615</td>\n",
       "      <td>2.011901</td>\n",
       "      <td>52.285880</td>\n",
       "      <td>0.0</td>\n",
       "      <td>1.034074</td>\n",
       "      <td>0.466049</td>\n",
       "    </tr>\n",
       "    <tr>\n",
       "      <th>min</th>\n",
       "      <td>0.612600</td>\n",
       "      <td>22.300000</td>\n",
       "      <td>3.000000</td>\n",
       "      <td>0.000000</td>\n",
       "      <td>0.000000</td>\n",
       "      <td>27.900000</td>\n",
       "      <td>0.0</td>\n",
       "      <td>1.000000</td>\n",
       "      <td>0.000000</td>\n",
       "    </tr>\n",
       "    <tr>\n",
       "      <th>25%</th>\n",
       "      <td>1.063875</td>\n",
       "      <td>128.000000</td>\n",
       "      <td>19.000000</td>\n",
       "      <td>0.000000</td>\n",
       "      <td>0.000000</td>\n",
       "      <td>87.125000</td>\n",
       "      <td>0.0</td>\n",
       "      <td>2.000000</td>\n",
       "      <td>2.000000</td>\n",
       "    </tr>\n",
       "    <tr>\n",
       "      <th>50%</th>\n",
       "      <td>1.263000</td>\n",
       "      <td>155.000000</td>\n",
       "      <td>19.000000</td>\n",
       "      <td>1.000000</td>\n",
       "      <td>0.000000</td>\n",
       "      <td>115.000000</td>\n",
       "      <td>0.0</td>\n",
       "      <td>3.000000</td>\n",
       "      <td>2.000000</td>\n",
       "    </tr>\n",
       "    <tr>\n",
       "      <th>75%</th>\n",
       "      <td>1.580650</td>\n",
       "      <td>210.000000</td>\n",
       "      <td>20.000000</td>\n",
       "      <td>3.000000</td>\n",
       "      <td>1.000000</td>\n",
       "      <td>140.000000</td>\n",
       "      <td>0.0</td>\n",
       "      <td>4.000000</td>\n",
       "      <td>2.000000</td>\n",
       "    </tr>\n",
       "    <tr>\n",
       "      <th>max</th>\n",
       "      <td>4.017300</td>\n",
       "      <td>2800.000000</td>\n",
       "      <td>31.000000</td>\n",
       "      <td>31.000000</td>\n",
       "      <td>17.000000</td>\n",
       "      <td>697.000000</td>\n",
       "      <td>0.0</td>\n",
       "      <td>8.000000</td>\n",
       "      <td>5.000000</td>\n",
       "    </tr>\n",
       "  </tbody>\n",
       "</table>\n",
       "</div>"
      ],
      "text/plain": [
       "       unit_price  total_price  publishday   attention     visited  \\\n",
       "count  570.000000   452.000000  570.000000  570.000000  570.000000   \n",
       "mean     1.354869   184.846239   19.017544    2.417544    0.833333   \n",
       "std      0.429700   149.793602    5.176978    3.702615    2.011901   \n",
       "min      0.612600    22.300000    3.000000    0.000000    0.000000   \n",
       "25%      1.063875   128.000000   19.000000    0.000000    0.000000   \n",
       "50%      1.263000   155.000000   19.000000    1.000000    0.000000   \n",
       "75%      1.580650   210.000000   20.000000    3.000000    1.000000   \n",
       "max      4.017300  2800.000000   31.000000   31.000000   17.000000   \n",
       "\n",
       "             area  have_elevator       rooms       halls  \n",
       "count  570.000000          570.0  570.000000  570.000000  \n",
       "mean   117.020544            0.0    3.089474    1.885965  \n",
       "std     52.285880            0.0    1.034074    0.466049  \n",
       "min     27.900000            0.0    1.000000    0.000000  \n",
       "25%     87.125000            0.0    2.000000    2.000000  \n",
       "50%    115.000000            0.0    3.000000    2.000000  \n",
       "75%    140.000000            0.0    4.000000    2.000000  \n",
       "max    697.000000            0.0    8.000000    5.000000  "
      ]
     },
     "execution_count": 77,
     "metadata": {},
     "output_type": "execute_result"
    }
   ],
   "source": [
    "km_clean.describe()"
   ]
  },
  {
   "cell_type": "code",
   "execution_count": 78,
   "metadata": {},
   "outputs": [],
   "source": [
    "## 计算昆明市房产的q1,q3 以及IQR\n",
    "# q1, q3, area_IQR = get_area_iqr(km_clean)\n",
    "\n",
    "## 查询异常值记录 条件： err_val <= q1 - 1.5*IQR, err_val >= q3 + 1.5*IQR  \n",
    "# km_clean[(km_clean.area<(q1 - 1.5*area_IQR)) | (km_clean.area>(q3 + 1.5*area_IQR))]"
   ]
  },
  {
   "cell_type": "code",
   "execution_count": 79,
   "metadata": {},
   "outputs": [
    {
     "data": {
      "text/html": [
       "<div>\n",
       "<style scoped>\n",
       "    .dataframe tbody tr th:only-of-type {\n",
       "        vertical-align: middle;\n",
       "    }\n",
       "\n",
       "    .dataframe tbody tr th {\n",
       "        vertical-align: top;\n",
       "    }\n",
       "\n",
       "    .dataframe thead th {\n",
       "        text-align: right;\n",
       "    }\n",
       "</style>\n",
       "<table border=\"1\" class=\"dataframe\">\n",
       "  <thead>\n",
       "    <tr style=\"text-align: right;\">\n",
       "      <th></th>\n",
       "      <th>region</th>\n",
       "      <th>unit_price</th>\n",
       "      <th>total_price</th>\n",
       "      <th>publishday</th>\n",
       "      <th>attention</th>\n",
       "      <th>visited</th>\n",
       "      <th>area</th>\n",
       "      <th>towards</th>\n",
       "      <th>decoration</th>\n",
       "      <th>have_elevator</th>\n",
       "      <th>rooms</th>\n",
       "      <th>halls</th>\n",
       "    </tr>\n",
       "  </thead>\n",
       "  <tbody>\n",
       "    <tr>\n",
       "      <th>7</th>\n",
       "      <td>云百大白龙潭善书院</td>\n",
       "      <td>2.8995</td>\n",
       "      <td>980.0</td>\n",
       "      <td>8.0</td>\n",
       "      <td>0</td>\n",
       "      <td>0</td>\n",
       "      <td>338.0</td>\n",
       "      <td>南北</td>\n",
       "      <td>其他</td>\n",
       "      <td>0</td>\n",
       "      <td>5</td>\n",
       "      <td>2</td>\n",
       "    </tr>\n",
       "    <tr>\n",
       "      <th>43</th>\n",
       "      <td>山海湾</td>\n",
       "      <td>4.0173</td>\n",
       "      <td>2800.0</td>\n",
       "      <td>19.0</td>\n",
       "      <td>3</td>\n",
       "      <td>0</td>\n",
       "      <td>697.0</td>\n",
       "      <td>南</td>\n",
       "      <td>毛坯</td>\n",
       "      <td>0</td>\n",
       "      <td>8</td>\n",
       "      <td>4</td>\n",
       "    </tr>\n",
       "  </tbody>\n",
       "</table>\n",
       "</div>"
      ],
      "text/plain": [
       "        region  unit_price  total_price  publishday  attention  visited  \\\n",
       "7   云百大白龙潭善书院       2.8995        980.0         8.0          0        0   \n",
       "43        山海湾       4.0173       2800.0        19.0          3        0   \n",
       "\n",
       "     area towards decoration  have_elevator  rooms  halls  \n",
       "7   338.0      南北         其他              0      5      2  \n",
       "43  697.0       南         毛坯              0      8      4  "
      ]
     },
     "execution_count": 79,
     "metadata": {},
     "output_type": "execute_result"
    }
   ],
   "source": [
    "# 选取异常数据的切片 house_err\n",
    "house_err = km_clean[(km_clean.area>350)|(km_clean.total_price>800)]\n",
    "house_err"
   ]
  },
  {
   "cell_type": "code",
   "execution_count": 80,
   "metadata": {},
   "outputs": [],
   "source": [
    "# 删除切片中的异常记录\n",
    "km_clean.drop(labels=house_err.index, axis=0, inplace=True)"
   ]
  },
  {
   "cell_type": "code",
   "execution_count": 81,
   "metadata": {},
   "outputs": [
    {
     "data": {
      "text/html": [
       "<div>\n",
       "<style scoped>\n",
       "    .dataframe tbody tr th:only-of-type {\n",
       "        vertical-align: middle;\n",
       "    }\n",
       "\n",
       "    .dataframe tbody tr th {\n",
       "        vertical-align: top;\n",
       "    }\n",
       "\n",
       "    .dataframe thead th {\n",
       "        text-align: right;\n",
       "    }\n",
       "</style>\n",
       "<table border=\"1\" class=\"dataframe\">\n",
       "  <thead>\n",
       "    <tr style=\"text-align: right;\">\n",
       "      <th></th>\n",
       "      <th>region</th>\n",
       "      <th>unit_price</th>\n",
       "      <th>total_price</th>\n",
       "      <th>publishday</th>\n",
       "      <th>attention</th>\n",
       "      <th>visited</th>\n",
       "      <th>area</th>\n",
       "      <th>towards</th>\n",
       "      <th>decoration</th>\n",
       "      <th>have_elevator</th>\n",
       "      <th>rooms</th>\n",
       "      <th>halls</th>\n",
       "    </tr>\n",
       "  </thead>\n",
       "  <tbody>\n",
       "  </tbody>\n",
       "</table>\n",
       "</div>"
      ],
      "text/plain": [
       "Empty DataFrame\n",
       "Columns: [region, unit_price, total_price, publishday, attention, visited, area, towards, decoration, have_elevator, rooms, halls]\n",
       "Index: []"
      ]
     },
     "execution_count": 81,
     "metadata": {},
     "output_type": "execute_result"
    }
   ],
   "source": [
    "# 检验\n",
    "km_clean[(km_clean.area>350)|(km_clean.total_price>800.0)]"
   ]
  },
  {
   "cell_type": "markdown",
   "metadata": {},
   "source": [
    " - 成都市的房产数据存在异常值的处理"
   ]
  },
  {
   "cell_type": "code",
   "execution_count": 82,
   "metadata": {},
   "outputs": [
    {
     "data": {
      "text/html": [
       "<div>\n",
       "<style scoped>\n",
       "    .dataframe tbody tr th:only-of-type {\n",
       "        vertical-align: middle;\n",
       "    }\n",
       "\n",
       "    .dataframe tbody tr th {\n",
       "        vertical-align: top;\n",
       "    }\n",
       "\n",
       "    .dataframe thead th {\n",
       "        text-align: right;\n",
       "    }\n",
       "</style>\n",
       "<table border=\"1\" class=\"dataframe\">\n",
       "  <thead>\n",
       "    <tr style=\"text-align: right;\">\n",
       "      <th></th>\n",
       "      <th>unit_price</th>\n",
       "      <th>total_price</th>\n",
       "      <th>publishday</th>\n",
       "      <th>attention</th>\n",
       "      <th>visited</th>\n",
       "      <th>area</th>\n",
       "      <th>have_elevator</th>\n",
       "      <th>rooms</th>\n",
       "      <th>halls</th>\n",
       "    </tr>\n",
       "  </thead>\n",
       "  <tbody>\n",
       "    <tr>\n",
       "      <th>count</th>\n",
       "      <td>3000.000000</td>\n",
       "      <td>2439.000000</td>\n",
       "      <td>3000.000000</td>\n",
       "      <td>3000.000000</td>\n",
       "      <td>3000.000000</td>\n",
       "      <td>3000.000000</td>\n",
       "      <td>3000.000000</td>\n",
       "      <td>3000.000000</td>\n",
       "      <td>3000.000000</td>\n",
       "    </tr>\n",
       "    <tr>\n",
       "      <th>mean</th>\n",
       "      <td>1.674727</td>\n",
       "      <td>203.713407</td>\n",
       "      <td>18.499167</td>\n",
       "      <td>51.360333</td>\n",
       "      <td>8.263333</td>\n",
       "      <td>104.847847</td>\n",
       "      <td>0.757667</td>\n",
       "      <td>2.699333</td>\n",
       "      <td>1.651667</td>\n",
       "    </tr>\n",
       "    <tr>\n",
       "      <th>std</th>\n",
       "      <td>0.595665</td>\n",
       "      <td>119.304585</td>\n",
       "      <td>1.541820</td>\n",
       "      <td>57.786477</td>\n",
       "      <td>9.804830</td>\n",
       "      <td>40.214693</td>\n",
       "      <td>0.428566</td>\n",
       "      <td>0.846466</td>\n",
       "      <td>0.505716</td>\n",
       "    </tr>\n",
       "    <tr>\n",
       "      <th>min</th>\n",
       "      <td>0.521500</td>\n",
       "      <td>28.600000</td>\n",
       "      <td>5.000000</td>\n",
       "      <td>0.000000</td>\n",
       "      <td>0.000000</td>\n",
       "      <td>25.540000</td>\n",
       "      <td>0.000000</td>\n",
       "      <td>1.000000</td>\n",
       "      <td>0.000000</td>\n",
       "    </tr>\n",
       "    <tr>\n",
       "      <th>25%</th>\n",
       "      <td>1.245175</td>\n",
       "      <td>130.000000</td>\n",
       "      <td>18.500000</td>\n",
       "      <td>17.000000</td>\n",
       "      <td>1.000000</td>\n",
       "      <td>79.695000</td>\n",
       "      <td>1.000000</td>\n",
       "      <td>2.000000</td>\n",
       "      <td>1.000000</td>\n",
       "    </tr>\n",
       "    <tr>\n",
       "      <th>50%</th>\n",
       "      <td>1.549400</td>\n",
       "      <td>166.000000</td>\n",
       "      <td>18.500000</td>\n",
       "      <td>34.000000</td>\n",
       "      <td>5.000000</td>\n",
       "      <td>92.280000</td>\n",
       "      <td>1.000000</td>\n",
       "      <td>3.000000</td>\n",
       "      <td>2.000000</td>\n",
       "    </tr>\n",
       "    <tr>\n",
       "      <th>75%</th>\n",
       "      <td>1.968800</td>\n",
       "      <td>238.000000</td>\n",
       "      <td>18.500000</td>\n",
       "      <td>64.000000</td>\n",
       "      <td>12.000000</td>\n",
       "      <td>126.292500</td>\n",
       "      <td>1.000000</td>\n",
       "      <td>3.000000</td>\n",
       "      <td>2.000000</td>\n",
       "    </tr>\n",
       "    <tr>\n",
       "      <th>max</th>\n",
       "      <td>5.431000</td>\n",
       "      <td>1300.000000</td>\n",
       "      <td>31.000000</td>\n",
       "      <td>768.000000</td>\n",
       "      <td>107.000000</td>\n",
       "      <td>452.050000</td>\n",
       "      <td>1.000000</td>\n",
       "      <td>7.000000</td>\n",
       "      <td>5.000000</td>\n",
       "    </tr>\n",
       "  </tbody>\n",
       "</table>\n",
       "</div>"
      ],
      "text/plain": [
       "        unit_price  total_price   publishday    attention      visited  \\\n",
       "count  3000.000000  2439.000000  3000.000000  3000.000000  3000.000000   \n",
       "mean      1.674727   203.713407    18.499167    51.360333     8.263333   \n",
       "std       0.595665   119.304585     1.541820    57.786477     9.804830   \n",
       "min       0.521500    28.600000     5.000000     0.000000     0.000000   \n",
       "25%       1.245175   130.000000    18.500000    17.000000     1.000000   \n",
       "50%       1.549400   166.000000    18.500000    34.000000     5.000000   \n",
       "75%       1.968800   238.000000    18.500000    64.000000    12.000000   \n",
       "max       5.431000  1300.000000    31.000000   768.000000   107.000000   \n",
       "\n",
       "              area  have_elevator        rooms        halls  \n",
       "count  3000.000000    3000.000000  3000.000000  3000.000000  \n",
       "mean    104.847847       0.757667     2.699333     1.651667  \n",
       "std      40.214693       0.428566     0.846466     0.505716  \n",
       "min      25.540000       0.000000     1.000000     0.000000  \n",
       "25%      79.695000       1.000000     2.000000     1.000000  \n",
       "50%      92.280000       1.000000     3.000000     2.000000  \n",
       "75%     126.292500       1.000000     3.000000     2.000000  \n",
       "max     452.050000       1.000000     7.000000     5.000000  "
      ]
     },
     "execution_count": 82,
     "metadata": {},
     "output_type": "execute_result"
    }
   ],
   "source": [
    "cd_clean.describe()"
   ]
  },
  {
   "cell_type": "code",
   "execution_count": 83,
   "metadata": {},
   "outputs": [],
   "source": [
    "## 计算成都市房产area的q1,q3 以及IQR\n",
    "# q1, q3, area_IQR = get_area_iqr(cd_clean)\n",
    "\n",
    "## 查询异常值记录 条件： err_val <= q1 - 1.5*IQR, err_val >= q3 + 1.5*IQR  \n",
    "# cd_clean[(cd_clean.area<(q1 - 1.5*area_IQR)) | (cd_clean.area>(q3 + 1.5*area_IQR))]"
   ]
  },
  {
   "cell_type": "code",
   "execution_count": 84,
   "metadata": {},
   "outputs": [
    {
     "data": {
      "text/html": [
       "<div>\n",
       "<style scoped>\n",
       "    .dataframe tbody tr th:only-of-type {\n",
       "        vertical-align: middle;\n",
       "    }\n",
       "\n",
       "    .dataframe tbody tr th {\n",
       "        vertical-align: top;\n",
       "    }\n",
       "\n",
       "    .dataframe thead th {\n",
       "        text-align: right;\n",
       "    }\n",
       "</style>\n",
       "<table border=\"1\" class=\"dataframe\">\n",
       "  <thead>\n",
       "    <tr style=\"text-align: right;\">\n",
       "      <th></th>\n",
       "      <th>region</th>\n",
       "      <th>unit_price</th>\n",
       "      <th>total_price</th>\n",
       "      <th>publishday</th>\n",
       "      <th>attention</th>\n",
       "      <th>visited</th>\n",
       "      <th>area</th>\n",
       "      <th>towards</th>\n",
       "      <th>decoration</th>\n",
       "      <th>have_elevator</th>\n",
       "      <th>rooms</th>\n",
       "      <th>halls</th>\n",
       "    </tr>\n",
       "  </thead>\n",
       "  <tbody>\n",
       "    <tr>\n",
       "      <th>975</th>\n",
       "      <td>中粮祥云一期</td>\n",
       "      <td>1.5707</td>\n",
       "      <td>710.0</td>\n",
       "      <td>18.5</td>\n",
       "      <td>38</td>\n",
       "      <td>4</td>\n",
       "      <td>452.05</td>\n",
       "      <td>南</td>\n",
       "      <td>毛坯</td>\n",
       "      <td>0</td>\n",
       "      <td>5</td>\n",
       "      <td>3</td>\n",
       "    </tr>\n",
       "    <tr>\n",
       "      <th>1715</th>\n",
       "      <td>东骏湖景湾一期</td>\n",
       "      <td>1.8765</td>\n",
       "      <td>780.0</td>\n",
       "      <td>18.5</td>\n",
       "      <td>67</td>\n",
       "      <td>0</td>\n",
       "      <td>415.68</td>\n",
       "      <td>东北</td>\n",
       "      <td>其他</td>\n",
       "      <td>1</td>\n",
       "      <td>6</td>\n",
       "      <td>5</td>\n",
       "    </tr>\n",
       "    <tr>\n",
       "      <th>1728</th>\n",
       "      <td>中海城南一号一期</td>\n",
       "      <td>5.4310</td>\n",
       "      <td>1298.0</td>\n",
       "      <td>18.5</td>\n",
       "      <td>41</td>\n",
       "      <td>0</td>\n",
       "      <td>239.00</td>\n",
       "      <td>南北</td>\n",
       "      <td>其他</td>\n",
       "      <td>1</td>\n",
       "      <td>5</td>\n",
       "      <td>1</td>\n",
       "    </tr>\n",
       "    <tr>\n",
       "      <th>1997</th>\n",
       "      <td>朗基望今缘</td>\n",
       "      <td>3.8576</td>\n",
       "      <td>1300.0</td>\n",
       "      <td>18.5</td>\n",
       "      <td>14</td>\n",
       "      <td>1</td>\n",
       "      <td>337.00</td>\n",
       "      <td>东南</td>\n",
       "      <td>其他</td>\n",
       "      <td>1</td>\n",
       "      <td>4</td>\n",
       "      <td>2</td>\n",
       "    </tr>\n",
       "    <tr>\n",
       "      <th>2156</th>\n",
       "      <td>雅居乐花园</td>\n",
       "      <td>1.2079</td>\n",
       "      <td>430.0</td>\n",
       "      <td>18.5</td>\n",
       "      <td>31</td>\n",
       "      <td>2</td>\n",
       "      <td>356.00</td>\n",
       "      <td>南</td>\n",
       "      <td>其他</td>\n",
       "      <td>1</td>\n",
       "      <td>6</td>\n",
       "      <td>3</td>\n",
       "    </tr>\n",
       "  </tbody>\n",
       "</table>\n",
       "</div>"
      ],
      "text/plain": [
       "         region  unit_price  total_price  publishday  attention  visited  \\\n",
       "975     中粮祥云一期       1.5707        710.0        18.5         38        4   \n",
       "1715   东骏湖景湾一期       1.8765        780.0        18.5         67        0   \n",
       "1728  中海城南一号一期       5.4310       1298.0        18.5         41        0   \n",
       "1997     朗基望今缘       3.8576       1300.0        18.5         14        1   \n",
       "2156     雅居乐花园       1.2079        430.0        18.5         31        2   \n",
       "\n",
       "        area towards decoration  have_elevator  rooms  halls  \n",
       "975   452.05       南         毛坯              0      5      3  \n",
       "1715  415.68      东北         其他              1      6      5  \n",
       "1728  239.00      南北         其他              1      5      1  \n",
       "1997  337.00      东南         其他              1      4      2  \n",
       "2156  356.00       南         其他              1      6      3  "
      ]
     },
     "execution_count": 84,
     "metadata": {},
     "output_type": "execute_result"
    }
   ],
   "source": [
    "# 选取异常数据的切片\n",
    "house_err = cd_clean[(cd_clean.area>350)|(cd_clean.total_price>1200)]\n",
    "house_err"
   ]
  },
  {
   "cell_type": "code",
   "execution_count": 85,
   "metadata": {},
   "outputs": [],
   "source": [
    "# 删除 house_err 的异常记录\n",
    "cd_clean.drop(labels=house_err.index, axis=0, inplace=True)"
   ]
  },
  {
   "cell_type": "code",
   "execution_count": 86,
   "metadata": {},
   "outputs": [
    {
     "data": {
      "text/html": [
       "<div>\n",
       "<style scoped>\n",
       "    .dataframe tbody tr th:only-of-type {\n",
       "        vertical-align: middle;\n",
       "    }\n",
       "\n",
       "    .dataframe tbody tr th {\n",
       "        vertical-align: top;\n",
       "    }\n",
       "\n",
       "    .dataframe thead th {\n",
       "        text-align: right;\n",
       "    }\n",
       "</style>\n",
       "<table border=\"1\" class=\"dataframe\">\n",
       "  <thead>\n",
       "    <tr style=\"text-align: right;\">\n",
       "      <th></th>\n",
       "      <th>region</th>\n",
       "      <th>unit_price</th>\n",
       "      <th>total_price</th>\n",
       "      <th>publishday</th>\n",
       "      <th>attention</th>\n",
       "      <th>visited</th>\n",
       "      <th>area</th>\n",
       "      <th>towards</th>\n",
       "      <th>decoration</th>\n",
       "      <th>have_elevator</th>\n",
       "      <th>rooms</th>\n",
       "      <th>halls</th>\n",
       "    </tr>\n",
       "  </thead>\n",
       "  <tbody>\n",
       "  </tbody>\n",
       "</table>\n",
       "</div>"
      ],
      "text/plain": [
       "Empty DataFrame\n",
       "Columns: [region, unit_price, total_price, publishday, attention, visited, area, towards, decoration, have_elevator, rooms, halls]\n",
       "Index: []"
      ]
     },
     "execution_count": 86,
     "metadata": {},
     "output_type": "execute_result"
    }
   ],
   "source": [
    "# 检验\n",
    "cd_clean[(cd_clean.area>350)|(cd_clean.total_price>1200)]"
   ]
  },
  {
   "cell_type": "markdown",
   "metadata": {},
   "source": [
    " - 杭州市的房产数据存在异常值的处理"
   ]
  },
  {
   "cell_type": "code",
   "execution_count": 87,
   "metadata": {},
   "outputs": [
    {
     "data": {
      "text/html": [
       "<div>\n",
       "<style scoped>\n",
       "    .dataframe tbody tr th:only-of-type {\n",
       "        vertical-align: middle;\n",
       "    }\n",
       "\n",
       "    .dataframe tbody tr th {\n",
       "        vertical-align: top;\n",
       "    }\n",
       "\n",
       "    .dataframe thead th {\n",
       "        text-align: right;\n",
       "    }\n",
       "</style>\n",
       "<table border=\"1\" class=\"dataframe\">\n",
       "  <thead>\n",
       "    <tr style=\"text-align: right;\">\n",
       "      <th></th>\n",
       "      <th>unit_price</th>\n",
       "      <th>total_price</th>\n",
       "      <th>publishday</th>\n",
       "      <th>attention</th>\n",
       "      <th>visited</th>\n",
       "      <th>area</th>\n",
       "      <th>have_elevator</th>\n",
       "      <th>rooms</th>\n",
       "      <th>halls</th>\n",
       "    </tr>\n",
       "  </thead>\n",
       "  <tbody>\n",
       "    <tr>\n",
       "      <th>count</th>\n",
       "      <td>2999.000000</td>\n",
       "      <td>2980.000000</td>\n",
       "      <td>2999.000000</td>\n",
       "      <td>2999.000000</td>\n",
       "      <td>2999.000000</td>\n",
       "      <td>2999.000000</td>\n",
       "      <td>2999.000000</td>\n",
       "      <td>2999.000000</td>\n",
       "      <td>2999.000000</td>\n",
       "    </tr>\n",
       "    <tr>\n",
       "      <th>mean</th>\n",
       "      <td>3.778981</td>\n",
       "      <td>378.688255</td>\n",
       "      <td>19.996999</td>\n",
       "      <td>28.757919</td>\n",
       "      <td>4.778926</td>\n",
       "      <td>101.146886</td>\n",
       "      <td>0.537846</td>\n",
       "      <td>2.750250</td>\n",
       "      <td>1.635879</td>\n",
       "    </tr>\n",
       "    <tr>\n",
       "      <th>std</th>\n",
       "      <td>1.263139</td>\n",
       "      <td>218.817470</td>\n",
       "      <td>2.853142</td>\n",
       "      <td>42.446200</td>\n",
       "      <td>6.556635</td>\n",
       "      <td>42.746400</td>\n",
       "      <td>0.498649</td>\n",
       "      <td>0.858955</td>\n",
       "      <td>0.521831</td>\n",
       "    </tr>\n",
       "    <tr>\n",
       "      <th>min</th>\n",
       "      <td>1.208400</td>\n",
       "      <td>100.000000</td>\n",
       "      <td>3.000000</td>\n",
       "      <td>0.000000</td>\n",
       "      <td>0.000000</td>\n",
       "      <td>24.970000</td>\n",
       "      <td>0.000000</td>\n",
       "      <td>1.000000</td>\n",
       "      <td>0.000000</td>\n",
       "    </tr>\n",
       "    <tr>\n",
       "      <th>25%</th>\n",
       "      <td>2.798050</td>\n",
       "      <td>246.000000</td>\n",
       "      <td>20.000000</td>\n",
       "      <td>6.000000</td>\n",
       "      <td>0.000000</td>\n",
       "      <td>74.165000</td>\n",
       "      <td>0.000000</td>\n",
       "      <td>2.000000</td>\n",
       "      <td>1.000000</td>\n",
       "    </tr>\n",
       "    <tr>\n",
       "      <th>50%</th>\n",
       "      <td>3.707900</td>\n",
       "      <td>325.000000</td>\n",
       "      <td>20.000000</td>\n",
       "      <td>16.000000</td>\n",
       "      <td>2.000000</td>\n",
       "      <td>89.050000</td>\n",
       "      <td>1.000000</td>\n",
       "      <td>3.000000</td>\n",
       "      <td>2.000000</td>\n",
       "    </tr>\n",
       "    <tr>\n",
       "      <th>75%</th>\n",
       "      <td>4.478700</td>\n",
       "      <td>440.000000</td>\n",
       "      <td>20.000000</td>\n",
       "      <td>35.000000</td>\n",
       "      <td>7.000000</td>\n",
       "      <td>126.725000</td>\n",
       "      <td>1.000000</td>\n",
       "      <td>3.000000</td>\n",
       "      <td>2.000000</td>\n",
       "    </tr>\n",
       "    <tr>\n",
       "      <th>max</th>\n",
       "      <td>12.342600</td>\n",
       "      <td>2800.000000</td>\n",
       "      <td>31.000000</td>\n",
       "      <td>682.000000</td>\n",
       "      <td>54.000000</td>\n",
       "      <td>474.180000</td>\n",
       "      <td>1.000000</td>\n",
       "      <td>7.000000</td>\n",
       "      <td>4.000000</td>\n",
       "    </tr>\n",
       "  </tbody>\n",
       "</table>\n",
       "</div>"
      ],
      "text/plain": [
       "        unit_price  total_price   publishday    attention      visited  \\\n",
       "count  2999.000000  2980.000000  2999.000000  2999.000000  2999.000000   \n",
       "mean      3.778981   378.688255    19.996999    28.757919     4.778926   \n",
       "std       1.263139   218.817470     2.853142    42.446200     6.556635   \n",
       "min       1.208400   100.000000     3.000000     0.000000     0.000000   \n",
       "25%       2.798050   246.000000    20.000000     6.000000     0.000000   \n",
       "50%       3.707900   325.000000    20.000000    16.000000     2.000000   \n",
       "75%       4.478700   440.000000    20.000000    35.000000     7.000000   \n",
       "max      12.342600  2800.000000    31.000000   682.000000    54.000000   \n",
       "\n",
       "              area  have_elevator        rooms        halls  \n",
       "count  2999.000000    2999.000000  2999.000000  2999.000000  \n",
       "mean    101.146886       0.537846     2.750250     1.635879  \n",
       "std      42.746400       0.498649     0.858955     0.521831  \n",
       "min      24.970000       0.000000     1.000000     0.000000  \n",
       "25%      74.165000       0.000000     2.000000     1.000000  \n",
       "50%      89.050000       1.000000     3.000000     2.000000  \n",
       "75%     126.725000       1.000000     3.000000     2.000000  \n",
       "max     474.180000       1.000000     7.000000     4.000000  "
      ]
     },
     "execution_count": 87,
     "metadata": {},
     "output_type": "execute_result"
    }
   ],
   "source": [
    "hz_clean.describe()"
   ]
  },
  {
   "cell_type": "code",
   "execution_count": 88,
   "metadata": {},
   "outputs": [],
   "source": [
    "## 计算杭州市房产unit_price 的 q1,q3 以及IQR\n",
    "# q1, q3, unit_IQR = get_unit_iqr(hz_clean)\n",
    "\n",
    "## 查询异常值记录 条件： err_val <= q1 - 1.5*IQR, err_val >= q3 + 1.5*IQR  \n",
    "# hz_clean[(hz_clean.unit_price<(q1 - 1.5*unit_IQR)) | (hz_clean.unit_price>(q3 + 1.5*unit_IQR))]"
   ]
  },
  {
   "cell_type": "code",
   "execution_count": 89,
   "metadata": {},
   "outputs": [
    {
     "data": {
      "text/html": [
       "<div>\n",
       "<style scoped>\n",
       "    .dataframe tbody tr th:only-of-type {\n",
       "        vertical-align: middle;\n",
       "    }\n",
       "\n",
       "    .dataframe tbody tr th {\n",
       "        vertical-align: top;\n",
       "    }\n",
       "\n",
       "    .dataframe thead th {\n",
       "        text-align: right;\n",
       "    }\n",
       "</style>\n",
       "<table border=\"1\" class=\"dataframe\">\n",
       "  <thead>\n",
       "    <tr style=\"text-align: right;\">\n",
       "      <th></th>\n",
       "      <th>region</th>\n",
       "      <th>unit_price</th>\n",
       "      <th>total_price</th>\n",
       "      <th>publishday</th>\n",
       "      <th>attention</th>\n",
       "      <th>visited</th>\n",
       "      <th>area</th>\n",
       "      <th>towards</th>\n",
       "      <th>decoration</th>\n",
       "      <th>have_elevator</th>\n",
       "      <th>rooms</th>\n",
       "      <th>halls</th>\n",
       "    </tr>\n",
       "  </thead>\n",
       "  <tbody>\n",
       "    <tr>\n",
       "      <th>52</th>\n",
       "      <td>东方润园</td>\n",
       "      <td>9.2925</td>\n",
       "      <td>2800.0</td>\n",
       "      <td>20.0</td>\n",
       "      <td>34</td>\n",
       "      <td>1</td>\n",
       "      <td>301.32</td>\n",
       "      <td>南北</td>\n",
       "      <td>精装</td>\n",
       "      <td>1</td>\n",
       "      <td>6</td>\n",
       "      <td>2</td>\n",
       "    </tr>\n",
       "    <tr>\n",
       "      <th>2170</th>\n",
       "      <td>绿城蓝色钱江</td>\n",
       "      <td>7.5950</td>\n",
       "      <td>1800.0</td>\n",
       "      <td>20.0</td>\n",
       "      <td>68</td>\n",
       "      <td>1</td>\n",
       "      <td>237.00</td>\n",
       "      <td>南</td>\n",
       "      <td>精装</td>\n",
       "      <td>1</td>\n",
       "      <td>4</td>\n",
       "      <td>2</td>\n",
       "    </tr>\n",
       "    <tr>\n",
       "      <th>2173</th>\n",
       "      <td>赛丽绿城丽园</td>\n",
       "      <td>7.2148</td>\n",
       "      <td>2500.0</td>\n",
       "      <td>20.0</td>\n",
       "      <td>46</td>\n",
       "      <td>3</td>\n",
       "      <td>346.51</td>\n",
       "      <td>南</td>\n",
       "      <td>精装</td>\n",
       "      <td>1</td>\n",
       "      <td>5</td>\n",
       "      <td>2</td>\n",
       "    </tr>\n",
       "    <tr>\n",
       "      <th>2463</th>\n",
       "      <td>西溪诚园正信苑</td>\n",
       "      <td>9.0938</td>\n",
       "      <td>2580.0</td>\n",
       "      <td>20.0</td>\n",
       "      <td>30</td>\n",
       "      <td>2</td>\n",
       "      <td>283.71</td>\n",
       "      <td>南</td>\n",
       "      <td>精装</td>\n",
       "      <td>1</td>\n",
       "      <td>5</td>\n",
       "      <td>2</td>\n",
       "    </tr>\n",
       "    <tr>\n",
       "      <th>2470</th>\n",
       "      <td>湘湖壹号</td>\n",
       "      <td>5.6941</td>\n",
       "      <td>2700.0</td>\n",
       "      <td>20.0</td>\n",
       "      <td>18</td>\n",
       "      <td>3</td>\n",
       "      <td>474.18</td>\n",
       "      <td>南北</td>\n",
       "      <td>精装</td>\n",
       "      <td>0</td>\n",
       "      <td>5</td>\n",
       "      <td>2</td>\n",
       "    </tr>\n",
       "    <tr>\n",
       "      <th>2471</th>\n",
       "      <td>绿城蓝色钱江</td>\n",
       "      <td>9.2743</td>\n",
       "      <td>2180.0</td>\n",
       "      <td>20.0</td>\n",
       "      <td>7</td>\n",
       "      <td>3</td>\n",
       "      <td>235.06</td>\n",
       "      <td>南</td>\n",
       "      <td>其他</td>\n",
       "      <td>1</td>\n",
       "      <td>4</td>\n",
       "      <td>2</td>\n",
       "    </tr>\n",
       "  </tbody>\n",
       "</table>\n",
       "</div>"
      ],
      "text/plain": [
       "        region  unit_price  total_price  publishday  attention  visited  \\\n",
       "52       东方润园       9.2925       2800.0        20.0         34        1   \n",
       "2170   绿城蓝色钱江       7.5950       1800.0        20.0         68        1   \n",
       "2173   赛丽绿城丽园       7.2148       2500.0        20.0         46        3   \n",
       "2463  西溪诚园正信苑       9.0938       2580.0        20.0         30        2   \n",
       "2470     湘湖壹号       5.6941       2700.0        20.0         18        3   \n",
       "2471   绿城蓝色钱江       9.2743       2180.0        20.0          7        3   \n",
       "\n",
       "        area towards decoration  have_elevator  rooms  halls  \n",
       "52    301.32      南北         精装              1      6      2  \n",
       "2170  237.00       南         精装              1      4      2  \n",
       "2173  346.51       南         精装              1      5      2  \n",
       "2463  283.71       南         精装              1      5      2  \n",
       "2470  474.18      南北         精装              0      5      2  \n",
       "2471  235.06       南         其他              1      4      2  "
      ]
     },
     "execution_count": 89,
     "metadata": {},
     "output_type": "execute_result"
    }
   ],
   "source": [
    "# 选取异常数据的切片\n",
    "house_err = hz_clean[(hz_clean.total_price>1700)|(hz_clean.area>350)]\n",
    "house_err"
   ]
  },
  {
   "cell_type": "code",
   "execution_count": 90,
   "metadata": {},
   "outputs": [],
   "source": [
    "# 删除 house_err 的异常记录\n",
    "hz_clean.drop(labels=house_err.index, axis=0, inplace=True)"
   ]
  },
  {
   "cell_type": "code",
   "execution_count": 91,
   "metadata": {},
   "outputs": [
    {
     "data": {
      "text/html": [
       "<div>\n",
       "<style scoped>\n",
       "    .dataframe tbody tr th:only-of-type {\n",
       "        vertical-align: middle;\n",
       "    }\n",
       "\n",
       "    .dataframe tbody tr th {\n",
       "        vertical-align: top;\n",
       "    }\n",
       "\n",
       "    .dataframe thead th {\n",
       "        text-align: right;\n",
       "    }\n",
       "</style>\n",
       "<table border=\"1\" class=\"dataframe\">\n",
       "  <thead>\n",
       "    <tr style=\"text-align: right;\">\n",
       "      <th></th>\n",
       "      <th>region</th>\n",
       "      <th>unit_price</th>\n",
       "      <th>total_price</th>\n",
       "      <th>publishday</th>\n",
       "      <th>attention</th>\n",
       "      <th>visited</th>\n",
       "      <th>area</th>\n",
       "      <th>towards</th>\n",
       "      <th>decoration</th>\n",
       "      <th>have_elevator</th>\n",
       "      <th>rooms</th>\n",
       "      <th>halls</th>\n",
       "    </tr>\n",
       "  </thead>\n",
       "  <tbody>\n",
       "  </tbody>\n",
       "</table>\n",
       "</div>"
      ],
      "text/plain": [
       "Empty DataFrame\n",
       "Columns: [region, unit_price, total_price, publishday, attention, visited, area, towards, decoration, have_elevator, rooms, halls]\n",
       "Index: []"
      ]
     },
     "execution_count": 91,
     "metadata": {},
     "output_type": "execute_result"
    }
   ],
   "source": [
    "# 检验\n",
    "hz_clean[(hz_clean.total_price>1700)|(hz_clean.area>350)]"
   ]
  },
  {
   "cell_type": "markdown",
   "metadata": {},
   "source": [
    " - 上海市的房产数据存在异常值的处理"
   ]
  },
  {
   "cell_type": "code",
   "execution_count": 92,
   "metadata": {},
   "outputs": [
    {
     "data": {
      "text/html": [
       "<div>\n",
       "<style scoped>\n",
       "    .dataframe tbody tr th:only-of-type {\n",
       "        vertical-align: middle;\n",
       "    }\n",
       "\n",
       "    .dataframe tbody tr th {\n",
       "        vertical-align: top;\n",
       "    }\n",
       "\n",
       "    .dataframe thead th {\n",
       "        text-align: right;\n",
       "    }\n",
       "</style>\n",
       "<table border=\"1\" class=\"dataframe\">\n",
       "  <thead>\n",
       "    <tr style=\"text-align: right;\">\n",
       "      <th></th>\n",
       "      <th>unit_price</th>\n",
       "      <th>total_price</th>\n",
       "      <th>publishday</th>\n",
       "      <th>attention</th>\n",
       "      <th>visited</th>\n",
       "      <th>area</th>\n",
       "      <th>have_elevator</th>\n",
       "      <th>rooms</th>\n",
       "      <th>halls</th>\n",
       "    </tr>\n",
       "  </thead>\n",
       "  <tbody>\n",
       "    <tr>\n",
       "      <th>count</th>\n",
       "      <td>3000.000000</td>\n",
       "      <td>2993.000000</td>\n",
       "      <td>3000.000000</td>\n",
       "      <td>3000.00000</td>\n",
       "      <td>3000.000000</td>\n",
       "      <td>3000.000000</td>\n",
       "      <td>3000.000000</td>\n",
       "      <td>3000.000000</td>\n",
       "      <td>3000.000000</td>\n",
       "    </tr>\n",
       "    <tr>\n",
       "      <th>mean</th>\n",
       "      <td>5.970096</td>\n",
       "      <td>640.673906</td>\n",
       "      <td>19.195533</td>\n",
       "      <td>74.10200</td>\n",
       "      <td>9.258000</td>\n",
       "      <td>98.822400</td>\n",
       "      <td>0.546667</td>\n",
       "      <td>2.304333</td>\n",
       "      <td>1.583000</td>\n",
       "    </tr>\n",
       "    <tr>\n",
       "      <th>std</th>\n",
       "      <td>2.445038</td>\n",
       "      <td>588.340140</td>\n",
       "      <td>2.196227</td>\n",
       "      <td>131.81445</td>\n",
       "      <td>9.787136</td>\n",
       "      <td>48.128071</td>\n",
       "      <td>0.497900</td>\n",
       "      <td>0.807423</td>\n",
       "      <td>0.559657</td>\n",
       "    </tr>\n",
       "    <tr>\n",
       "      <th>min</th>\n",
       "      <td>1.372500</td>\n",
       "      <td>100.000000</td>\n",
       "      <td>6.000000</td>\n",
       "      <td>0.00000</td>\n",
       "      <td>0.000000</td>\n",
       "      <td>23.670000</td>\n",
       "      <td>0.000000</td>\n",
       "      <td>1.000000</td>\n",
       "      <td>0.000000</td>\n",
       "    </tr>\n",
       "    <tr>\n",
       "      <th>25%</th>\n",
       "      <td>4.106375</td>\n",
       "      <td>299.000000</td>\n",
       "      <td>19.200000</td>\n",
       "      <td>25.00000</td>\n",
       "      <td>2.000000</td>\n",
       "      <td>66.880000</td>\n",
       "      <td>0.000000</td>\n",
       "      <td>2.000000</td>\n",
       "      <td>1.000000</td>\n",
       "    </tr>\n",
       "    <tr>\n",
       "      <th>50%</th>\n",
       "      <td>5.620600</td>\n",
       "      <td>445.000000</td>\n",
       "      <td>19.200000</td>\n",
       "      <td>49.00000</td>\n",
       "      <td>6.000000</td>\n",
       "      <td>89.000000</td>\n",
       "      <td>1.000000</td>\n",
       "      <td>2.000000</td>\n",
       "      <td>2.000000</td>\n",
       "    </tr>\n",
       "    <tr>\n",
       "      <th>75%</th>\n",
       "      <td>7.423975</td>\n",
       "      <td>800.000000</td>\n",
       "      <td>19.200000</td>\n",
       "      <td>91.00000</td>\n",
       "      <td>13.000000</td>\n",
       "      <td>120.952500</td>\n",
       "      <td>1.000000</td>\n",
       "      <td>3.000000</td>\n",
       "      <td>2.000000</td>\n",
       "    </tr>\n",
       "    <tr>\n",
       "      <th>max</th>\n",
       "      <td>18.611200</td>\n",
       "      <td>6500.000000</td>\n",
       "      <td>31.000000</td>\n",
       "      <td>4635.00000</td>\n",
       "      <td>85.000000</td>\n",
       "      <td>407.760000</td>\n",
       "      <td>1.000000</td>\n",
       "      <td>7.000000</td>\n",
       "      <td>4.000000</td>\n",
       "    </tr>\n",
       "  </tbody>\n",
       "</table>\n",
       "</div>"
      ],
      "text/plain": [
       "        unit_price  total_price   publishday   attention      visited  \\\n",
       "count  3000.000000  2993.000000  3000.000000  3000.00000  3000.000000   \n",
       "mean      5.970096   640.673906    19.195533    74.10200     9.258000   \n",
       "std       2.445038   588.340140     2.196227   131.81445     9.787136   \n",
       "min       1.372500   100.000000     6.000000     0.00000     0.000000   \n",
       "25%       4.106375   299.000000    19.200000    25.00000     2.000000   \n",
       "50%       5.620600   445.000000    19.200000    49.00000     6.000000   \n",
       "75%       7.423975   800.000000    19.200000    91.00000    13.000000   \n",
       "max      18.611200  6500.000000    31.000000  4635.00000    85.000000   \n",
       "\n",
       "              area  have_elevator        rooms        halls  \n",
       "count  3000.000000    3000.000000  3000.000000  3000.000000  \n",
       "mean     98.822400       0.546667     2.304333     1.583000  \n",
       "std      48.128071       0.497900     0.807423     0.559657  \n",
       "min      23.670000       0.000000     1.000000     0.000000  \n",
       "25%      66.880000       0.000000     2.000000     1.000000  \n",
       "50%      89.000000       1.000000     2.000000     2.000000  \n",
       "75%     120.952500       1.000000     3.000000     2.000000  \n",
       "max     407.760000       1.000000     7.000000     4.000000  "
      ]
     },
     "execution_count": 92,
     "metadata": {},
     "output_type": "execute_result"
    }
   ],
   "source": [
    "sh_clean.describe()"
   ]
  },
  {
   "cell_type": "code",
   "execution_count": 93,
   "metadata": {},
   "outputs": [],
   "source": [
    "## 计算上海市房产 unit_price 的 q1,q3 以及IQR\n",
    "# q1, q3, unit_IQR = get_unit_iqr(sh_clean)\n",
    "\n",
    "## 查询异常值记录 条件： err_val <= q1 - 1.5*IQR, err_val >= q3 + 1.5*IQR  \n",
    "# sh_clean[(sh_clean.unit_price<(q1 - 1.5*unit_IQR)) | (sh_clean.unit_price>(q3 + 1.5*unit_IQR))]"
   ]
  },
  {
   "cell_type": "code",
   "execution_count": 94,
   "metadata": {},
   "outputs": [
    {
     "data": {
      "text/html": [
       "<div>\n",
       "<style scoped>\n",
       "    .dataframe tbody tr th:only-of-type {\n",
       "        vertical-align: middle;\n",
       "    }\n",
       "\n",
       "    .dataframe tbody tr th {\n",
       "        vertical-align: top;\n",
       "    }\n",
       "\n",
       "    .dataframe thead th {\n",
       "        text-align: right;\n",
       "    }\n",
       "</style>\n",
       "<table border=\"1\" class=\"dataframe\">\n",
       "  <thead>\n",
       "    <tr style=\"text-align: right;\">\n",
       "      <th></th>\n",
       "      <th>region</th>\n",
       "      <th>unit_price</th>\n",
       "      <th>total_price</th>\n",
       "      <th>publishday</th>\n",
       "      <th>attention</th>\n",
       "      <th>visited</th>\n",
       "      <th>area</th>\n",
       "      <th>towards</th>\n",
       "      <th>decoration</th>\n",
       "      <th>have_elevator</th>\n",
       "      <th>rooms</th>\n",
       "      <th>halls</th>\n",
       "    </tr>\n",
       "  </thead>\n",
       "  <tbody>\n",
       "    <tr>\n",
       "      <th>35</th>\n",
       "      <td>国际丽都城</td>\n",
       "      <td>14.1694</td>\n",
       "      <td>4680.0</td>\n",
       "      <td>19.2</td>\n",
       "      <td>20</td>\n",
       "      <td>0</td>\n",
       "      <td>330.29</td>\n",
       "      <td>南</td>\n",
       "      <td>精装</td>\n",
       "      <td>1</td>\n",
       "      <td>5</td>\n",
       "      <td>3</td>\n",
       "    </tr>\n",
       "    <tr>\n",
       "      <th>149</th>\n",
       "      <td>中凯城市之光(徐汇)</td>\n",
       "      <td>11.1411</td>\n",
       "      <td>4500.0</td>\n",
       "      <td>19.2</td>\n",
       "      <td>161</td>\n",
       "      <td>6</td>\n",
       "      <td>403.91</td>\n",
       "      <td>南</td>\n",
       "      <td>精装</td>\n",
       "      <td>1</td>\n",
       "      <td>4</td>\n",
       "      <td>2</td>\n",
       "    </tr>\n",
       "    <tr>\n",
       "      <th>492</th>\n",
       "      <td>翠湖天地隽荟</td>\n",
       "      <td>15.1516</td>\n",
       "      <td>4500.0</td>\n",
       "      <td>19.2</td>\n",
       "      <td>9</td>\n",
       "      <td>11</td>\n",
       "      <td>297.00</td>\n",
       "      <td>南北</td>\n",
       "      <td>精装</td>\n",
       "      <td>1</td>\n",
       "      <td>3</td>\n",
       "      <td>2</td>\n",
       "    </tr>\n",
       "    <tr>\n",
       "      <th>567</th>\n",
       "      <td>翠湖天地隽荟</td>\n",
       "      <td>16.1539</td>\n",
       "      <td>6300.0</td>\n",
       "      <td>23.0</td>\n",
       "      <td>28</td>\n",
       "      <td>13</td>\n",
       "      <td>390.00</td>\n",
       "      <td>南北</td>\n",
       "      <td>精装</td>\n",
       "      <td>0</td>\n",
       "      <td>4</td>\n",
       "      <td>2</td>\n",
       "    </tr>\n",
       "    <tr>\n",
       "      <th>605</th>\n",
       "      <td>华侨城苏河湾(公寓)</td>\n",
       "      <td>15.5175</td>\n",
       "      <td>4350.0</td>\n",
       "      <td>19.2</td>\n",
       "      <td>74</td>\n",
       "      <td>6</td>\n",
       "      <td>280.33</td>\n",
       "      <td>南西北</td>\n",
       "      <td>精装</td>\n",
       "      <td>1</td>\n",
       "      <td>3</td>\n",
       "      <td>2</td>\n",
       "    </tr>\n",
       "    <tr>\n",
       "      <th>707</th>\n",
       "      <td>财富海景花园</td>\n",
       "      <td>14.9480</td>\n",
       "      <td>5185.0</td>\n",
       "      <td>19.2</td>\n",
       "      <td>155</td>\n",
       "      <td>10</td>\n",
       "      <td>346.87</td>\n",
       "      <td>南</td>\n",
       "      <td>精装</td>\n",
       "      <td>1</td>\n",
       "      <td>4</td>\n",
       "      <td>2</td>\n",
       "    </tr>\n",
       "    <tr>\n",
       "      <th>1104</th>\n",
       "      <td>淮海晶华苑</td>\n",
       "      <td>8.8288</td>\n",
       "      <td>3600.0</td>\n",
       "      <td>19.2</td>\n",
       "      <td>108</td>\n",
       "      <td>1</td>\n",
       "      <td>407.76</td>\n",
       "      <td>暂无数据</td>\n",
       "      <td>精装</td>\n",
       "      <td>1</td>\n",
       "      <td>5</td>\n",
       "      <td>2</td>\n",
       "    </tr>\n",
       "    <tr>\n",
       "      <th>1109</th>\n",
       "      <td>海珀旭晖</td>\n",
       "      <td>15.6193</td>\n",
       "      <td>4280.0</td>\n",
       "      <td>19.2</td>\n",
       "      <td>69</td>\n",
       "      <td>4</td>\n",
       "      <td>274.02</td>\n",
       "      <td>南</td>\n",
       "      <td>精装</td>\n",
       "      <td>1</td>\n",
       "      <td>4</td>\n",
       "      <td>2</td>\n",
       "    </tr>\n",
       "    <tr>\n",
       "      <th>1131</th>\n",
       "      <td>财富海景花园</td>\n",
       "      <td>15.9998</td>\n",
       "      <td>6078.0</td>\n",
       "      <td>19.2</td>\n",
       "      <td>148</td>\n",
       "      <td>11</td>\n",
       "      <td>379.88</td>\n",
       "      <td>南</td>\n",
       "      <td>毛坯</td>\n",
       "      <td>1</td>\n",
       "      <td>3</td>\n",
       "      <td>2</td>\n",
       "    </tr>\n",
       "    <tr>\n",
       "      <th>1181</th>\n",
       "      <td>翠湖天地隽荟</td>\n",
       "      <td>16.6241</td>\n",
       "      <td>6500.0</td>\n",
       "      <td>23.0</td>\n",
       "      <td>15</td>\n",
       "      <td>2</td>\n",
       "      <td>391.00</td>\n",
       "      <td>南北</td>\n",
       "      <td>精装</td>\n",
       "      <td>1</td>\n",
       "      <td>5</td>\n",
       "      <td>2</td>\n",
       "    </tr>\n",
       "    <tr>\n",
       "      <th>1253</th>\n",
       "      <td>翠湖天地隽荟</td>\n",
       "      <td>16.1459</td>\n",
       "      <td>4650.0</td>\n",
       "      <td>19.2</td>\n",
       "      <td>65</td>\n",
       "      <td>0</td>\n",
       "      <td>288.00</td>\n",
       "      <td>南</td>\n",
       "      <td>精装</td>\n",
       "      <td>0</td>\n",
       "      <td>4</td>\n",
       "      <td>2</td>\n",
       "    </tr>\n",
       "    <tr>\n",
       "      <th>1531</th>\n",
       "      <td>财富海景花园</td>\n",
       "      <td>12.9578</td>\n",
       "      <td>4600.0</td>\n",
       "      <td>19.2</td>\n",
       "      <td>152</td>\n",
       "      <td>10</td>\n",
       "      <td>355.00</td>\n",
       "      <td>南</td>\n",
       "      <td>毛坯</td>\n",
       "      <td>1</td>\n",
       "      <td>3</td>\n",
       "      <td>2</td>\n",
       "    </tr>\n",
       "    <tr>\n",
       "      <th>1856</th>\n",
       "      <td>兰庭</td>\n",
       "      <td>15.9960</td>\n",
       "      <td>5700.0</td>\n",
       "      <td>19.2</td>\n",
       "      <td>3</td>\n",
       "      <td>2</td>\n",
       "      <td>356.34</td>\n",
       "      <td>南</td>\n",
       "      <td>毛坯</td>\n",
       "      <td>0</td>\n",
       "      <td>5</td>\n",
       "      <td>2</td>\n",
       "    </tr>\n",
       "    <tr>\n",
       "      <th>1857</th>\n",
       "      <td>兰庭</td>\n",
       "      <td>16.1897</td>\n",
       "      <td>5600.0</td>\n",
       "      <td>19.2</td>\n",
       "      <td>2</td>\n",
       "      <td>2</td>\n",
       "      <td>345.90</td>\n",
       "      <td>南</td>\n",
       "      <td>毛坯</td>\n",
       "      <td>0</td>\n",
       "      <td>5</td>\n",
       "      <td>2</td>\n",
       "    </tr>\n",
       "    <tr>\n",
       "      <th>2028</th>\n",
       "      <td>尚海湾豪庭</td>\n",
       "      <td>13.0160</td>\n",
       "      <td>5200.0</td>\n",
       "      <td>19.2</td>\n",
       "      <td>87</td>\n",
       "      <td>2</td>\n",
       "      <td>399.51</td>\n",
       "      <td>东南</td>\n",
       "      <td>精装</td>\n",
       "      <td>0</td>\n",
       "      <td>4</td>\n",
       "      <td>2</td>\n",
       "    </tr>\n",
       "    <tr>\n",
       "      <th>2119</th>\n",
       "      <td>财富海景花园</td>\n",
       "      <td>14.9998</td>\n",
       "      <td>5240.0</td>\n",
       "      <td>19.2</td>\n",
       "      <td>66</td>\n",
       "      <td>11</td>\n",
       "      <td>349.34</td>\n",
       "      <td>西</td>\n",
       "      <td>毛坯</td>\n",
       "      <td>1</td>\n",
       "      <td>3</td>\n",
       "      <td>2</td>\n",
       "    </tr>\n",
       "    <tr>\n",
       "      <th>2722</th>\n",
       "      <td>盛大金磐</td>\n",
       "      <td>16.2182</td>\n",
       "      <td>4900.0</td>\n",
       "      <td>19.2</td>\n",
       "      <td>12</td>\n",
       "      <td>0</td>\n",
       "      <td>302.13</td>\n",
       "      <td>南</td>\n",
       "      <td>精装</td>\n",
       "      <td>1</td>\n",
       "      <td>3</td>\n",
       "      <td>2</td>\n",
       "    </tr>\n",
       "  </tbody>\n",
       "</table>\n",
       "</div>"
      ],
      "text/plain": [
       "           region  unit_price  total_price  publishday  attention  visited  \\\n",
       "35         国际丽都城      14.1694       4680.0        19.2         20        0   \n",
       "149   中凯城市之光(徐汇)      11.1411       4500.0        19.2        161        6   \n",
       "492       翠湖天地隽荟      15.1516       4500.0        19.2          9       11   \n",
       "567       翠湖天地隽荟      16.1539       6300.0        23.0         28       13   \n",
       "605   华侨城苏河湾(公寓)      15.5175       4350.0        19.2         74        6   \n",
       "707       财富海景花园      14.9480       5185.0        19.2        155       10   \n",
       "1104       淮海晶华苑       8.8288       3600.0        19.2        108        1   \n",
       "1109        海珀旭晖      15.6193       4280.0        19.2         69        4   \n",
       "1131      财富海景花园      15.9998       6078.0        19.2        148       11   \n",
       "1181      翠湖天地隽荟      16.6241       6500.0        23.0         15        2   \n",
       "1253      翠湖天地隽荟      16.1459       4650.0        19.2         65        0   \n",
       "1531      财富海景花园      12.9578       4600.0        19.2        152       10   \n",
       "1856          兰庭      15.9960       5700.0        19.2          3        2   \n",
       "1857          兰庭      16.1897       5600.0        19.2          2        2   \n",
       "2028       尚海湾豪庭      13.0160       5200.0        19.2         87        2   \n",
       "2119      财富海景花园      14.9998       5240.0        19.2         66       11   \n",
       "2722        盛大金磐      16.2182       4900.0        19.2         12        0   \n",
       "\n",
       "        area towards decoration  have_elevator  rooms  halls  \n",
       "35    330.29       南         精装              1      5      3  \n",
       "149   403.91       南         精装              1      4      2  \n",
       "492   297.00      南北         精装              1      3      2  \n",
       "567   390.00      南北         精装              0      4      2  \n",
       "605   280.33     南西北         精装              1      3      2  \n",
       "707   346.87       南         精装              1      4      2  \n",
       "1104  407.76    暂无数据         精装              1      5      2  \n",
       "1109  274.02       南         精装              1      4      2  \n",
       "1131  379.88       南         毛坯              1      3      2  \n",
       "1181  391.00      南北         精装              1      5      2  \n",
       "1253  288.00       南         精装              0      4      2  \n",
       "1531  355.00       南         毛坯              1      3      2  \n",
       "1856  356.34       南         毛坯              0      5      2  \n",
       "1857  345.90       南         毛坯              0      5      2  \n",
       "2028  399.51      东南         精装              0      4      2  \n",
       "2119  349.34       西         毛坯              1      3      2  \n",
       "2722  302.13       南         精装              1      3      2  "
      ]
     },
     "execution_count": 94,
     "metadata": {},
     "output_type": "execute_result"
    }
   ],
   "source": [
    "# 选取异常数据的切片\n",
    "house_err = sh_clean[(sh_clean.total_price>4000)|(sh_clean.area>400)]\n",
    "house_err"
   ]
  },
  {
   "cell_type": "code",
   "execution_count": 95,
   "metadata": {},
   "outputs": [],
   "source": [
    "# 删除 house_err 的异常记录\n",
    "sh_clean.drop(labels=house_err.index, axis=0, inplace=True)"
   ]
  },
  {
   "cell_type": "code",
   "execution_count": 96,
   "metadata": {},
   "outputs": [
    {
     "data": {
      "text/html": [
       "<div>\n",
       "<style scoped>\n",
       "    .dataframe tbody tr th:only-of-type {\n",
       "        vertical-align: middle;\n",
       "    }\n",
       "\n",
       "    .dataframe tbody tr th {\n",
       "        vertical-align: top;\n",
       "    }\n",
       "\n",
       "    .dataframe thead th {\n",
       "        text-align: right;\n",
       "    }\n",
       "</style>\n",
       "<table border=\"1\" class=\"dataframe\">\n",
       "  <thead>\n",
       "    <tr style=\"text-align: right;\">\n",
       "      <th></th>\n",
       "      <th>region</th>\n",
       "      <th>unit_price</th>\n",
       "      <th>total_price</th>\n",
       "      <th>publishday</th>\n",
       "      <th>attention</th>\n",
       "      <th>visited</th>\n",
       "      <th>area</th>\n",
       "      <th>towards</th>\n",
       "      <th>decoration</th>\n",
       "      <th>have_elevator</th>\n",
       "      <th>rooms</th>\n",
       "      <th>halls</th>\n",
       "    </tr>\n",
       "  </thead>\n",
       "  <tbody>\n",
       "  </tbody>\n",
       "</table>\n",
       "</div>"
      ],
      "text/plain": [
       "Empty DataFrame\n",
       "Columns: [region, unit_price, total_price, publishday, attention, visited, area, towards, decoration, have_elevator, rooms, halls]\n",
       "Index: []"
      ]
     },
     "execution_count": 96,
     "metadata": {},
     "output_type": "execute_result"
    }
   ],
   "source": [
    "# 检验 \n",
    "sh_clean[(sh_clean.total_price>4000)|(sh_clean.area>400)]"
   ]
  },
  {
   "cell_type": "code",
   "execution_count": null,
   "metadata": {},
   "outputs": [],
   "source": []
  },
  {
   "cell_type": "code",
   "execution_count": 97,
   "metadata": {},
   "outputs": [
    {
     "name": "stdout",
     "output_type": "stream",
     "text": [
      "<class 'pandas.core.frame.DataFrame'>\n",
      "Int64Index: 568 entries, 0 to 569\n",
      "Data columns (total 12 columns):\n",
      "region           568 non-null object\n",
      "unit_price       568 non-null float64\n",
      "total_price      450 non-null float64\n",
      "publishday       568 non-null float64\n",
      "attention        568 non-null int64\n",
      "visited          568 non-null int64\n",
      "area             568 non-null float64\n",
      "towards          568 non-null object\n",
      "decoration       568 non-null object\n",
      "have_elevator    568 non-null int64\n",
      "rooms            568 non-null int64\n",
      "halls            568 non-null int64\n",
      "dtypes: float64(4), int64(5), object(3)\n",
      "memory usage: 57.7+ KB\n"
     ]
    }
   ],
   "source": [
    "km_clean.info()"
   ]
  },
  {
   "cell_type": "code",
   "execution_count": 98,
   "metadata": {},
   "outputs": [
    {
     "name": "stdout",
     "output_type": "stream",
     "text": [
      "<class 'pandas.core.frame.DataFrame'>\n",
      "Int64Index: 2995 entries, 0 to 2999\n",
      "Data columns (total 12 columns):\n",
      "region           2995 non-null object\n",
      "unit_price       2995 non-null float64\n",
      "total_price      2434 non-null float64\n",
      "publishday       2995 non-null float64\n",
      "attention        2995 non-null int64\n",
      "visited          2995 non-null int64\n",
      "area             2995 non-null float64\n",
      "towards          2995 non-null object\n",
      "decoration       2995 non-null object\n",
      "have_elevator    2995 non-null int64\n",
      "rooms            2995 non-null int64\n",
      "halls            2995 non-null int64\n",
      "dtypes: float64(4), int64(5), object(3)\n",
      "memory usage: 304.2+ KB\n"
     ]
    }
   ],
   "source": [
    "cd_clean.info()"
   ]
  },
  {
   "cell_type": "code",
   "execution_count": 99,
   "metadata": {},
   "outputs": [
    {
     "name": "stdout",
     "output_type": "stream",
     "text": [
      "<class 'pandas.core.frame.DataFrame'>\n",
      "Int64Index: 2993 entries, 0 to 2998\n",
      "Data columns (total 12 columns):\n",
      "region           2993 non-null object\n",
      "unit_price       2993 non-null float64\n",
      "total_price      2974 non-null float64\n",
      "publishday       2993 non-null float64\n",
      "attention        2993 non-null int64\n",
      "visited          2993 non-null int64\n",
      "area             2993 non-null float64\n",
      "towards          2993 non-null object\n",
      "decoration       2993 non-null object\n",
      "have_elevator    2993 non-null int64\n",
      "rooms            2993 non-null int64\n",
      "halls            2993 non-null int64\n",
      "dtypes: float64(4), int64(5), object(3)\n",
      "memory usage: 304.0+ KB\n"
     ]
    }
   ],
   "source": [
    "hz_clean.info()"
   ]
  },
  {
   "cell_type": "code",
   "execution_count": 100,
   "metadata": {},
   "outputs": [
    {
     "name": "stdout",
     "output_type": "stream",
     "text": [
      "<class 'pandas.core.frame.DataFrame'>\n",
      "Int64Index: 2983 entries, 0 to 2999\n",
      "Data columns (total 12 columns):\n",
      "region           2983 non-null object\n",
      "unit_price       2983 non-null float64\n",
      "total_price      2976 non-null float64\n",
      "publishday       2983 non-null float64\n",
      "attention        2983 non-null int64\n",
      "visited          2983 non-null int64\n",
      "area             2983 non-null float64\n",
      "towards          2983 non-null object\n",
      "decoration       2983 non-null object\n",
      "have_elevator    2983 non-null int64\n",
      "rooms            2983 non-null int64\n",
      "halls            2983 non-null int64\n",
      "dtypes: float64(4), int64(5), object(3)\n",
      "memory usage: 303.0+ KB\n"
     ]
    }
   ],
   "source": [
    "sh_clean.info()"
   ]
  },
  {
   "cell_type": "code",
   "execution_count": 101,
   "metadata": {},
   "outputs": [],
   "source": [
    "# 对 数据框的列进行重新排列\n",
    "new_cols = ['region','rooms','halls','towards','decoration','have_elevator','visited','attention','publishday','unit_price','area','total_price']\n",
    "\n",
    "# 重新摆放列的位置（推荐）\n",
    "km_clean = pd.DataFrame(data=km_clean, columns=new_cols)\n",
    "cd_clean = pd.DataFrame(data=cd_clean, columns=new_cols)\n",
    "hz_clean = pd.DataFrame(data=hz_clean, columns=new_cols)\n",
    "sh_clean = pd.DataFrame(data=sh_clean, columns=new_cols)\n",
    "\n",
    "# 重新摆放列的位置（切片方式）\n",
    "# km_clean = km_clean.loc[:, new_cols]\n",
    "# cd_clean = cd_clean.loc[:, new_cols]\n",
    "# hz_clean = hz_clean.loc[:, new_cols]\n",
    "# sh_clean = sh_clean.loc[:, new_cols]\n"
   ]
  },
  {
   "cell_type": "code",
   "execution_count": 102,
   "metadata": {},
   "outputs": [
    {
     "data": {
      "text/html": [
       "<div>\n",
       "<style scoped>\n",
       "    .dataframe tbody tr th:only-of-type {\n",
       "        vertical-align: middle;\n",
       "    }\n",
       "\n",
       "    .dataframe tbody tr th {\n",
       "        vertical-align: top;\n",
       "    }\n",
       "\n",
       "    .dataframe thead th {\n",
       "        text-align: right;\n",
       "    }\n",
       "</style>\n",
       "<table border=\"1\" class=\"dataframe\">\n",
       "  <thead>\n",
       "    <tr style=\"text-align: right;\">\n",
       "      <th></th>\n",
       "      <th>region</th>\n",
       "      <th>rooms</th>\n",
       "      <th>halls</th>\n",
       "      <th>towards</th>\n",
       "      <th>decoration</th>\n",
       "      <th>have_elevator</th>\n",
       "      <th>visited</th>\n",
       "      <th>attention</th>\n",
       "      <th>publishday</th>\n",
       "      <th>unit_price</th>\n",
       "      <th>area</th>\n",
       "      <th>total_price</th>\n",
       "    </tr>\n",
       "  </thead>\n",
       "  <tbody>\n",
       "    <tr>\n",
       "      <th>565</th>\n",
       "      <td>滇池卫城橡尚</td>\n",
       "      <td>2</td>\n",
       "      <td>2</td>\n",
       "      <td>南北</td>\n",
       "      <td>其他</td>\n",
       "      <td>0</td>\n",
       "      <td>2</td>\n",
       "      <td>2</td>\n",
       "      <td>19.0</td>\n",
       "      <td>1.5778</td>\n",
       "      <td>90.00</td>\n",
       "      <td>142.0</td>\n",
       "    </tr>\n",
       "    <tr>\n",
       "      <th>566</th>\n",
       "      <td>滇池卫城蓝湾</td>\n",
       "      <td>5</td>\n",
       "      <td>3</td>\n",
       "      <td>南</td>\n",
       "      <td>其他</td>\n",
       "      <td>0</td>\n",
       "      <td>0</td>\n",
       "      <td>8</td>\n",
       "      <td>19.0</td>\n",
       "      <td>1.5360</td>\n",
       "      <td>153.00</td>\n",
       "      <td>235.0</td>\n",
       "    </tr>\n",
       "    <tr>\n",
       "      <th>567</th>\n",
       "      <td>广福城怡福园</td>\n",
       "      <td>2</td>\n",
       "      <td>2</td>\n",
       "      <td>西</td>\n",
       "      <td>其他</td>\n",
       "      <td>0</td>\n",
       "      <td>1</td>\n",
       "      <td>1</td>\n",
       "      <td>19.0</td>\n",
       "      <td>1.4957</td>\n",
       "      <td>77.56</td>\n",
       "      <td>116.0</td>\n",
       "    </tr>\n",
       "    <tr>\n",
       "      <th>568</th>\n",
       "      <td>怡康温泉新村B区</td>\n",
       "      <td>4</td>\n",
       "      <td>2</td>\n",
       "      <td>东西</td>\n",
       "      <td>其他</td>\n",
       "      <td>0</td>\n",
       "      <td>0</td>\n",
       "      <td>4</td>\n",
       "      <td>19.0</td>\n",
       "      <td>0.9758</td>\n",
       "      <td>132.20</td>\n",
       "      <td>129.0</td>\n",
       "    </tr>\n",
       "    <tr>\n",
       "      <th>569</th>\n",
       "      <td>鑫都公寓</td>\n",
       "      <td>2</td>\n",
       "      <td>1</td>\n",
       "      <td>东南</td>\n",
       "      <td>其他</td>\n",
       "      <td>0</td>\n",
       "      <td>0</td>\n",
       "      <td>0</td>\n",
       "      <td>19.0</td>\n",
       "      <td>2.1053</td>\n",
       "      <td>76.00</td>\n",
       "      <td>160.0</td>\n",
       "    </tr>\n",
       "  </tbody>\n",
       "</table>\n",
       "</div>"
      ],
      "text/plain": [
       "        region  rooms  halls towards decoration  have_elevator  visited  \\\n",
       "565    滇池卫城橡尚       2      2      南北         其他              0        2   \n",
       "566    滇池卫城蓝湾       5      3       南         其他              0        0   \n",
       "567    广福城怡福园       2      2       西         其他              0        1   \n",
       "568  怡康温泉新村B区       4      2      东西         其他              0        0   \n",
       "569      鑫都公寓       2      1      东南         其他              0        0   \n",
       "\n",
       "     attention  publishday  unit_price    area  total_price  \n",
       "565          2        19.0      1.5778   90.00        142.0  \n",
       "566          8        19.0      1.5360  153.00        235.0  \n",
       "567          1        19.0      1.4957   77.56        116.0  \n",
       "568          4        19.0      0.9758  132.20        129.0  \n",
       "569          0        19.0      2.1053   76.00        160.0  "
      ]
     },
     "execution_count": 102,
     "metadata": {},
     "output_type": "execute_result"
    }
   ],
   "source": [
    "km_clean.tail()"
   ]
  },
  {
   "cell_type": "code",
   "execution_count": 103,
   "metadata": {},
   "outputs": [
    {
     "data": {
      "text/html": [
       "<div>\n",
       "<style scoped>\n",
       "    .dataframe tbody tr th:only-of-type {\n",
       "        vertical-align: middle;\n",
       "    }\n",
       "\n",
       "    .dataframe tbody tr th {\n",
       "        vertical-align: top;\n",
       "    }\n",
       "\n",
       "    .dataframe thead th {\n",
       "        text-align: right;\n",
       "    }\n",
       "</style>\n",
       "<table border=\"1\" class=\"dataframe\">\n",
       "  <thead>\n",
       "    <tr style=\"text-align: right;\">\n",
       "      <th></th>\n",
       "      <th>region</th>\n",
       "      <th>rooms</th>\n",
       "      <th>halls</th>\n",
       "      <th>towards</th>\n",
       "      <th>decoration</th>\n",
       "      <th>have_elevator</th>\n",
       "      <th>visited</th>\n",
       "      <th>attention</th>\n",
       "      <th>publishday</th>\n",
       "      <th>unit_price</th>\n",
       "      <th>area</th>\n",
       "      <th>total_price</th>\n",
       "    </tr>\n",
       "  </thead>\n",
       "  <tbody>\n",
       "    <tr>\n",
       "      <th>2994</th>\n",
       "      <td>亲亲家园一期</td>\n",
       "      <td>4</td>\n",
       "      <td>3</td>\n",
       "      <td>南北</td>\n",
       "      <td>精装</td>\n",
       "      <td>0</td>\n",
       "      <td>0</td>\n",
       "      <td>6</td>\n",
       "      <td>23.0</td>\n",
       "      <td>2.7059</td>\n",
       "      <td>170.00</td>\n",
       "      <td>460.0</td>\n",
       "    </tr>\n",
       "    <tr>\n",
       "      <th>2995</th>\n",
       "      <td>天阳九筑</td>\n",
       "      <td>5</td>\n",
       "      <td>2</td>\n",
       "      <td>南</td>\n",
       "      <td>精装</td>\n",
       "      <td>1</td>\n",
       "      <td>0</td>\n",
       "      <td>0</td>\n",
       "      <td>23.0</td>\n",
       "      <td>3.8459</td>\n",
       "      <td>135.21</td>\n",
       "      <td>520.0</td>\n",
       "    </tr>\n",
       "    <tr>\n",
       "      <th>2996</th>\n",
       "      <td>西溪蝶园二期</td>\n",
       "      <td>3</td>\n",
       "      <td>2</td>\n",
       "      <td>东</td>\n",
       "      <td>精装</td>\n",
       "      <td>1</td>\n",
       "      <td>0</td>\n",
       "      <td>4</td>\n",
       "      <td>23.0</td>\n",
       "      <td>5.5709</td>\n",
       "      <td>170.53</td>\n",
       "      <td>950.0</td>\n",
       "    </tr>\n",
       "    <tr>\n",
       "      <th>2997</th>\n",
       "      <td>金隅观澜时代天筑</td>\n",
       "      <td>4</td>\n",
       "      <td>2</td>\n",
       "      <td>东南南</td>\n",
       "      <td>精装</td>\n",
       "      <td>1</td>\n",
       "      <td>0</td>\n",
       "      <td>1</td>\n",
       "      <td>23.0</td>\n",
       "      <td>3.1810</td>\n",
       "      <td>136.75</td>\n",
       "      <td>435.0</td>\n",
       "    </tr>\n",
       "    <tr>\n",
       "      <th>2998</th>\n",
       "      <td>竹海水韵</td>\n",
       "      <td>3</td>\n",
       "      <td>2</td>\n",
       "      <td>南北</td>\n",
       "      <td>精装</td>\n",
       "      <td>1</td>\n",
       "      <td>0</td>\n",
       "      <td>16</td>\n",
       "      <td>22.0</td>\n",
       "      <td>2.4686</td>\n",
       "      <td>88.31</td>\n",
       "      <td>218.0</td>\n",
       "    </tr>\n",
       "  </tbody>\n",
       "</table>\n",
       "</div>"
      ],
      "text/plain": [
       "         region  rooms  halls towards decoration  have_elevator  visited  \\\n",
       "2994    亲亲家园一期       4      3      南北         精装              0        0   \n",
       "2995      天阳九筑       5      2       南         精装              1        0   \n",
       "2996    西溪蝶园二期       3      2       东         精装              1        0   \n",
       "2997  金隅观澜时代天筑       4      2     东南南         精装              1        0   \n",
       "2998      竹海水韵       3      2      南北         精装              1        0   \n",
       "\n",
       "      attention  publishday  unit_price    area  total_price  \n",
       "2994          6        23.0      2.7059  170.00        460.0  \n",
       "2995          0        23.0      3.8459  135.21        520.0  \n",
       "2996          4        23.0      5.5709  170.53        950.0  \n",
       "2997          1        23.0      3.1810  136.75        435.0  \n",
       "2998         16        22.0      2.4686   88.31        218.0  "
      ]
     },
     "execution_count": 103,
     "metadata": {},
     "output_type": "execute_result"
    }
   ],
   "source": [
    "hz_clean.tail()"
   ]
  },
  {
   "cell_type": "code",
   "execution_count": 104,
   "metadata": {},
   "outputs": [],
   "source": [
    "# 将清洗后的数据写入文件\n",
    "# km_clean.to_csv(r\"./data/clean/km_house_clean.csv\", index=False)\n",
    "# cd_clean.to_csv(r\"./data/clean/cd_house_clean.csv\", index=False)\n",
    "# hz_clean.to_csv(r\"./data/clean/hz_house_clean.csv\", index=False)\n",
    "# sh_clean.to_csv(r\"./data/clean/sh_house_clean.csv\", index=False)"
   ]
  },
  {
   "cell_type": "code",
   "execution_count": null,
   "metadata": {},
   "outputs": [],
   "source": []
  }
 ],
 "metadata": {
  "kernelspec": {
   "display_name": "Python 3",
   "language": "python",
   "name": "python3"
  },
  "language_info": {
   "codemirror_mode": {
    "name": "ipython",
    "version": 3
   },
   "file_extension": ".py",
   "mimetype": "text/x-python",
   "name": "python",
   "nbconvert_exporter": "python",
   "pygments_lexer": "ipython3",
   "version": "3.6.5"
  }
 },
 "nbformat": 4,
 "nbformat_minor": 2
}
