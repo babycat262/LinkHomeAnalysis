{
 "cells": [
  {
   "cell_type": "markdown",
   "metadata": {},
   "source": [
    "## 假设检验"
   ]
  },
  {
   "cell_type": "code",
   "execution_count": 1,
   "metadata": {},
   "outputs": [],
   "source": [
    "import numpy as np\n",
    "import pandas as pd"
   ]
  },
  {
   "cell_type": "code",
   "execution_count": 2,
   "metadata": {},
   "outputs": [],
   "source": [
    "km = pd.read_csv(r\"./data/clean/km_house_FE.csv\")\n",
    "cd = pd.read_csv(r\"./data/clean/cd_house_FE.csv\")\n",
    "hz = pd.read_csv(r\"./data/clean/hz_house_FE.csv\")\n",
    "sh = pd.read_csv(r\"./data/clean/sh_house_FE.csv\")"
   ]
  },
  {
   "cell_type": "code",
   "execution_count": 3,
   "metadata": {},
   "outputs": [
    {
     "name": "stdout",
     "output_type": "stream",
     "text": [
      "<class 'pandas.core.frame.DataFrame'>\n",
      "RangeIndex: 568 entries, 0 to 567\n",
      "Data columns (total 14 columns):\n",
      "region           568 non-null object\n",
      "city             568 non-null object\n",
      "rooms            568 non-null int64\n",
      "halls            568 non-null int64\n",
      "towards          568 non-null object\n",
      "decoration       568 non-null int64\n",
      "have_elevator    568 non-null int64\n",
      "visited          568 non-null int64\n",
      "attention        568 non-null int64\n",
      "publishday       568 non-null float64\n",
      "popular          568 non-null float64\n",
      "unit_price       568 non-null float64\n",
      "area             568 non-null float64\n",
      "total_price      450 non-null float64\n",
      "dtypes: float64(5), int64(6), object(3)\n",
      "memory usage: 62.2+ KB\n"
     ]
    }
   ],
   "source": [
    "km.info()"
   ]
  },
  {
   "cell_type": "code",
   "execution_count": 4,
   "metadata": {},
   "outputs": [
    {
     "data": {
      "text/html": [
       "<div>\n",
       "<style scoped>\n",
       "    .dataframe tbody tr th:only-of-type {\n",
       "        vertical-align: middle;\n",
       "    }\n",
       "\n",
       "    .dataframe tbody tr th {\n",
       "        vertical-align: top;\n",
       "    }\n",
       "\n",
       "    .dataframe thead th {\n",
       "        text-align: right;\n",
       "    }\n",
       "</style>\n",
       "<table border=\"1\" class=\"dataframe\">\n",
       "  <thead>\n",
       "    <tr style=\"text-align: right;\">\n",
       "      <th></th>\n",
       "      <th>region</th>\n",
       "      <th>city</th>\n",
       "      <th>rooms</th>\n",
       "      <th>halls</th>\n",
       "      <th>towards</th>\n",
       "      <th>decoration</th>\n",
       "      <th>have_elevator</th>\n",
       "      <th>visited</th>\n",
       "      <th>attention</th>\n",
       "      <th>publishday</th>\n",
       "      <th>popular</th>\n",
       "      <th>unit_price</th>\n",
       "      <th>area</th>\n",
       "      <th>total_price</th>\n",
       "    </tr>\n",
       "  </thead>\n",
       "  <tbody>\n",
       "    <tr>\n",
       "      <th>563</th>\n",
       "      <td>滇池卫城橡尚</td>\n",
       "      <td>K</td>\n",
       "      <td>2</td>\n",
       "      <td>2</td>\n",
       "      <td>S N</td>\n",
       "      <td>0</td>\n",
       "      <td>0</td>\n",
       "      <td>2</td>\n",
       "      <td>2</td>\n",
       "      <td>19.0</td>\n",
       "      <td>0.1053</td>\n",
       "      <td>1.5778</td>\n",
       "      <td>90.00</td>\n",
       "      <td>142.0</td>\n",
       "    </tr>\n",
       "    <tr>\n",
       "      <th>564</th>\n",
       "      <td>滇池卫城蓝湾</td>\n",
       "      <td>K</td>\n",
       "      <td>5</td>\n",
       "      <td>3</td>\n",
       "      <td>S</td>\n",
       "      <td>0</td>\n",
       "      <td>0</td>\n",
       "      <td>0</td>\n",
       "      <td>8</td>\n",
       "      <td>19.0</td>\n",
       "      <td>0.1263</td>\n",
       "      <td>1.5360</td>\n",
       "      <td>153.00</td>\n",
       "      <td>235.0</td>\n",
       "    </tr>\n",
       "    <tr>\n",
       "      <th>565</th>\n",
       "      <td>广福城怡福园</td>\n",
       "      <td>K</td>\n",
       "      <td>2</td>\n",
       "      <td>2</td>\n",
       "      <td>W</td>\n",
       "      <td>0</td>\n",
       "      <td>0</td>\n",
       "      <td>1</td>\n",
       "      <td>1</td>\n",
       "      <td>19.0</td>\n",
       "      <td>0.0526</td>\n",
       "      <td>1.4957</td>\n",
       "      <td>77.56</td>\n",
       "      <td>116.0</td>\n",
       "    </tr>\n",
       "    <tr>\n",
       "      <th>566</th>\n",
       "      <td>怡康温泉新村B区</td>\n",
       "      <td>K</td>\n",
       "      <td>4</td>\n",
       "      <td>2</td>\n",
       "      <td>E W</td>\n",
       "      <td>0</td>\n",
       "      <td>0</td>\n",
       "      <td>0</td>\n",
       "      <td>4</td>\n",
       "      <td>19.0</td>\n",
       "      <td>0.0632</td>\n",
       "      <td>0.9758</td>\n",
       "      <td>132.20</td>\n",
       "      <td>129.0</td>\n",
       "    </tr>\n",
       "    <tr>\n",
       "      <th>567</th>\n",
       "      <td>鑫都公寓</td>\n",
       "      <td>K</td>\n",
       "      <td>2</td>\n",
       "      <td>1</td>\n",
       "      <td>SE</td>\n",
       "      <td>0</td>\n",
       "      <td>0</td>\n",
       "      <td>0</td>\n",
       "      <td>0</td>\n",
       "      <td>19.0</td>\n",
       "      <td>0.0000</td>\n",
       "      <td>2.1053</td>\n",
       "      <td>76.00</td>\n",
       "      <td>160.0</td>\n",
       "    </tr>\n",
       "  </tbody>\n",
       "</table>\n",
       "</div>"
      ],
      "text/plain": [
       "        region city  rooms  halls towards  decoration  have_elevator  visited  \\\n",
       "563    滇池卫城橡尚     K      2      2     S N           0              0        2   \n",
       "564    滇池卫城蓝湾     K      5      3       S           0              0        0   \n",
       "565    广福城怡福园     K      2      2       W           0              0        1   \n",
       "566  怡康温泉新村B区     K      4      2     E W           0              0        0   \n",
       "567      鑫都公寓     K      2      1      SE           0              0        0   \n",
       "\n",
       "     attention  publishday  popular  unit_price    area  total_price  \n",
       "563          2        19.0   0.1053      1.5778   90.00        142.0  \n",
       "564          8        19.0   0.1263      1.5360  153.00        235.0  \n",
       "565          1        19.0   0.0526      1.4957   77.56        116.0  \n",
       "566          4        19.0   0.0632      0.9758  132.20        129.0  \n",
       "567          0        19.0   0.0000      2.1053   76.00        160.0  "
      ]
     },
     "execution_count": 4,
     "metadata": {},
     "output_type": "execute_result"
    }
   ],
   "source": [
    "km.tail()"
   ]
  },
  {
   "cell_type": "markdown",
   "metadata": {},
   "source": [
    "## 假设检验\n",
    "\n",
    "### 1.根据数据集提出假设：\n",
    " - 原假设 H_0\n",
    " - 备择假设 H_a\n",
    " \n",
    "### 2.确定检验统计：\n",
    " - 确定检验统计，这将是一个双尾检验，因为不同城市房屋单价只差可能高于或低于0。由于我们不知道标准差(σ)和n是小的，我们将使用t-分布\n",
    "\n",
    "### 3.计算 t 检验统计量和 P_value 值\n",
    "\n",
    "### 显著性水平：\n",
    " - 指定显着性水平是假设检验的重要步骤。它是类型1错误和类型2错误之间的最终平衡。显著性水平 α=0.05。因此，我们的置信区间为(1-α)=95%"
   ]
  },
  {
   "cell_type": "markdown",
   "metadata": {},
   "source": [
    "#### (1) 昆明市 和 成都市 二手房单位面积售价是否有显著差别？\n",
    " - 零假设 H_0: 昆明市 和 成都市 二手房单位面积售价没有显著差别\n",
    " - 备择假设 H_a: 昆明市 和 成都市 二手房单位面积售价有显著差别"
   ]
  },
  {
   "cell_type": "code",
   "execution_count": 5,
   "metadata": {},
   "outputs": [
    {
     "name": "stdout",
     "output_type": "stream",
     "text": [
      "昆明市房屋单位面积售价均值： 1.3474619718309844\n",
      "成都市房屋单位面积售价均值： 1.6728676460767904\n",
      "两室房屋单位面积售价均值差： -0.325405674245806\n"
     ]
    }
   ],
   "source": [
    "# 计算 昆明和成都市房屋单价 unit_price 的均值\n",
    "km_uprice_mean = km.unit_price.mean()\n",
    "cd_uprice_mean = cd.unit_price.mean()\n",
    "print(\"昆明市房屋单位面积售价均值：\", km_uprice_mean)\n",
    "print(\"成都市房屋单位面积售价均值：\", cd_uprice_mean)\n",
    "# 两市 房屋单位面积售价均值差\n",
    "uprice_differ = km_uprice_mean - cd_uprice_mean\n",
    "print(\"两室房屋单位面积售价均值差：\", uprice_differ)\n"
   ]
  },
  {
   "cell_type": "code",
   "execution_count": 6,
   "metadata": {
    "scrolled": true
   },
   "outputs": [
    {
     "name": "stdout",
     "output_type": "stream",
     "text": [
      "昆明市房屋样本单价的均值： 1.3722336666666668\n",
      "成都市房屋样本单价的均值： 1.736413\n",
      "昆明和成都房屋样本单价的均值差： -0.3641793333333332\n"
     ]
    }
   ],
   "source": [
    "## 随机获取 昆明和成都300个单价的样本\n",
    "import random\n",
    "km_sample = random.sample(list(km['unit_price']), 300)\n",
    "cd_sample = random.sample(list(cd['unit_price']), 300)\n",
    "# 样本均值\n",
    "km_sample_mean = np.mean(km_sample)\n",
    "cd_sample_mean = np.mean(cd_sample)\n",
    "\n",
    "print(\"昆明市房屋样本单价的均值：\", km_sample_mean)\n",
    "print(\"成都市房屋样本单价的均值：\", cd_sample_mean)\n",
    "print(\"昆明和成都房屋样本单价的均值差：\", km_sample_mean - cd_sample_mean)"
   ]
  },
  {
   "cell_type": "markdown",
   "metadata": {},
   "source": [
    "### t 统计量的计算公式：\n",
    "## t = (x_mean - u) / (S/sqrt(n))\n",
    "\n",
    "#### 说明：\n",
    " - x_mean: 样本均值\n",
    " - u: 假设的均值\n",
    " - S: 标准差\n",
    " - n: 样本容量\n",
    " \n",
    "#### t-值或t-统计量基本上是测量信号强度(差值)对数据中噪声量(变化)的度量，这就是我们如何在一个样本t检验中计算t值。然而，为了计算两个样本的总体均值，或者在我们的情况下，我们将使用下面的方程。\n",
    " \n",
    " ## t = (x_A - x_B) / sqrt(S *(1/n_A + 1/n_B)^0.5 )\n",
    " - 这里用另一个样本平均数代替我们的假设均值，而两个样本大小对应一个样本大小。\n",
    " - x_A: 样本A的平均值\n",
    " - x_B: 样本B的平均值\n",
    " - n_A | n_B: 这是每组观测的样本数\n",
    " - S: 样本方差"
   ]
  },
  {
   "cell_type": "code",
   "execution_count": 7,
   "metadata": {},
   "outputs": [],
   "source": [
    "import scipy.stats as stats"
   ]
  },
  {
   "cell_type": "code",
   "execution_count": 8,
   "metadata": {},
   "outputs": [
    {
     "name": "stdout",
     "output_type": "stream",
     "text": [
      "双样本t检验的 检验统计量t:  -8.818896994202227\n",
      "双样本t检验的 P-value:  1.2609872194845555e-17\n"
     ]
    }
   ],
   "source": [
    "# 计算独立双样本 t 检验的统计量以及p_value\n",
    "uprice_T = stats.ttest_ind(km_sample, cd_sample).statistic\n",
    "uprice_P = stats.ttest_ind(km_sample, cd_sample).pvalue\n",
    "print(\"双样本t检验的 检验统计量t: \", uprice_T)\n",
    "print(\"双样本t检验的 P-value: \", uprice_P)"
   ]
  },
  {
   "cell_type": "markdown",
   "metadata": {},
   "source": [
    "### 结论：\n",
    "\n",
    " - (1)通过计算结果能看出，t=-8.8189, 表示昆明房产单位面积均价比成都的单位均价 低8.8189倍的标准差; \n",
    " - (2)p=1.261*e-17 远远小于显著性水平α=0.05，可知我们的观测样本具有统计显著性。因此，我们拒绝零假设H_0，而采用备择假设 H_a，即\"昆明市和成都市二手房单位面积售价有显著差别\";差距约为 8.82 倍标准差。"
   ]
  },
  {
   "cell_type": "code",
   "execution_count": null,
   "metadata": {},
   "outputs": [],
   "source": []
  }
 ],
 "metadata": {
  "kernelspec": {
   "display_name": "Python 3",
   "language": "python",
   "name": "python3"
  },
  "language_info": {
   "codemirror_mode": {
    "name": "ipython",
    "version": 3
   },
   "file_extension": ".py",
   "mimetype": "text/x-python",
   "name": "python",
   "nbconvert_exporter": "python",
   "pygments_lexer": "ipython3",
   "version": "3.6.5"
  }
 },
 "nbformat": 4,
 "nbformat_minor": 2
}
