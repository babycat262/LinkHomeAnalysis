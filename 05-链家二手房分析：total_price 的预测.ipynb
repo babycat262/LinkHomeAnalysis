{
 "cells": [
  {
   "cell_type": "code",
   "execution_count": 1,
   "metadata": {},
   "outputs": [],
   "source": [
    "import numpy as np\n",
    "import pandas as pd\n",
    "\n",
    "import warnings\n",
    "warnings.filterwarnings('ignore')"
   ]
  },
  {
   "cell_type": "code",
   "execution_count": 2,
   "metadata": {},
   "outputs": [],
   "source": [
    "house_df = pd.read_csv(r\"./model_data/houses_all_set.csv\", sep=\",\")"
   ]
  },
  {
   "cell_type": "code",
   "execution_count": 3,
   "metadata": {},
   "outputs": [
    {
     "data": {
      "text/html": [
       "<div>\n",
       "<style scoped>\n",
       "    .dataframe tbody tr th:only-of-type {\n",
       "        vertical-align: middle;\n",
       "    }\n",
       "\n",
       "    .dataframe tbody tr th {\n",
       "        vertical-align: top;\n",
       "    }\n",
       "\n",
       "    .dataframe thead th {\n",
       "        text-align: right;\n",
       "    }\n",
       "</style>\n",
       "<table border=\"1\" class=\"dataframe\">\n",
       "  <thead>\n",
       "    <tr style=\"text-align: right;\">\n",
       "      <th></th>\n",
       "      <th>id</th>\n",
       "      <th>region</th>\n",
       "      <th>city</th>\n",
       "      <th>rooms</th>\n",
       "      <th>halls</th>\n",
       "      <th>towards</th>\n",
       "      <th>decoration</th>\n",
       "      <th>have_elevator</th>\n",
       "      <th>visited</th>\n",
       "      <th>attention</th>\n",
       "      <th>publishday</th>\n",
       "      <th>popular</th>\n",
       "      <th>unit_price</th>\n",
       "      <th>area</th>\n",
       "      <th>total_price</th>\n",
       "    </tr>\n",
       "  </thead>\n",
       "  <tbody>\n",
       "    <tr>\n",
       "      <th>0</th>\n",
       "      <td>1</td>\n",
       "      <td>昆明市教工二幼儿园宿舍</td>\n",
       "      <td>K</td>\n",
       "      <td>2</td>\n",
       "      <td>2</td>\n",
       "      <td>SE NW</td>\n",
       "      <td>0</td>\n",
       "      <td>0</td>\n",
       "      <td>6</td>\n",
       "      <td>9</td>\n",
       "      <td>19.0</td>\n",
       "      <td>0.3632</td>\n",
       "      <td>1.3000</td>\n",
       "      <td>50.00</td>\n",
       "      <td>NaN</td>\n",
       "    </tr>\n",
       "    <tr>\n",
       "      <th>1</th>\n",
       "      <td>2</td>\n",
       "      <td>新亚洲体育城星宇园</td>\n",
       "      <td>K</td>\n",
       "      <td>3</td>\n",
       "      <td>2</td>\n",
       "      <td>SE</td>\n",
       "      <td>3</td>\n",
       "      <td>0</td>\n",
       "      <td>0</td>\n",
       "      <td>0</td>\n",
       "      <td>19.0</td>\n",
       "      <td>0.0000</td>\n",
       "      <td>1.3446</td>\n",
       "      <td>119.00</td>\n",
       "      <td>160.0</td>\n",
       "    </tr>\n",
       "    <tr>\n",
       "      <th>2</th>\n",
       "      <td>3</td>\n",
       "      <td>禧瑞都</td>\n",
       "      <td>K</td>\n",
       "      <td>3</td>\n",
       "      <td>2</td>\n",
       "      <td>SE</td>\n",
       "      <td>2</td>\n",
       "      <td>0</td>\n",
       "      <td>0</td>\n",
       "      <td>0</td>\n",
       "      <td>19.0</td>\n",
       "      <td>0.0000</td>\n",
       "      <td>1.1021</td>\n",
       "      <td>147.00</td>\n",
       "      <td>162.0</td>\n",
       "    </tr>\n",
       "    <tr>\n",
       "      <th>3</th>\n",
       "      <td>4</td>\n",
       "      <td>金色交响家园</td>\n",
       "      <td>K</td>\n",
       "      <td>4</td>\n",
       "      <td>2</td>\n",
       "      <td>SE</td>\n",
       "      <td>2</td>\n",
       "      <td>0</td>\n",
       "      <td>1</td>\n",
       "      <td>1</td>\n",
       "      <td>15.0</td>\n",
       "      <td>0.0667</td>\n",
       "      <td>1.4477</td>\n",
       "      <td>105.00</td>\n",
       "      <td>152.0</td>\n",
       "    </tr>\n",
       "    <tr>\n",
       "      <th>4</th>\n",
       "      <td>5</td>\n",
       "      <td>金碧阳光商住楼</td>\n",
       "      <td>K</td>\n",
       "      <td>3</td>\n",
       "      <td>2</td>\n",
       "      <td>S N</td>\n",
       "      <td>0</td>\n",
       "      <td>0</td>\n",
       "      <td>1</td>\n",
       "      <td>3</td>\n",
       "      <td>19.0</td>\n",
       "      <td>0.0842</td>\n",
       "      <td>1.8196</td>\n",
       "      <td>129.15</td>\n",
       "      <td>235.0</td>\n",
       "    </tr>\n",
       "  </tbody>\n",
       "</table>\n",
       "</div>"
      ],
      "text/plain": [
       "   id        region city  rooms  halls towards  decoration  have_elevator  \\\n",
       "0   1  昆明市教工二幼儿园宿舍     K      2      2   SE NW           0              0   \n",
       "1   2    新亚洲体育城星宇园     K      3      2      SE           3              0   \n",
       "2   3          禧瑞都     K      3      2      SE           2              0   \n",
       "3   4       金色交响家园     K      4      2      SE           2              0   \n",
       "4   5      金碧阳光商住楼     K      3      2     S N           0              0   \n",
       "\n",
       "   visited  attention  publishday  popular  unit_price    area  total_price  \n",
       "0        6          9        19.0   0.3632      1.3000   50.00          NaN  \n",
       "1        0          0        19.0   0.0000      1.3446  119.00        160.0  \n",
       "2        0          0        19.0   0.0000      1.1021  147.00        162.0  \n",
       "3        1          1        15.0   0.0667      1.4477  105.00        152.0  \n",
       "4        1          3        19.0   0.0842      1.8196  129.15        235.0  "
      ]
     },
     "execution_count": 3,
     "metadata": {},
     "output_type": "execute_result"
    }
   ],
   "source": [
    "house_df.head()"
   ]
  },
  {
   "cell_type": "markdown",
   "metadata": {},
   "source": [
    "### train_test_split"
   ]
  },
  {
   "cell_type": "code",
   "execution_count": 4,
   "metadata": {},
   "outputs": [],
   "source": [
    "# 以total_price是否为空，将数据分为两部分\n",
    "cond_idx1 = house_df.total_price.notnull()  # total_price NOT NULL\n",
    "cond_idx2 = house_df.total_price.isnull()   # total_price IS NULL\n",
    "\n",
    "tp_notnull = house_df[cond_idx1]\n",
    "tp_isnull  = house_df[cond_idx2]"
   ]
  },
  {
   "cell_type": "code",
   "execution_count": 5,
   "metadata": {},
   "outputs": [],
   "source": [
    "# 将 tp_notnull 和 tp_isnull 写入文件\n",
    "tp_notnull.to_csv(r\"./model_data/house_train.csv\", index=False)\n",
    "tp_isnull.to_csv(r\"./model_data/house_test.csv\", index=False)"
   ]
  },
  {
   "cell_type": "code",
   "execution_count": 6,
   "metadata": {},
   "outputs": [],
   "source": [
    "# DataFrame to ndarray \n",
    "X_train, y_train = np.array(tp_notnull.loc[:, ['unit_price','area']]), np.array(tp_notnull['total_price'])\n",
    "X_test, y_test = np.array(tp_isnull.loc[:, ['unit_price','area']]), np.array(tp_isnull['total_price'])"
   ]
  },
  {
   "cell_type": "code",
   "execution_count": 7,
   "metadata": {},
   "outputs": [
    {
     "data": {
      "text/plain": [
       "(8834, 2)"
      ]
     },
     "execution_count": 7,
     "metadata": {},
     "output_type": "execute_result"
    }
   ],
   "source": [
    "X_train.shape"
   ]
  },
  {
   "cell_type": "code",
   "execution_count": 8,
   "metadata": {},
   "outputs": [
    {
     "data": {
      "text/plain": [
       "array([[ 1.3   , 50.    ],\n",
       "       [ 1.0134, 55.26  ],\n",
       "       [ 0.9767, 93.18  ],\n",
       "       [ 2.4586, 38.64  ],\n",
       "       [ 2.    , 40.    ]])"
      ]
     },
     "execution_count": 8,
     "metadata": {},
     "output_type": "execute_result"
    }
   ],
   "source": [
    "X_test[:5]"
   ]
  },
  {
   "cell_type": "code",
   "execution_count": 9,
   "metadata": {},
   "outputs": [
    {
     "data": {
      "text/plain": [
       "(8834,)"
      ]
     },
     "execution_count": 9,
     "metadata": {},
     "output_type": "execute_result"
    }
   ],
   "source": [
    "y_train.shape"
   ]
  },
  {
   "cell_type": "code",
   "execution_count": 10,
   "metadata": {},
   "outputs": [
    {
     "data": {
      "text/plain": [
       "array([nan, nan, nan, nan, nan])"
      ]
     },
     "execution_count": 10,
     "metadata": {},
     "output_type": "execute_result"
    }
   ],
   "source": [
    "y_test[:5]"
   ]
  },
  {
   "cell_type": "markdown",
   "metadata": {},
   "source": [
    "### 使用多项式回归构建 total_price 的二维特征"
   ]
  },
  {
   "cell_type": "code",
   "execution_count": 11,
   "metadata": {},
   "outputs": [],
   "source": [
    "from sklearn.preprocessing import PolynomialFeatures\n",
    "\n",
    "poly_1 = PolynomialFeatures(degree=2)\n",
    "poly_1.fit(X_train)\n",
    "# 构建训练集 X_train 的二维特征矩阵\n",
    "X_train2 = poly_1.transform(X_train)\n",
    "\n",
    "poly_2 = PolynomialFeatures(degree=2)\n",
    "poly_2.fit(X_test)\n",
    "# 构建测试集 X_test 的二维特征矩阵\n",
    "X_test2 = poly_2.transform(X_test)"
   ]
  },
  {
   "cell_type": "code",
   "execution_count": 12,
   "metadata": {},
   "outputs": [
    {
     "data": {
      "text/plain": [
       "array([[1.00000000e+00, 1.34460000e+00, 1.19000000e+02, 1.80794916e+00,\n",
       "        1.60007400e+02, 1.41610000e+04],\n",
       "       [1.00000000e+00, 1.10210000e+00, 1.47000000e+02, 1.21462441e+00,\n",
       "        1.62008700e+02, 2.16090000e+04],\n",
       "       [1.00000000e+00, 1.44770000e+00, 1.05000000e+02, 2.09583529e+00,\n",
       "        1.52008500e+02, 1.10250000e+04],\n",
       "       [1.00000000e+00, 1.81960000e+00, 1.29150000e+02, 3.31094416e+00,\n",
       "        2.35001340e+02, 1.66797225e+04],\n",
       "       [1.00000000e+00, 1.27230000e+00, 9.43200000e+01, 1.61874729e+00,\n",
       "        1.20003336e+02, 8.89626240e+03]])"
      ]
     },
     "execution_count": 12,
     "metadata": {},
     "output_type": "execute_result"
    }
   ],
   "source": [
    "X_train2[:5]"
   ]
  },
  {
   "cell_type": "code",
   "execution_count": 13,
   "metadata": {},
   "outputs": [
    {
     "data": {
      "text/plain": [
       "array([[1.00000000e+00, 1.30000000e+00, 5.00000000e+01, 1.69000000e+00,\n",
       "        6.50000000e+01, 2.50000000e+03],\n",
       "       [1.00000000e+00, 1.01340000e+00, 5.52600000e+01, 1.02697956e+00,\n",
       "        5.60004840e+01, 3.05366760e+03],\n",
       "       [1.00000000e+00, 9.76700000e-01, 9.31800000e+01, 9.53942890e-01,\n",
       "        9.10089060e+01, 8.68251240e+03],\n",
       "       [1.00000000e+00, 2.45860000e+00, 3.86400000e+01, 6.04471396e+00,\n",
       "        9.50003040e+01, 1.49304960e+03],\n",
       "       [1.00000000e+00, 2.00000000e+00, 4.00000000e+01, 4.00000000e+00,\n",
       "        8.00000000e+01, 1.60000000e+03]])"
      ]
     },
     "execution_count": 13,
     "metadata": {},
     "output_type": "execute_result"
    }
   ],
   "source": [
    "X_test2[:5]"
   ]
  },
  {
   "cell_type": "markdown",
   "metadata": {},
   "source": [
    "### 线性回归预测total_price 缺失值"
   ]
  },
  {
   "cell_type": "code",
   "execution_count": 14,
   "metadata": {},
   "outputs": [],
   "source": [
    "from sklearn.linear_model import LinearRegression\n",
    "\n",
    "# Create an instance\n",
    "lin_reg = LinearRegression()\n",
    "# fit\n",
    "lin_reg.fit(X_train2, y_train)\n",
    "# predict\n",
    "y_predict = lin_reg.predict(X_test2)"
   ]
  },
  {
   "cell_type": "code",
   "execution_count": 15,
   "metadata": {},
   "outputs": [
    {
     "data": {
      "text/plain": [
       "array([64.99732753, 55.99757776, 91.00437235, 94.99817919, 79.99778854,\n",
       "       96.00169512, 67.99968297, 67.99852122, 94.99604105, 89.00197127])"
      ]
     },
     "execution_count": 15,
     "metadata": {},
     "output_type": "execute_result"
    }
   ],
   "source": [
    "y_predict[:10]"
   ]
  },
  {
   "cell_type": "code",
   "execution_count": 16,
   "metadata": {},
   "outputs": [],
   "source": [
    "# 将预测结果转化为 pd.Series，并对每个值四舍五入保留2位小数\n",
    "tprice_pred = pd.DataFrame(data=y_predict, columns=[\"total_price\"], dtype='float64').apply(lambda x: round(x, 2))"
   ]
  },
  {
   "cell_type": "code",
   "execution_count": 17,
   "metadata": {},
   "outputs": [
    {
     "data": {
      "text/html": [
       "<div>\n",
       "<style scoped>\n",
       "    .dataframe tbody tr th:only-of-type {\n",
       "        vertical-align: middle;\n",
       "    }\n",
       "\n",
       "    .dataframe tbody tr th {\n",
       "        vertical-align: top;\n",
       "    }\n",
       "\n",
       "    .dataframe thead th {\n",
       "        text-align: right;\n",
       "    }\n",
       "</style>\n",
       "<table border=\"1\" class=\"dataframe\">\n",
       "  <thead>\n",
       "    <tr style=\"text-align: right;\">\n",
       "      <th></th>\n",
       "      <th>total_price</th>\n",
       "    </tr>\n",
       "  </thead>\n",
       "  <tbody>\n",
       "    <tr>\n",
       "      <th>700</th>\n",
       "      <td>95.0</td>\n",
       "    </tr>\n",
       "    <tr>\n",
       "      <th>701</th>\n",
       "      <td>97.0</td>\n",
       "    </tr>\n",
       "    <tr>\n",
       "      <th>702</th>\n",
       "      <td>96.0</td>\n",
       "    </tr>\n",
       "    <tr>\n",
       "      <th>703</th>\n",
       "      <td>80.0</td>\n",
       "    </tr>\n",
       "    <tr>\n",
       "      <th>704</th>\n",
       "      <td>95.0</td>\n",
       "    </tr>\n",
       "  </tbody>\n",
       "</table>\n",
       "</div>"
      ],
      "text/plain": [
       "     total_price\n",
       "700         95.0\n",
       "701         97.0\n",
       "702         96.0\n",
       "703         80.0\n",
       "704         95.0"
      ]
     },
     "execution_count": 17,
     "metadata": {},
     "output_type": "execute_result"
    }
   ],
   "source": [
    "tprice_pred.head()"
   ]
  },
  {
   "cell_type": "code",
   "execution_count": 18,
   "metadata": {},
   "outputs": [
    {
     "data": {
      "text/plain": [
       "array([[65.  ],\n",
       "       [56.  ],\n",
       "       [91.01],\n",
       "       [95.  ],\n",
       "       [80.  ],\n",
       "       [96.01],\n",
       "       [68.  ],\n",
       "       [68.  ],\n",
       "       [95.  ],\n",
       "       [89.  ]])"
      ]
     },
     "execution_count": 18,
     "metadata": {},
     "output_type": "execute_result"
    }
   ],
   "source": [
    "# ## total_price 的真实值\n",
    "y_true_df = pd.read_csv(r\"./model_data/tprice_missing.csv\", names=['total_price'])\n",
    "\n",
    "y_true = np.array(y_true_df, dtype='float64')\n",
    "y_true[:10]"
   ]
  },
  {
   "cell_type": "code",
   "execution_count": 19,
   "metadata": {
    "scrolled": true
   },
   "outputs": [],
   "source": [
    "# 将total_price的预测结果写入文件\n",
    "# tprice_pred.to_csv(r\"./model_data/predicts/tprice_miss_pred.csv\", index=False)"
   ]
  },
  {
   "cell_type": "code",
   "execution_count": null,
   "metadata": {},
   "outputs": [],
   "source": []
  },
  {
   "cell_type": "code",
   "execution_count": 20,
   "metadata": {},
   "outputs": [],
   "source": [
    "# 重新读入 'train' and 'test' 数据集\n",
    "train2 = pd.read_csv(r\"./model_data/house_train.csv\")\n",
    "test2 = pd.read_csv(r\"./model_data/house_test.csv\")"
   ]
  },
  {
   "cell_type": "code",
   "execution_count": 21,
   "metadata": {},
   "outputs": [
    {
     "name": "stdout",
     "output_type": "stream",
     "text": [
      "<class 'pandas.core.frame.DataFrame'>\n",
      "RangeIndex: 8834 entries, 0 to 8833\n",
      "Data columns (total 15 columns):\n",
      "id               8834 non-null int64\n",
      "region           8834 non-null object\n",
      "city             8834 non-null object\n",
      "rooms            8834 non-null int64\n",
      "halls            8834 non-null int64\n",
      "towards          8834 non-null object\n",
      "decoration       8834 non-null int64\n",
      "have_elevator    8834 non-null int64\n",
      "visited          8834 non-null int64\n",
      "attention        8834 non-null int64\n",
      "publishday       8834 non-null float64\n",
      "popular          8834 non-null float64\n",
      "unit_price       8834 non-null float64\n",
      "area             8834 non-null float64\n",
      "total_price      8834 non-null float64\n",
      "dtypes: float64(5), int64(7), object(3)\n",
      "memory usage: 1.0+ MB\n"
     ]
    }
   ],
   "source": [
    "train2.info()"
   ]
  },
  {
   "cell_type": "code",
   "execution_count": 22,
   "metadata": {},
   "outputs": [
    {
     "name": "stdout",
     "output_type": "stream",
     "text": [
      "<class 'pandas.core.frame.DataFrame'>\n",
      "RangeIndex: 705 entries, 0 to 704\n",
      "Data columns (total 15 columns):\n",
      "id               705 non-null int64\n",
      "region           705 non-null object\n",
      "city             705 non-null object\n",
      "rooms            705 non-null int64\n",
      "halls            705 non-null int64\n",
      "towards          705 non-null object\n",
      "decoration       705 non-null int64\n",
      "have_elevator    705 non-null int64\n",
      "visited          705 non-null int64\n",
      "attention        705 non-null int64\n",
      "publishday       705 non-null float64\n",
      "popular          705 non-null float64\n",
      "unit_price       705 non-null float64\n",
      "area             705 non-null float64\n",
      "total_price      0 non-null float64\n",
      "dtypes: float64(5), int64(7), object(3)\n",
      "memory usage: 82.7+ KB\n"
     ]
    }
   ],
   "source": [
    "test2.info()"
   ]
  },
  {
   "cell_type": "code",
   "execution_count": 23,
   "metadata": {},
   "outputs": [
    {
     "data": {
      "text/html": [
       "<div>\n",
       "<style scoped>\n",
       "    .dataframe tbody tr th:only-of-type {\n",
       "        vertical-align: middle;\n",
       "    }\n",
       "\n",
       "    .dataframe tbody tr th {\n",
       "        vertical-align: top;\n",
       "    }\n",
       "\n",
       "    .dataframe thead th {\n",
       "        text-align: right;\n",
       "    }\n",
       "</style>\n",
       "<table border=\"1\" class=\"dataframe\">\n",
       "  <thead>\n",
       "    <tr style=\"text-align: right;\">\n",
       "      <th></th>\n",
       "      <th>id</th>\n",
       "      <th>region</th>\n",
       "      <th>city</th>\n",
       "      <th>rooms</th>\n",
       "      <th>halls</th>\n",
       "      <th>towards</th>\n",
       "      <th>decoration</th>\n",
       "      <th>have_elevator</th>\n",
       "      <th>visited</th>\n",
       "      <th>attention</th>\n",
       "      <th>publishday</th>\n",
       "      <th>popular</th>\n",
       "      <th>unit_price</th>\n",
       "      <th>area</th>\n",
       "      <th>total_price</th>\n",
       "    </tr>\n",
       "  </thead>\n",
       "  <tbody>\n",
       "    <tr>\n",
       "      <th>700</th>\n",
       "      <td>8894</td>\n",
       "      <td>芦潮港农场西区新村</td>\n",
       "      <td>S</td>\n",
       "      <td>3</td>\n",
       "      <td>2</td>\n",
       "      <td>SE</td>\n",
       "      <td>2</td>\n",
       "      <td>0</td>\n",
       "      <td>2</td>\n",
       "      <td>44</td>\n",
       "      <td>19.2</td>\n",
       "      <td>0.7604</td>\n",
       "      <td>1.3725</td>\n",
       "      <td>69.22</td>\n",
       "      <td>NaN</td>\n",
       "    </tr>\n",
       "    <tr>\n",
       "      <th>701</th>\n",
       "      <td>9104</td>\n",
       "      <td>果园小区</td>\n",
       "      <td>S</td>\n",
       "      <td>1</td>\n",
       "      <td>1</td>\n",
       "      <td>S</td>\n",
       "      <td>1</td>\n",
       "      <td>0</td>\n",
       "      <td>5</td>\n",
       "      <td>9</td>\n",
       "      <td>15.0</td>\n",
       "      <td>0.4133</td>\n",
       "      <td>2.8572</td>\n",
       "      <td>33.95</td>\n",
       "      <td>NaN</td>\n",
       "    </tr>\n",
       "    <tr>\n",
       "      <th>702</th>\n",
       "      <td>9110</td>\n",
       "      <td>松云银座</td>\n",
       "      <td>S</td>\n",
       "      <td>1</td>\n",
       "      <td>1</td>\n",
       "      <td>E</td>\n",
       "      <td>2</td>\n",
       "      <td>1</td>\n",
       "      <td>3</td>\n",
       "      <td>7</td>\n",
       "      <td>31.0</td>\n",
       "      <td>0.1355</td>\n",
       "      <td>2.0875</td>\n",
       "      <td>45.99</td>\n",
       "      <td>NaN</td>\n",
       "    </tr>\n",
       "    <tr>\n",
       "      <th>703</th>\n",
       "      <td>9157</td>\n",
       "      <td>万达广场(松江)</td>\n",
       "      <td>S</td>\n",
       "      <td>1</td>\n",
       "      <td>1</td>\n",
       "      <td>N</td>\n",
       "      <td>0</td>\n",
       "      <td>1</td>\n",
       "      <td>9</td>\n",
       "      <td>2</td>\n",
       "      <td>31.0</td>\n",
       "      <td>0.2226</td>\n",
       "      <td>1.9089</td>\n",
       "      <td>41.91</td>\n",
       "      <td>NaN</td>\n",
       "    </tr>\n",
       "    <tr>\n",
       "      <th>704</th>\n",
       "      <td>9331</td>\n",
       "      <td>解放新村</td>\n",
       "      <td>S</td>\n",
       "      <td>1</td>\n",
       "      <td>1</td>\n",
       "      <td>S</td>\n",
       "      <td>2</td>\n",
       "      <td>0</td>\n",
       "      <td>2</td>\n",
       "      <td>55</td>\n",
       "      <td>19.2</td>\n",
       "      <td>0.9323</td>\n",
       "      <td>2.6761</td>\n",
       "      <td>35.50</td>\n",
       "      <td>NaN</td>\n",
       "    </tr>\n",
       "  </tbody>\n",
       "</table>\n",
       "</div>"
      ],
      "text/plain": [
       "       id      region city  rooms  halls towards  decoration  have_elevator  \\\n",
       "700  8894  芦潮港农场西区新村     S      3      2      SE           2              0   \n",
       "701  9104       果园小区     S      1      1       S           1              0   \n",
       "702  9110       松云银座     S      1      1       E           2              1   \n",
       "703  9157   万达广场(松江)     S      1      1       N           0              1   \n",
       "704  9331       解放新村     S      1      1       S           2              0   \n",
       "\n",
       "     visited  attention  publishday  popular  unit_price   area  total_price  \n",
       "700        2         44        19.2   0.7604      1.3725  69.22          NaN  \n",
       "701        5          9        15.0   0.4133      2.8572  33.95          NaN  \n",
       "702        3          7        31.0   0.1355      2.0875  45.99          NaN  \n",
       "703        9          2        31.0   0.2226      1.9089  41.91          NaN  \n",
       "704        2         55        19.2   0.9323      2.6761  35.50          NaN  "
      ]
     },
     "execution_count": 23,
     "metadata": {},
     "output_type": "execute_result"
    }
   ],
   "source": [
    "test2.tail()"
   ]
  },
  {
   "cell_type": "code",
   "execution_count": 24,
   "metadata": {},
   "outputs": [],
   "source": [
    "# 将测试集 house_test 的 'total_price' 列重新赋值为预测的新数据\n",
    "test2['total_price'] = tprice_pred['total_price']"
   ]
  },
  {
   "cell_type": "code",
   "execution_count": 25,
   "metadata": {},
   "outputs": [
    {
     "name": "stdout",
     "output_type": "stream",
     "text": [
      "<class 'pandas.core.frame.DataFrame'>\n",
      "RangeIndex: 705 entries, 0 to 704\n",
      "Data columns (total 15 columns):\n",
      "id               705 non-null int64\n",
      "region           705 non-null object\n",
      "city             705 non-null object\n",
      "rooms            705 non-null int64\n",
      "halls            705 non-null int64\n",
      "towards          705 non-null object\n",
      "decoration       705 non-null int64\n",
      "have_elevator    705 non-null int64\n",
      "visited          705 non-null int64\n",
      "attention        705 non-null int64\n",
      "publishday       705 non-null float64\n",
      "popular          705 non-null float64\n",
      "unit_price       705 non-null float64\n",
      "area             705 non-null float64\n",
      "total_price      705 non-null float64\n",
      "dtypes: float64(5), int64(7), object(3)\n",
      "memory usage: 82.7+ KB\n"
     ]
    }
   ],
   "source": [
    "test2.info()"
   ]
  },
  {
   "cell_type": "code",
   "execution_count": 26,
   "metadata": {},
   "outputs": [
    {
     "data": {
      "text/html": [
       "<div>\n",
       "<style scoped>\n",
       "    .dataframe tbody tr th:only-of-type {\n",
       "        vertical-align: middle;\n",
       "    }\n",
       "\n",
       "    .dataframe tbody tr th {\n",
       "        vertical-align: top;\n",
       "    }\n",
       "\n",
       "    .dataframe thead th {\n",
       "        text-align: right;\n",
       "    }\n",
       "</style>\n",
       "<table border=\"1\" class=\"dataframe\">\n",
       "  <thead>\n",
       "    <tr style=\"text-align: right;\">\n",
       "      <th></th>\n",
       "      <th>id</th>\n",
       "      <th>region</th>\n",
       "      <th>city</th>\n",
       "      <th>rooms</th>\n",
       "      <th>halls</th>\n",
       "      <th>towards</th>\n",
       "      <th>decoration</th>\n",
       "      <th>have_elevator</th>\n",
       "      <th>visited</th>\n",
       "      <th>attention</th>\n",
       "      <th>publishday</th>\n",
       "      <th>popular</th>\n",
       "      <th>unit_price</th>\n",
       "      <th>area</th>\n",
       "      <th>total_price</th>\n",
       "    </tr>\n",
       "  </thead>\n",
       "  <tbody>\n",
       "    <tr>\n",
       "      <th>269</th>\n",
       "      <td>1572</td>\n",
       "      <td>保利城二期</td>\n",
       "      <td>C</td>\n",
       "      <td>2</td>\n",
       "      <td>2</td>\n",
       "      <td>S</td>\n",
       "      <td>0</td>\n",
       "      <td>1</td>\n",
       "      <td>6</td>\n",
       "      <td>45</td>\n",
       "      <td>18.5</td>\n",
       "      <td>0.9568</td>\n",
       "      <td>1.2338</td>\n",
       "      <td>72.95</td>\n",
       "      <td>90.0</td>\n",
       "    </tr>\n",
       "    <tr>\n",
       "      <th>337</th>\n",
       "      <td>1878</td>\n",
       "      <td>保利城三期</td>\n",
       "      <td>C</td>\n",
       "      <td>2</td>\n",
       "      <td>2</td>\n",
       "      <td>W</td>\n",
       "      <td>1</td>\n",
       "      <td>1</td>\n",
       "      <td>21</td>\n",
       "      <td>56</td>\n",
       "      <td>18.5</td>\n",
       "      <td>1.7027</td>\n",
       "      <td>1.1112</td>\n",
       "      <td>74.70</td>\n",
       "      <td>83.0</td>\n",
       "    </tr>\n",
       "    <tr>\n",
       "      <th>34</th>\n",
       "      <td>159</td>\n",
       "      <td>和谐世纪</td>\n",
       "      <td>K</td>\n",
       "      <td>1</td>\n",
       "      <td>1</td>\n",
       "      <td>SE</td>\n",
       "      <td>0</td>\n",
       "      <td>0</td>\n",
       "      <td>0</td>\n",
       "      <td>1</td>\n",
       "      <td>19.0</td>\n",
       "      <td>0.0158</td>\n",
       "      <td>1.0000</td>\n",
       "      <td>55.00</td>\n",
       "      <td>55.0</td>\n",
       "    </tr>\n",
       "    <tr>\n",
       "      <th>334</th>\n",
       "      <td>1862</td>\n",
       "      <td>石人南路23号</td>\n",
       "      <td>C</td>\n",
       "      <td>2</td>\n",
       "      <td>1</td>\n",
       "      <td>S</td>\n",
       "      <td>0</td>\n",
       "      <td>0</td>\n",
       "      <td>19</td>\n",
       "      <td>99</td>\n",
       "      <td>18.5</td>\n",
       "      <td>2.3243</td>\n",
       "      <td>1.0546</td>\n",
       "      <td>61.64</td>\n",
       "      <td>65.0</td>\n",
       "    </tr>\n",
       "    <tr>\n",
       "      <th>404</th>\n",
       "      <td>2189</td>\n",
       "      <td>格凌兰三期</td>\n",
       "      <td>C</td>\n",
       "      <td>2</td>\n",
       "      <td>2</td>\n",
       "      <td>NE</td>\n",
       "      <td>0</td>\n",
       "      <td>1</td>\n",
       "      <td>12</td>\n",
       "      <td>55</td>\n",
       "      <td>18.5</td>\n",
       "      <td>1.3459</td>\n",
       "      <td>1.1882</td>\n",
       "      <td>71.54</td>\n",
       "      <td>85.0</td>\n",
       "    </tr>\n",
       "    <tr>\n",
       "      <th>236</th>\n",
       "      <td>1310</td>\n",
       "      <td>前锋小区</td>\n",
       "      <td>C</td>\n",
       "      <td>2</td>\n",
       "      <td>1</td>\n",
       "      <td>E</td>\n",
       "      <td>0</td>\n",
       "      <td>0</td>\n",
       "      <td>3</td>\n",
       "      <td>99</td>\n",
       "      <td>18.5</td>\n",
       "      <td>1.7189</td>\n",
       "      <td>1.1176</td>\n",
       "      <td>67.11</td>\n",
       "      <td>75.0</td>\n",
       "    </tr>\n",
       "    <tr>\n",
       "      <th>247</th>\n",
       "      <td>1391</td>\n",
       "      <td>长城宜苑</td>\n",
       "      <td>C</td>\n",
       "      <td>2</td>\n",
       "      <td>1</td>\n",
       "      <td>SE</td>\n",
       "      <td>0</td>\n",
       "      <td>1</td>\n",
       "      <td>11</td>\n",
       "      <td>1</td>\n",
       "      <td>17.0</td>\n",
       "      <td>0.4706</td>\n",
       "      <td>1.4569</td>\n",
       "      <td>48.05</td>\n",
       "      <td>70.0</td>\n",
       "    </tr>\n",
       "    <tr>\n",
       "      <th>22</th>\n",
       "      <td>104</td>\n",
       "      <td>建工新城锦绣园</td>\n",
       "      <td>K</td>\n",
       "      <td>2</td>\n",
       "      <td>2</td>\n",
       "      <td>S</td>\n",
       "      <td>0</td>\n",
       "      <td>0</td>\n",
       "      <td>1</td>\n",
       "      <td>0</td>\n",
       "      <td>26.0</td>\n",
       "      <td>0.0269</td>\n",
       "      <td>1.0682</td>\n",
       "      <td>88.00</td>\n",
       "      <td>94.0</td>\n",
       "    </tr>\n",
       "    <tr>\n",
       "      <th>254</th>\n",
       "      <td>1506</td>\n",
       "      <td>新风路39号</td>\n",
       "      <td>C</td>\n",
       "      <td>2</td>\n",
       "      <td>1</td>\n",
       "      <td>SE</td>\n",
       "      <td>2</td>\n",
       "      <td>0</td>\n",
       "      <td>0</td>\n",
       "      <td>22</td>\n",
       "      <td>18.5</td>\n",
       "      <td>0.3568</td>\n",
       "      <td>1.3536</td>\n",
       "      <td>67.23</td>\n",
       "      <td>91.0</td>\n",
       "    </tr>\n",
       "    <tr>\n",
       "      <th>150</th>\n",
       "      <td>790</td>\n",
       "      <td>抚琴东南路1号</td>\n",
       "      <td>C</td>\n",
       "      <td>2</td>\n",
       "      <td>1</td>\n",
       "      <td>S</td>\n",
       "      <td>2</td>\n",
       "      <td>0</td>\n",
       "      <td>10</td>\n",
       "      <td>138</td>\n",
       "      <td>18.5</td>\n",
       "      <td>2.6162</td>\n",
       "      <td>1.1685</td>\n",
       "      <td>55.63</td>\n",
       "      <td>65.0</td>\n",
       "    </tr>\n",
       "  </tbody>\n",
       "</table>\n",
       "</div>"
      ],
      "text/plain": [
       "       id    region city  rooms  halls towards  decoration  have_elevator  \\\n",
       "269  1572    保利城二期     C      2      2       S           0              1   \n",
       "337  1878    保利城三期     C      2      2       W           1              1   \n",
       "34    159     和谐世纪     K      1      1      SE           0              0   \n",
       "334  1862  石人南路23号     C      2      1       S           0              0   \n",
       "404  2189    格凌兰三期     C      2      2      NE           0              1   \n",
       "236  1310     前锋小区     C      2      1       E           0              0   \n",
       "247  1391     长城宜苑     C      2      1      SE           0              1   \n",
       "22    104  建工新城锦绣园     K      2      2       S           0              0   \n",
       "254  1506   新风路39号     C      2      1      SE           2              0   \n",
       "150   790  抚琴东南路1号     C      2      1       S           2              0   \n",
       "\n",
       "     visited  attention  publishday  popular  unit_price   area  total_price  \n",
       "269        6         45        18.5   0.9568      1.2338  72.95         90.0  \n",
       "337       21         56        18.5   1.7027      1.1112  74.70         83.0  \n",
       "34         0          1        19.0   0.0158      1.0000  55.00         55.0  \n",
       "334       19         99        18.5   2.3243      1.0546  61.64         65.0  \n",
       "404       12         55        18.5   1.3459      1.1882  71.54         85.0  \n",
       "236        3         99        18.5   1.7189      1.1176  67.11         75.0  \n",
       "247       11          1        17.0   0.4706      1.4569  48.05         70.0  \n",
       "22         1          0        26.0   0.0269      1.0682  88.00         94.0  \n",
       "254        0         22        18.5   0.3568      1.3536  67.23         91.0  \n",
       "150       10        138        18.5   2.6162      1.1685  55.63         65.0  "
      ]
     },
     "execution_count": 26,
     "metadata": {},
     "output_type": "execute_result"
    }
   ],
   "source": [
    "test2.sample(10)"
   ]
  },
  {
   "cell_type": "code",
   "execution_count": 27,
   "metadata": {},
   "outputs": [],
   "source": [
    "# 将训练集 train2 和测试集 test2 整合为一个总的数据集\n",
    "house_pred_all = pd.concat([train2, test2], axis=0)"
   ]
  },
  {
   "cell_type": "code",
   "execution_count": 28,
   "metadata": {},
   "outputs": [
    {
     "name": "stdout",
     "output_type": "stream",
     "text": [
      "<class 'pandas.core.frame.DataFrame'>\n",
      "Int64Index: 9539 entries, 0 to 704\n",
      "Data columns (total 15 columns):\n",
      "id               9539 non-null int64\n",
      "region           9539 non-null object\n",
      "city             9539 non-null object\n",
      "rooms            9539 non-null int64\n",
      "halls            9539 non-null int64\n",
      "towards          9539 non-null object\n",
      "decoration       9539 non-null int64\n",
      "have_elevator    9539 non-null int64\n",
      "visited          9539 non-null int64\n",
      "attention        9539 non-null int64\n",
      "publishday       9539 non-null float64\n",
      "popular          9539 non-null float64\n",
      "unit_price       9539 non-null float64\n",
      "area             9539 non-null float64\n",
      "total_price      9539 non-null float64\n",
      "dtypes: float64(5), int64(7), object(3)\n",
      "memory usage: 1.2+ MB\n"
     ]
    }
   ],
   "source": [
    "house_pred_all.info()"
   ]
  },
  {
   "cell_type": "code",
   "execution_count": 29,
   "metadata": {},
   "outputs": [],
   "source": [
    "# 将预测后的全部数据写入文件\n",
    "# house_pred_all.to_csv(r\"./model_data/predicts/houses_pred_all.csv\", index=False)"
   ]
  },
  {
   "cell_type": "code",
   "execution_count": null,
   "metadata": {},
   "outputs": [],
   "source": []
  }
 ],
 "metadata": {
  "kernelspec": {
   "display_name": "Python 3",
   "language": "python",
   "name": "python3"
  },
  "language_info": {
   "codemirror_mode": {
    "name": "ipython",
    "version": 3
   },
   "file_extension": ".py",
   "mimetype": "text/x-python",
   "name": "python",
   "nbconvert_exporter": "python",
   "pygments_lexer": "ipython3",
   "version": "3.6.5"
  }
 },
 "nbformat": 4,
 "nbformat_minor": 2
}
